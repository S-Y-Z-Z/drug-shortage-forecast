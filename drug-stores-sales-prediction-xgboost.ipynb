{
 "cells": [
  {
   "cell_type": "markdown",
   "id": "9fb2145e",
   "metadata": {
    "papermill": {
     "duration": 0.06717,
     "end_time": "2021-07-28T19:26:02.214926",
     "exception": false,
     "start_time": "2021-07-28T19:26:02.147756",
     "status": "completed"
    },
    "tags": []
   },
   "source": [
    "## Problem Statement\n",
    "\n",
    "Rossmann operates over 3,000 drug stores in 7 European countries. Currently, Rossmann store managers are tasked with predicting their daily sales for up to six weeks in advance. Store sales are influenced by many factors, including promotions, competition, school and state holidays, seasonality, and locality. \n",
    "\n",
    "\n",
    "With thousands of individual managers predicting sales based on their unique circumstances, the accuracy of results can be quite varied. You are provided with historical sales data for 1,115 Rossmann stores. The task is to forecast the \"Sales\" column for the test set. \n",
    "\n",
    "<b>Note</b>: Some stores in the dataset were temporarily closed for refurbishment.\n",
    "\n",
    "View and download the data here: https://www.kaggle.com/c/rossmann-store-sales/data\n",
    "\n",
    "<b> Files</b><br>\n",
    "train.csv - historical data including Sales<br>\n",
    "test.csv - historical data excluding Sales<br>\n",
    "sample_submission.csv - a sample submission file in the correct format<br>\n",
    "store.csv - supplemental information about the stores<br>\n",
    "\n",
    "<b>Data fields</b>\n",
    "Most of the fields are self-explanatory. The following are descriptions for those that aren't.<br>\n",
    "\n",
    "Id - an Id that represents a (Store, Date) duple within the test set<br>\n",
    "Store - a unique Id for each store<br>\n",
    "Sales - the turnover for any given day (this is what you are predicting)<br>\n",
    "Customers - the number of customers on a given day<br>\n",
    "Open - an indicator for whether the store was open: 0 = closed, 1 = open<br>\n",
    "StateHoliday - indicates a state holiday. Normally all stores, with few exceptions, are closed on state holidays. Note that all schools are closed on public holidays and weekends. a = public holiday, b = Easter holiday, c = Christmas, 0 = None<br>\n",
    "SchoolHoliday - indicates if the (Store, Date) was affected by the closure of public schools<br>\n",
    "StoreType - differentiates between 4 different store models: a, b, c, d<br>\n",
    "Assortment - describes an assortment level: a = basic, b = extra, c = extended<br>\n",
    "CompetitionDistance - distance in meters to the nearest competitor store<br>\n",
    "CompetitionOpenSince[Month/Year] - gives the approximate year and month of the time the nearest competitor was opened<br>\n",
    "Promo - indicates whether a store is running a promo on that day<br>\n",
    "Promo2 - Promo2 is a continuing and consecutive promotion for some stores: 0 = store is not participating, 1 = store is participating<br>\n",
    "Promo2Since[Year/Week] - describes the year and calendar week when the store started participating in Promo2<br>\n",
    "PromoInterval - describes the consecutive intervals Promo2 is started, naming the months the promotion is started anew. E.g. \"Feb,May,Aug,Nov\" means each round starts in February, May, August, November of any given year for that store"
   ]
  },
  {
   "cell_type": "markdown",
   "id": "b3cb7bc3",
   "metadata": {
    "papermill": {
     "duration": 0.061684,
     "end_time": "2021-07-28T19:26:02.340127",
     "exception": false,
     "start_time": "2021-07-28T19:26:02.278443",
     "status": "completed"
    },
    "tags": []
   },
   "source": [
    "# Import Libraries"
   ]
  },
  {
   "cell_type": "code",
   "execution_count": 195,
   "id": "61128978",
   "metadata": {
    "execution": {
     "iopub.execute_input": "2021-07-28T19:26:02.482902Z",
     "iopub.status.busy": "2021-07-28T19:26:02.482092Z",
     "iopub.status.idle": "2021-07-28T19:26:03.624006Z",
     "shell.execute_reply": "2021-07-28T19:26:03.622945Z"
    },
    "papermill": {
     "duration": 1.220895,
     "end_time": "2021-07-28T19:26:03.624168",
     "exception": false,
     "start_time": "2021-07-28T19:26:02.403273",
     "status": "completed"
    },
    "tags": []
   },
   "outputs": [],
   "source": [
    "import pandas as pd\n",
    "from sklearn.preprocessing import MinMaxScaler, OneHotEncoder\n",
    "from xgboost import XGBRegressor\n",
    "from sklearn.metrics import mean_squared_error\n",
    "import matplotlib.pyplot as plt\n",
    "from xgboost import plot_tree\n",
    "from matplotlib.pylab import rcParams\n",
    "%matplotlib inline\n",
    "import seaborn as sns\n",
    "from sklearn.model_selection import KFold\n",
    "import numpy as np\n",
    "from sklearn.model_selection import train_test_split\n",
    "import joblib"
   ]
  },
  {
   "cell_type": "markdown",
   "id": "28038143",
   "metadata": {
    "papermill": {
     "duration": 0.074546,
     "end_time": "2021-07-28T19:26:03.761525",
     "exception": false,
     "start_time": "2021-07-28T19:26:03.686979",
     "status": "completed"
    },
    "tags": []
   },
   "source": [
    "#### Configurations"
   ]
  },
  {
   "cell_type": "code",
   "execution_count": 196,
   "id": "d9d80d9a",
   "metadata": {
    "execution": {
     "iopub.execute_input": "2021-07-28T19:26:03.900347Z",
     "iopub.status.busy": "2021-07-28T19:26:03.899651Z",
     "iopub.status.idle": "2021-07-28T19:26:03.902036Z",
     "shell.execute_reply": "2021-07-28T19:26:03.901546Z"
    },
    "papermill": {
     "duration": 0.069051,
     "end_time": "2021-07-28T19:26:03.902194",
     "exception": false,
     "start_time": "2021-07-28T19:26:03.833143",
     "status": "completed"
    },
    "tags": []
   },
   "outputs": [],
   "source": [
    "pd.set_option('display.max_columns',120)\n",
    "pd.set_option('display.max_rows',120)"
   ]
  },
  {
   "cell_type": "markdown",
   "id": "160523a6",
   "metadata": {
    "papermill": {
     "duration": 0.061948,
     "end_time": "2021-07-28T19:26:04.027157",
     "exception": false,
     "start_time": "2021-07-28T19:26:03.965209",
     "status": "completed"
    },
    "tags": []
   },
   "source": [
    "# Import Datasets"
   ]
  },
  {
   "cell_type": "code",
   "execution_count": 197,
   "id": "0ffe97a7",
   "metadata": {
    "execution": {
     "iopub.execute_input": "2021-07-28T19:26:04.158914Z",
     "iopub.status.busy": "2021-07-28T19:26:04.158071Z",
     "iopub.status.idle": "2021-07-28T19:26:05.472983Z",
     "shell.execute_reply": "2021-07-28T19:26:05.472415Z"
    },
    "papermill": {
     "duration": 1.383371,
     "end_time": "2021-07-28T19:26:05.473131",
     "exception": false,
     "start_time": "2021-07-28T19:26:04.089760",
     "status": "completed"
    },
    "tags": []
   },
   "outputs": [],
   "source": [
    "ross_df = pd.read_csv('./input/rossmann-store-sales/train.csv', low_memory=False)\n",
    "store_df = pd.read_csv('./input/rossmann-store-sales/store.csv')\n",
    "test_df = pd.read_csv('./input/rossmann-store-sales/test.csv')\n",
    "submission_df = pd.read_csv('./input/rossmann-store-sales/sample_submission.csv')"
   ]
  },
  {
   "cell_type": "code",
   "execution_count": 198,
   "id": "1467d04a",
   "metadata": {
    "execution": {
     "iopub.execute_input": "2021-07-28T19:26:05.617940Z",
     "iopub.status.busy": "2021-07-28T19:26:05.617243Z",
     "iopub.status.idle": "2021-07-28T19:26:05.639436Z",
     "shell.execute_reply": "2021-07-28T19:26:05.639957Z"
    },
    "papermill": {
     "duration": 0.103044,
     "end_time": "2021-07-28T19:26:05.640134",
     "exception": false,
     "start_time": "2021-07-28T19:26:05.537090",
     "status": "completed"
    },
    "tags": []
   },
   "outputs": [
    {
     "data": {
      "text/html": [
       "<div>\n",
       "<style scoped>\n",
       "    .dataframe tbody tr th:only-of-type {\n",
       "        vertical-align: middle;\n",
       "    }\n",
       "\n",
       "    .dataframe tbody tr th {\n",
       "        vertical-align: top;\n",
       "    }\n",
       "\n",
       "    .dataframe thead th {\n",
       "        text-align: right;\n",
       "    }\n",
       "</style>\n",
       "<table border=\"1\" class=\"dataframe\">\n",
       "  <thead>\n",
       "    <tr style=\"text-align: right;\">\n",
       "      <th></th>\n",
       "      <th>Store</th>\n",
       "      <th>DayOfWeek</th>\n",
       "      <th>Date</th>\n",
       "      <th>Sales</th>\n",
       "      <th>Customers</th>\n",
       "      <th>Open</th>\n",
       "      <th>Promo</th>\n",
       "      <th>StateHoliday</th>\n",
       "      <th>SchoolHoliday</th>\n",
       "    </tr>\n",
       "  </thead>\n",
       "  <tbody>\n",
       "    <tr>\n",
       "      <th>0</th>\n",
       "      <td>1</td>\n",
       "      <td>5</td>\n",
       "      <td>2015-07-31</td>\n",
       "      <td>5263</td>\n",
       "      <td>555</td>\n",
       "      <td>1</td>\n",
       "      <td>1</td>\n",
       "      <td>0</td>\n",
       "      <td>1</td>\n",
       "    </tr>\n",
       "    <tr>\n",
       "      <th>1</th>\n",
       "      <td>2</td>\n",
       "      <td>5</td>\n",
       "      <td>2015-07-31</td>\n",
       "      <td>6064</td>\n",
       "      <td>625</td>\n",
       "      <td>1</td>\n",
       "      <td>1</td>\n",
       "      <td>0</td>\n",
       "      <td>1</td>\n",
       "    </tr>\n",
       "    <tr>\n",
       "      <th>2</th>\n",
       "      <td>3</td>\n",
       "      <td>5</td>\n",
       "      <td>2015-07-31</td>\n",
       "      <td>8314</td>\n",
       "      <td>821</td>\n",
       "      <td>1</td>\n",
       "      <td>1</td>\n",
       "      <td>0</td>\n",
       "      <td>1</td>\n",
       "    </tr>\n",
       "    <tr>\n",
       "      <th>3</th>\n",
       "      <td>4</td>\n",
       "      <td>5</td>\n",
       "      <td>2015-07-31</td>\n",
       "      <td>13995</td>\n",
       "      <td>1498</td>\n",
       "      <td>1</td>\n",
       "      <td>1</td>\n",
       "      <td>0</td>\n",
       "      <td>1</td>\n",
       "    </tr>\n",
       "    <tr>\n",
       "      <th>4</th>\n",
       "      <td>5</td>\n",
       "      <td>5</td>\n",
       "      <td>2015-07-31</td>\n",
       "      <td>4822</td>\n",
       "      <td>559</td>\n",
       "      <td>1</td>\n",
       "      <td>1</td>\n",
       "      <td>0</td>\n",
       "      <td>1</td>\n",
       "    </tr>\n",
       "    <tr>\n",
       "      <th>...</th>\n",
       "      <td>...</td>\n",
       "      <td>...</td>\n",
       "      <td>...</td>\n",
       "      <td>...</td>\n",
       "      <td>...</td>\n",
       "      <td>...</td>\n",
       "      <td>...</td>\n",
       "      <td>...</td>\n",
       "      <td>...</td>\n",
       "    </tr>\n",
       "    <tr>\n",
       "      <th>1017204</th>\n",
       "      <td>1111</td>\n",
       "      <td>2</td>\n",
       "      <td>2013-01-01</td>\n",
       "      <td>0</td>\n",
       "      <td>0</td>\n",
       "      <td>0</td>\n",
       "      <td>0</td>\n",
       "      <td>a</td>\n",
       "      <td>1</td>\n",
       "    </tr>\n",
       "    <tr>\n",
       "      <th>1017205</th>\n",
       "      <td>1112</td>\n",
       "      <td>2</td>\n",
       "      <td>2013-01-01</td>\n",
       "      <td>0</td>\n",
       "      <td>0</td>\n",
       "      <td>0</td>\n",
       "      <td>0</td>\n",
       "      <td>a</td>\n",
       "      <td>1</td>\n",
       "    </tr>\n",
       "    <tr>\n",
       "      <th>1017206</th>\n",
       "      <td>1113</td>\n",
       "      <td>2</td>\n",
       "      <td>2013-01-01</td>\n",
       "      <td>0</td>\n",
       "      <td>0</td>\n",
       "      <td>0</td>\n",
       "      <td>0</td>\n",
       "      <td>a</td>\n",
       "      <td>1</td>\n",
       "    </tr>\n",
       "    <tr>\n",
       "      <th>1017207</th>\n",
       "      <td>1114</td>\n",
       "      <td>2</td>\n",
       "      <td>2013-01-01</td>\n",
       "      <td>0</td>\n",
       "      <td>0</td>\n",
       "      <td>0</td>\n",
       "      <td>0</td>\n",
       "      <td>a</td>\n",
       "      <td>1</td>\n",
       "    </tr>\n",
       "    <tr>\n",
       "      <th>1017208</th>\n",
       "      <td>1115</td>\n",
       "      <td>2</td>\n",
       "      <td>2013-01-01</td>\n",
       "      <td>0</td>\n",
       "      <td>0</td>\n",
       "      <td>0</td>\n",
       "      <td>0</td>\n",
       "      <td>a</td>\n",
       "      <td>1</td>\n",
       "    </tr>\n",
       "  </tbody>\n",
       "</table>\n",
       "<p>1017209 rows × 9 columns</p>\n",
       "</div>"
      ],
      "text/plain": [
       "         Store  DayOfWeek        Date  Sales  Customers  Open  Promo  \\\n",
       "0            1          5  2015-07-31   5263        555     1      1   \n",
       "1            2          5  2015-07-31   6064        625     1      1   \n",
       "2            3          5  2015-07-31   8314        821     1      1   \n",
       "3            4          5  2015-07-31  13995       1498     1      1   \n",
       "4            5          5  2015-07-31   4822        559     1      1   \n",
       "...        ...        ...         ...    ...        ...   ...    ...   \n",
       "1017204   1111          2  2013-01-01      0          0     0      0   \n",
       "1017205   1112          2  2013-01-01      0          0     0      0   \n",
       "1017206   1113          2  2013-01-01      0          0     0      0   \n",
       "1017207   1114          2  2013-01-01      0          0     0      0   \n",
       "1017208   1115          2  2013-01-01      0          0     0      0   \n",
       "\n",
       "        StateHoliday  SchoolHoliday  \n",
       "0                  0              1  \n",
       "1                  0              1  \n",
       "2                  0              1  \n",
       "3                  0              1  \n",
       "4                  0              1  \n",
       "...              ...            ...  \n",
       "1017204            a              1  \n",
       "1017205            a              1  \n",
       "1017206            a              1  \n",
       "1017207            a              1  \n",
       "1017208            a              1  \n",
       "\n",
       "[1017209 rows x 9 columns]"
      ]
     },
     "execution_count": 198,
     "metadata": {},
     "output_type": "execute_result"
    }
   ],
   "source": [
    "ross_df"
   ]
  },
  {
   "cell_type": "code",
   "execution_count": 199,
   "id": "a539b253",
   "metadata": {
    "execution": {
     "iopub.execute_input": "2021-07-28T19:26:05.783279Z",
     "iopub.status.busy": "2021-07-28T19:26:05.779413Z",
     "iopub.status.idle": "2021-07-28T19:26:05.796163Z",
     "shell.execute_reply": "2021-07-28T19:26:05.796681Z"
    },
    "papermill": {
     "duration": 0.090419,
     "end_time": "2021-07-28T19:26:05.796885",
     "exception": false,
     "start_time": "2021-07-28T19:26:05.706466",
     "status": "completed"
    },
    "tags": []
   },
   "outputs": [
    {
     "data": {
      "text/html": [
       "<div>\n",
       "<style scoped>\n",
       "    .dataframe tbody tr th:only-of-type {\n",
       "        vertical-align: middle;\n",
       "    }\n",
       "\n",
       "    .dataframe tbody tr th {\n",
       "        vertical-align: top;\n",
       "    }\n",
       "\n",
       "    .dataframe thead th {\n",
       "        text-align: right;\n",
       "    }\n",
       "</style>\n",
       "<table border=\"1\" class=\"dataframe\">\n",
       "  <thead>\n",
       "    <tr style=\"text-align: right;\">\n",
       "      <th></th>\n",
       "      <th>Id</th>\n",
       "      <th>Store</th>\n",
       "      <th>DayOfWeek</th>\n",
       "      <th>Date</th>\n",
       "      <th>Open</th>\n",
       "      <th>Promo</th>\n",
       "      <th>StateHoliday</th>\n",
       "      <th>SchoolHoliday</th>\n",
       "    </tr>\n",
       "  </thead>\n",
       "  <tbody>\n",
       "    <tr>\n",
       "      <th>0</th>\n",
       "      <td>1</td>\n",
       "      <td>1</td>\n",
       "      <td>4</td>\n",
       "      <td>2015-09-17</td>\n",
       "      <td>1.0</td>\n",
       "      <td>1</td>\n",
       "      <td>0</td>\n",
       "      <td>0</td>\n",
       "    </tr>\n",
       "    <tr>\n",
       "      <th>1</th>\n",
       "      <td>2</td>\n",
       "      <td>3</td>\n",
       "      <td>4</td>\n",
       "      <td>2015-09-17</td>\n",
       "      <td>1.0</td>\n",
       "      <td>1</td>\n",
       "      <td>0</td>\n",
       "      <td>0</td>\n",
       "    </tr>\n",
       "    <tr>\n",
       "      <th>2</th>\n",
       "      <td>3</td>\n",
       "      <td>7</td>\n",
       "      <td>4</td>\n",
       "      <td>2015-09-17</td>\n",
       "      <td>1.0</td>\n",
       "      <td>1</td>\n",
       "      <td>0</td>\n",
       "      <td>0</td>\n",
       "    </tr>\n",
       "    <tr>\n",
       "      <th>3</th>\n",
       "      <td>4</td>\n",
       "      <td>8</td>\n",
       "      <td>4</td>\n",
       "      <td>2015-09-17</td>\n",
       "      <td>1.0</td>\n",
       "      <td>1</td>\n",
       "      <td>0</td>\n",
       "      <td>0</td>\n",
       "    </tr>\n",
       "    <tr>\n",
       "      <th>4</th>\n",
       "      <td>5</td>\n",
       "      <td>9</td>\n",
       "      <td>4</td>\n",
       "      <td>2015-09-17</td>\n",
       "      <td>1.0</td>\n",
       "      <td>1</td>\n",
       "      <td>0</td>\n",
       "      <td>0</td>\n",
       "    </tr>\n",
       "    <tr>\n",
       "      <th>...</th>\n",
       "      <td>...</td>\n",
       "      <td>...</td>\n",
       "      <td>...</td>\n",
       "      <td>...</td>\n",
       "      <td>...</td>\n",
       "      <td>...</td>\n",
       "      <td>...</td>\n",
       "      <td>...</td>\n",
       "    </tr>\n",
       "    <tr>\n",
       "      <th>41083</th>\n",
       "      <td>41084</td>\n",
       "      <td>1111</td>\n",
       "      <td>6</td>\n",
       "      <td>2015-08-01</td>\n",
       "      <td>1.0</td>\n",
       "      <td>0</td>\n",
       "      <td>0</td>\n",
       "      <td>0</td>\n",
       "    </tr>\n",
       "    <tr>\n",
       "      <th>41084</th>\n",
       "      <td>41085</td>\n",
       "      <td>1112</td>\n",
       "      <td>6</td>\n",
       "      <td>2015-08-01</td>\n",
       "      <td>1.0</td>\n",
       "      <td>0</td>\n",
       "      <td>0</td>\n",
       "      <td>0</td>\n",
       "    </tr>\n",
       "    <tr>\n",
       "      <th>41085</th>\n",
       "      <td>41086</td>\n",
       "      <td>1113</td>\n",
       "      <td>6</td>\n",
       "      <td>2015-08-01</td>\n",
       "      <td>1.0</td>\n",
       "      <td>0</td>\n",
       "      <td>0</td>\n",
       "      <td>0</td>\n",
       "    </tr>\n",
       "    <tr>\n",
       "      <th>41086</th>\n",
       "      <td>41087</td>\n",
       "      <td>1114</td>\n",
       "      <td>6</td>\n",
       "      <td>2015-08-01</td>\n",
       "      <td>1.0</td>\n",
       "      <td>0</td>\n",
       "      <td>0</td>\n",
       "      <td>0</td>\n",
       "    </tr>\n",
       "    <tr>\n",
       "      <th>41087</th>\n",
       "      <td>41088</td>\n",
       "      <td>1115</td>\n",
       "      <td>6</td>\n",
       "      <td>2015-08-01</td>\n",
       "      <td>1.0</td>\n",
       "      <td>0</td>\n",
       "      <td>0</td>\n",
       "      <td>1</td>\n",
       "    </tr>\n",
       "  </tbody>\n",
       "</table>\n",
       "<p>41088 rows × 8 columns</p>\n",
       "</div>"
      ],
      "text/plain": [
       "          Id  Store  DayOfWeek        Date  Open  Promo StateHoliday  \\\n",
       "0          1      1          4  2015-09-17   1.0      1            0   \n",
       "1          2      3          4  2015-09-17   1.0      1            0   \n",
       "2          3      7          4  2015-09-17   1.0      1            0   \n",
       "3          4      8          4  2015-09-17   1.0      1            0   \n",
       "4          5      9          4  2015-09-17   1.0      1            0   \n",
       "...      ...    ...        ...         ...   ...    ...          ...   \n",
       "41083  41084   1111          6  2015-08-01   1.0      0            0   \n",
       "41084  41085   1112          6  2015-08-01   1.0      0            0   \n",
       "41085  41086   1113          6  2015-08-01   1.0      0            0   \n",
       "41086  41087   1114          6  2015-08-01   1.0      0            0   \n",
       "41087  41088   1115          6  2015-08-01   1.0      0            0   \n",
       "\n",
       "       SchoolHoliday  \n",
       "0                  0  \n",
       "1                  0  \n",
       "2                  0  \n",
       "3                  0  \n",
       "4                  0  \n",
       "...              ...  \n",
       "41083              0  \n",
       "41084              0  \n",
       "41085              0  \n",
       "41086              0  \n",
       "41087              1  \n",
       "\n",
       "[41088 rows x 8 columns]"
      ]
     },
     "execution_count": 199,
     "metadata": {},
     "output_type": "execute_result"
    }
   ],
   "source": [
    "test_df"
   ]
  },
  {
   "cell_type": "markdown",
   "id": "b721fb08",
   "metadata": {
    "papermill": {
     "duration": 0.064262,
     "end_time": "2021-07-28T19:26:05.926501",
     "exception": false,
     "start_time": "2021-07-28T19:26:05.862239",
     "status": "completed"
    },
    "tags": []
   },
   "source": [
    "<b>Note :</b>\n",
    "Customers column is present in train set(ross_df) but not in test set.<br>\n",
    "Sales column is the target column."
   ]
  },
  {
   "cell_type": "code",
   "execution_count": 200,
   "id": "43fe1914",
   "metadata": {
    "execution": {
     "iopub.execute_input": "2021-07-28T19:26:06.061181Z",
     "iopub.status.busy": "2021-07-28T19:26:06.060443Z",
     "iopub.status.idle": "2021-07-28T19:26:06.070840Z",
     "shell.execute_reply": "2021-07-28T19:26:06.071316Z"
    },
    "papermill": {
     "duration": 0.079628,
     "end_time": "2021-07-28T19:26:06.071500",
     "exception": false,
     "start_time": "2021-07-28T19:26:05.991872",
     "status": "completed"
    },
    "tags": []
   },
   "outputs": [
    {
     "data": {
      "text/html": [
       "<div>\n",
       "<style scoped>\n",
       "    .dataframe tbody tr th:only-of-type {\n",
       "        vertical-align: middle;\n",
       "    }\n",
       "\n",
       "    .dataframe tbody tr th {\n",
       "        vertical-align: top;\n",
       "    }\n",
       "\n",
       "    .dataframe thead th {\n",
       "        text-align: right;\n",
       "    }\n",
       "</style>\n",
       "<table border=\"1\" class=\"dataframe\">\n",
       "  <thead>\n",
       "    <tr style=\"text-align: right;\">\n",
       "      <th></th>\n",
       "      <th>Id</th>\n",
       "      <th>Sales</th>\n",
       "    </tr>\n",
       "  </thead>\n",
       "  <tbody>\n",
       "    <tr>\n",
       "      <th>0</th>\n",
       "      <td>1</td>\n",
       "      <td>0</td>\n",
       "    </tr>\n",
       "    <tr>\n",
       "      <th>1</th>\n",
       "      <td>2</td>\n",
       "      <td>0</td>\n",
       "    </tr>\n",
       "    <tr>\n",
       "      <th>2</th>\n",
       "      <td>3</td>\n",
       "      <td>0</td>\n",
       "    </tr>\n",
       "    <tr>\n",
       "      <th>3</th>\n",
       "      <td>4</td>\n",
       "      <td>0</td>\n",
       "    </tr>\n",
       "    <tr>\n",
       "      <th>4</th>\n",
       "      <td>5</td>\n",
       "      <td>0</td>\n",
       "    </tr>\n",
       "    <tr>\n",
       "      <th>...</th>\n",
       "      <td>...</td>\n",
       "      <td>...</td>\n",
       "    </tr>\n",
       "    <tr>\n",
       "      <th>41083</th>\n",
       "      <td>41084</td>\n",
       "      <td>0</td>\n",
       "    </tr>\n",
       "    <tr>\n",
       "      <th>41084</th>\n",
       "      <td>41085</td>\n",
       "      <td>0</td>\n",
       "    </tr>\n",
       "    <tr>\n",
       "      <th>41085</th>\n",
       "      <td>41086</td>\n",
       "      <td>0</td>\n",
       "    </tr>\n",
       "    <tr>\n",
       "      <th>41086</th>\n",
       "      <td>41087</td>\n",
       "      <td>0</td>\n",
       "    </tr>\n",
       "    <tr>\n",
       "      <th>41087</th>\n",
       "      <td>41088</td>\n",
       "      <td>0</td>\n",
       "    </tr>\n",
       "  </tbody>\n",
       "</table>\n",
       "<p>41088 rows × 2 columns</p>\n",
       "</div>"
      ],
      "text/plain": [
       "          Id  Sales\n",
       "0          1      0\n",
       "1          2      0\n",
       "2          3      0\n",
       "3          4      0\n",
       "4          5      0\n",
       "...      ...    ...\n",
       "41083  41084      0\n",
       "41084  41085      0\n",
       "41085  41086      0\n",
       "41086  41087      0\n",
       "41087  41088      0\n",
       "\n",
       "[41088 rows x 2 columns]"
      ]
     },
     "execution_count": 200,
     "metadata": {},
     "output_type": "execute_result"
    }
   ],
   "source": [
    "submission_df"
   ]
  },
  {
   "cell_type": "code",
   "execution_count": 201,
   "id": "7db5499d",
   "metadata": {
    "execution": {
     "iopub.execute_input": "2021-07-28T19:26:06.208937Z",
     "iopub.status.busy": "2021-07-28T19:26:06.208217Z",
     "iopub.status.idle": "2021-07-28T19:26:06.235532Z",
     "shell.execute_reply": "2021-07-28T19:26:06.234928Z"
    },
    "papermill": {
     "duration": 0.096492,
     "end_time": "2021-07-28T19:26:06.235688",
     "exception": false,
     "start_time": "2021-07-28T19:26:06.139196",
     "status": "completed"
    },
    "tags": []
   },
   "outputs": [
    {
     "data": {
      "text/html": [
       "<div>\n",
       "<style scoped>\n",
       "    .dataframe tbody tr th:only-of-type {\n",
       "        vertical-align: middle;\n",
       "    }\n",
       "\n",
       "    .dataframe tbody tr th {\n",
       "        vertical-align: top;\n",
       "    }\n",
       "\n",
       "    .dataframe thead th {\n",
       "        text-align: right;\n",
       "    }\n",
       "</style>\n",
       "<table border=\"1\" class=\"dataframe\">\n",
       "  <thead>\n",
       "    <tr style=\"text-align: right;\">\n",
       "      <th></th>\n",
       "      <th>Store</th>\n",
       "      <th>StoreType</th>\n",
       "      <th>Assortment</th>\n",
       "      <th>CompetitionDistance</th>\n",
       "      <th>CompetitionOpenSinceMonth</th>\n",
       "      <th>CompetitionOpenSinceYear</th>\n",
       "      <th>Promo2</th>\n",
       "      <th>Promo2SinceWeek</th>\n",
       "      <th>Promo2SinceYear</th>\n",
       "      <th>PromoInterval</th>\n",
       "    </tr>\n",
       "  </thead>\n",
       "  <tbody>\n",
       "    <tr>\n",
       "      <th>0</th>\n",
       "      <td>1</td>\n",
       "      <td>c</td>\n",
       "      <td>a</td>\n",
       "      <td>1270.0</td>\n",
       "      <td>9.0</td>\n",
       "      <td>2008.0</td>\n",
       "      <td>0</td>\n",
       "      <td>NaN</td>\n",
       "      <td>NaN</td>\n",
       "      <td>NaN</td>\n",
       "    </tr>\n",
       "    <tr>\n",
       "      <th>1</th>\n",
       "      <td>2</td>\n",
       "      <td>a</td>\n",
       "      <td>a</td>\n",
       "      <td>570.0</td>\n",
       "      <td>11.0</td>\n",
       "      <td>2007.0</td>\n",
       "      <td>1</td>\n",
       "      <td>13.0</td>\n",
       "      <td>2010.0</td>\n",
       "      <td>Jan,Apr,Jul,Oct</td>\n",
       "    </tr>\n",
       "    <tr>\n",
       "      <th>2</th>\n",
       "      <td>3</td>\n",
       "      <td>a</td>\n",
       "      <td>a</td>\n",
       "      <td>14130.0</td>\n",
       "      <td>12.0</td>\n",
       "      <td>2006.0</td>\n",
       "      <td>1</td>\n",
       "      <td>14.0</td>\n",
       "      <td>2011.0</td>\n",
       "      <td>Jan,Apr,Jul,Oct</td>\n",
       "    </tr>\n",
       "    <tr>\n",
       "      <th>3</th>\n",
       "      <td>4</td>\n",
       "      <td>c</td>\n",
       "      <td>c</td>\n",
       "      <td>620.0</td>\n",
       "      <td>9.0</td>\n",
       "      <td>2009.0</td>\n",
       "      <td>0</td>\n",
       "      <td>NaN</td>\n",
       "      <td>NaN</td>\n",
       "      <td>NaN</td>\n",
       "    </tr>\n",
       "    <tr>\n",
       "      <th>4</th>\n",
       "      <td>5</td>\n",
       "      <td>a</td>\n",
       "      <td>a</td>\n",
       "      <td>29910.0</td>\n",
       "      <td>4.0</td>\n",
       "      <td>2015.0</td>\n",
       "      <td>0</td>\n",
       "      <td>NaN</td>\n",
       "      <td>NaN</td>\n",
       "      <td>NaN</td>\n",
       "    </tr>\n",
       "    <tr>\n",
       "      <th>...</th>\n",
       "      <td>...</td>\n",
       "      <td>...</td>\n",
       "      <td>...</td>\n",
       "      <td>...</td>\n",
       "      <td>...</td>\n",
       "      <td>...</td>\n",
       "      <td>...</td>\n",
       "      <td>...</td>\n",
       "      <td>...</td>\n",
       "      <td>...</td>\n",
       "    </tr>\n",
       "    <tr>\n",
       "      <th>1110</th>\n",
       "      <td>1111</td>\n",
       "      <td>a</td>\n",
       "      <td>a</td>\n",
       "      <td>1900.0</td>\n",
       "      <td>6.0</td>\n",
       "      <td>2014.0</td>\n",
       "      <td>1</td>\n",
       "      <td>31.0</td>\n",
       "      <td>2013.0</td>\n",
       "      <td>Jan,Apr,Jul,Oct</td>\n",
       "    </tr>\n",
       "    <tr>\n",
       "      <th>1111</th>\n",
       "      <td>1112</td>\n",
       "      <td>c</td>\n",
       "      <td>c</td>\n",
       "      <td>1880.0</td>\n",
       "      <td>4.0</td>\n",
       "      <td>2006.0</td>\n",
       "      <td>0</td>\n",
       "      <td>NaN</td>\n",
       "      <td>NaN</td>\n",
       "      <td>NaN</td>\n",
       "    </tr>\n",
       "    <tr>\n",
       "      <th>1112</th>\n",
       "      <td>1113</td>\n",
       "      <td>a</td>\n",
       "      <td>c</td>\n",
       "      <td>9260.0</td>\n",
       "      <td>NaN</td>\n",
       "      <td>NaN</td>\n",
       "      <td>0</td>\n",
       "      <td>NaN</td>\n",
       "      <td>NaN</td>\n",
       "      <td>NaN</td>\n",
       "    </tr>\n",
       "    <tr>\n",
       "      <th>1113</th>\n",
       "      <td>1114</td>\n",
       "      <td>a</td>\n",
       "      <td>c</td>\n",
       "      <td>870.0</td>\n",
       "      <td>NaN</td>\n",
       "      <td>NaN</td>\n",
       "      <td>0</td>\n",
       "      <td>NaN</td>\n",
       "      <td>NaN</td>\n",
       "      <td>NaN</td>\n",
       "    </tr>\n",
       "    <tr>\n",
       "      <th>1114</th>\n",
       "      <td>1115</td>\n",
       "      <td>d</td>\n",
       "      <td>c</td>\n",
       "      <td>5350.0</td>\n",
       "      <td>NaN</td>\n",
       "      <td>NaN</td>\n",
       "      <td>1</td>\n",
       "      <td>22.0</td>\n",
       "      <td>2012.0</td>\n",
       "      <td>Mar,Jun,Sept,Dec</td>\n",
       "    </tr>\n",
       "  </tbody>\n",
       "</table>\n",
       "<p>1115 rows × 10 columns</p>\n",
       "</div>"
      ],
      "text/plain": [
       "      Store StoreType Assortment  CompetitionDistance  \\\n",
       "0         1         c          a               1270.0   \n",
       "1         2         a          a                570.0   \n",
       "2         3         a          a              14130.0   \n",
       "3         4         c          c                620.0   \n",
       "4         5         a          a              29910.0   \n",
       "...     ...       ...        ...                  ...   \n",
       "1110   1111         a          a               1900.0   \n",
       "1111   1112         c          c               1880.0   \n",
       "1112   1113         a          c               9260.0   \n",
       "1113   1114         a          c                870.0   \n",
       "1114   1115         d          c               5350.0   \n",
       "\n",
       "      CompetitionOpenSinceMonth  CompetitionOpenSinceYear  Promo2  \\\n",
       "0                           9.0                    2008.0       0   \n",
       "1                          11.0                    2007.0       1   \n",
       "2                          12.0                    2006.0       1   \n",
       "3                           9.0                    2009.0       0   \n",
       "4                           4.0                    2015.0       0   \n",
       "...                         ...                       ...     ...   \n",
       "1110                        6.0                    2014.0       1   \n",
       "1111                        4.0                    2006.0       0   \n",
       "1112                        NaN                       NaN       0   \n",
       "1113                        NaN                       NaN       0   \n",
       "1114                        NaN                       NaN       1   \n",
       "\n",
       "      Promo2SinceWeek  Promo2SinceYear     PromoInterval  \n",
       "0                 NaN              NaN               NaN  \n",
       "1                13.0           2010.0   Jan,Apr,Jul,Oct  \n",
       "2                14.0           2011.0   Jan,Apr,Jul,Oct  \n",
       "3                 NaN              NaN               NaN  \n",
       "4                 NaN              NaN               NaN  \n",
       "...               ...              ...               ...  \n",
       "1110             31.0           2013.0   Jan,Apr,Jul,Oct  \n",
       "1111              NaN              NaN               NaN  \n",
       "1112              NaN              NaN               NaN  \n",
       "1113              NaN              NaN               NaN  \n",
       "1114             22.0           2012.0  Mar,Jun,Sept,Dec  \n",
       "\n",
       "[1115 rows x 10 columns]"
      ]
     },
     "execution_count": 201,
     "metadata": {},
     "output_type": "execute_result"
    }
   ],
   "source": [
    "store_df"
   ]
  },
  {
   "cell_type": "markdown",
   "id": "ab534730",
   "metadata": {
    "papermill": {
     "duration": 0.069384,
     "end_time": "2021-07-28T19:26:06.372957",
     "exception": false,
     "start_time": "2021-07-28T19:26:06.303573",
     "status": "completed"
    },
    "tags": []
   },
   "source": [
    "Since store_df contains additional information about the stores, let's merge store_df to the ross_df and test_df.<br>\n",
    "`Left Outer Join` on the column name `Store`."
   ]
  },
  {
   "cell_type": "code",
   "execution_count": 202,
   "id": "1594af47",
   "metadata": {
    "execution": {
     "iopub.execute_input": "2021-07-28T19:26:06.518337Z",
     "iopub.status.busy": "2021-07-28T19:26:06.517120Z",
     "iopub.status.idle": "2021-07-28T19:26:06.973364Z",
     "shell.execute_reply": "2021-07-28T19:26:06.972796Z"
    },
    "papermill": {
     "duration": 0.532714,
     "end_time": "2021-07-28T19:26:06.973507",
     "exception": false,
     "start_time": "2021-07-28T19:26:06.440793",
     "status": "completed"
    },
    "tags": []
   },
   "outputs": [],
   "source": [
    "merged_df = ross_df.merge(store_df, how='left', on='Store')\n",
    "merged_test_df = test_df.merge(store_df, how='left', on='Store')"
   ]
  },
  {
   "cell_type": "code",
   "execution_count": 203,
   "id": "55ea80b1",
   "metadata": {
    "execution": {
     "iopub.execute_input": "2021-07-28T19:26:07.146645Z",
     "iopub.status.busy": "2021-07-28T19:26:07.141649Z",
     "iopub.status.idle": "2021-07-28T19:26:07.187080Z",
     "shell.execute_reply": "2021-07-28T19:26:07.186230Z"
    },
    "papermill": {
     "duration": 0.136377,
     "end_time": "2021-07-28T19:26:07.187306",
     "exception": false,
     "start_time": "2021-07-28T19:26:07.050929",
     "status": "completed"
    },
    "tags": []
   },
   "outputs": [
    {
     "data": {
      "text/html": [
       "<div>\n",
       "<style scoped>\n",
       "    .dataframe tbody tr th:only-of-type {\n",
       "        vertical-align: middle;\n",
       "    }\n",
       "\n",
       "    .dataframe tbody tr th {\n",
       "        vertical-align: top;\n",
       "    }\n",
       "\n",
       "    .dataframe thead th {\n",
       "        text-align: right;\n",
       "    }\n",
       "</style>\n",
       "<table border=\"1\" class=\"dataframe\">\n",
       "  <thead>\n",
       "    <tr style=\"text-align: right;\">\n",
       "      <th></th>\n",
       "      <th>Store</th>\n",
       "      <th>DayOfWeek</th>\n",
       "      <th>Date</th>\n",
       "      <th>Sales</th>\n",
       "      <th>Customers</th>\n",
       "      <th>Open</th>\n",
       "      <th>Promo</th>\n",
       "      <th>StateHoliday</th>\n",
       "      <th>SchoolHoliday</th>\n",
       "      <th>StoreType</th>\n",
       "      <th>Assortment</th>\n",
       "      <th>CompetitionDistance</th>\n",
       "      <th>CompetitionOpenSinceMonth</th>\n",
       "      <th>CompetitionOpenSinceYear</th>\n",
       "      <th>Promo2</th>\n",
       "      <th>Promo2SinceWeek</th>\n",
       "      <th>Promo2SinceYear</th>\n",
       "      <th>PromoInterval</th>\n",
       "    </tr>\n",
       "  </thead>\n",
       "  <tbody>\n",
       "    <tr>\n",
       "      <th>0</th>\n",
       "      <td>1</td>\n",
       "      <td>5</td>\n",
       "      <td>2015-07-31</td>\n",
       "      <td>5263</td>\n",
       "      <td>555</td>\n",
       "      <td>1</td>\n",
       "      <td>1</td>\n",
       "      <td>0</td>\n",
       "      <td>1</td>\n",
       "      <td>c</td>\n",
       "      <td>a</td>\n",
       "      <td>1270.0</td>\n",
       "      <td>9.0</td>\n",
       "      <td>2008.0</td>\n",
       "      <td>0</td>\n",
       "      <td>NaN</td>\n",
       "      <td>NaN</td>\n",
       "      <td>NaN</td>\n",
       "    </tr>\n",
       "    <tr>\n",
       "      <th>1</th>\n",
       "      <td>2</td>\n",
       "      <td>5</td>\n",
       "      <td>2015-07-31</td>\n",
       "      <td>6064</td>\n",
       "      <td>625</td>\n",
       "      <td>1</td>\n",
       "      <td>1</td>\n",
       "      <td>0</td>\n",
       "      <td>1</td>\n",
       "      <td>a</td>\n",
       "      <td>a</td>\n",
       "      <td>570.0</td>\n",
       "      <td>11.0</td>\n",
       "      <td>2007.0</td>\n",
       "      <td>1</td>\n",
       "      <td>13.0</td>\n",
       "      <td>2010.0</td>\n",
       "      <td>Jan,Apr,Jul,Oct</td>\n",
       "    </tr>\n",
       "    <tr>\n",
       "      <th>2</th>\n",
       "      <td>3</td>\n",
       "      <td>5</td>\n",
       "      <td>2015-07-31</td>\n",
       "      <td>8314</td>\n",
       "      <td>821</td>\n",
       "      <td>1</td>\n",
       "      <td>1</td>\n",
       "      <td>0</td>\n",
       "      <td>1</td>\n",
       "      <td>a</td>\n",
       "      <td>a</td>\n",
       "      <td>14130.0</td>\n",
       "      <td>12.0</td>\n",
       "      <td>2006.0</td>\n",
       "      <td>1</td>\n",
       "      <td>14.0</td>\n",
       "      <td>2011.0</td>\n",
       "      <td>Jan,Apr,Jul,Oct</td>\n",
       "    </tr>\n",
       "    <tr>\n",
       "      <th>3</th>\n",
       "      <td>4</td>\n",
       "      <td>5</td>\n",
       "      <td>2015-07-31</td>\n",
       "      <td>13995</td>\n",
       "      <td>1498</td>\n",
       "      <td>1</td>\n",
       "      <td>1</td>\n",
       "      <td>0</td>\n",
       "      <td>1</td>\n",
       "      <td>c</td>\n",
       "      <td>c</td>\n",
       "      <td>620.0</td>\n",
       "      <td>9.0</td>\n",
       "      <td>2009.0</td>\n",
       "      <td>0</td>\n",
       "      <td>NaN</td>\n",
       "      <td>NaN</td>\n",
       "      <td>NaN</td>\n",
       "    </tr>\n",
       "    <tr>\n",
       "      <th>4</th>\n",
       "      <td>5</td>\n",
       "      <td>5</td>\n",
       "      <td>2015-07-31</td>\n",
       "      <td>4822</td>\n",
       "      <td>559</td>\n",
       "      <td>1</td>\n",
       "      <td>1</td>\n",
       "      <td>0</td>\n",
       "      <td>1</td>\n",
       "      <td>a</td>\n",
       "      <td>a</td>\n",
       "      <td>29910.0</td>\n",
       "      <td>4.0</td>\n",
       "      <td>2015.0</td>\n",
       "      <td>0</td>\n",
       "      <td>NaN</td>\n",
       "      <td>NaN</td>\n",
       "      <td>NaN</td>\n",
       "    </tr>\n",
       "    <tr>\n",
       "      <th>...</th>\n",
       "      <td>...</td>\n",
       "      <td>...</td>\n",
       "      <td>...</td>\n",
       "      <td>...</td>\n",
       "      <td>...</td>\n",
       "      <td>...</td>\n",
       "      <td>...</td>\n",
       "      <td>...</td>\n",
       "      <td>...</td>\n",
       "      <td>...</td>\n",
       "      <td>...</td>\n",
       "      <td>...</td>\n",
       "      <td>...</td>\n",
       "      <td>...</td>\n",
       "      <td>...</td>\n",
       "      <td>...</td>\n",
       "      <td>...</td>\n",
       "      <td>...</td>\n",
       "    </tr>\n",
       "    <tr>\n",
       "      <th>1017204</th>\n",
       "      <td>1111</td>\n",
       "      <td>2</td>\n",
       "      <td>2013-01-01</td>\n",
       "      <td>0</td>\n",
       "      <td>0</td>\n",
       "      <td>0</td>\n",
       "      <td>0</td>\n",
       "      <td>a</td>\n",
       "      <td>1</td>\n",
       "      <td>a</td>\n",
       "      <td>a</td>\n",
       "      <td>1900.0</td>\n",
       "      <td>6.0</td>\n",
       "      <td>2014.0</td>\n",
       "      <td>1</td>\n",
       "      <td>31.0</td>\n",
       "      <td>2013.0</td>\n",
       "      <td>Jan,Apr,Jul,Oct</td>\n",
       "    </tr>\n",
       "    <tr>\n",
       "      <th>1017205</th>\n",
       "      <td>1112</td>\n",
       "      <td>2</td>\n",
       "      <td>2013-01-01</td>\n",
       "      <td>0</td>\n",
       "      <td>0</td>\n",
       "      <td>0</td>\n",
       "      <td>0</td>\n",
       "      <td>a</td>\n",
       "      <td>1</td>\n",
       "      <td>c</td>\n",
       "      <td>c</td>\n",
       "      <td>1880.0</td>\n",
       "      <td>4.0</td>\n",
       "      <td>2006.0</td>\n",
       "      <td>0</td>\n",
       "      <td>NaN</td>\n",
       "      <td>NaN</td>\n",
       "      <td>NaN</td>\n",
       "    </tr>\n",
       "    <tr>\n",
       "      <th>1017206</th>\n",
       "      <td>1113</td>\n",
       "      <td>2</td>\n",
       "      <td>2013-01-01</td>\n",
       "      <td>0</td>\n",
       "      <td>0</td>\n",
       "      <td>0</td>\n",
       "      <td>0</td>\n",
       "      <td>a</td>\n",
       "      <td>1</td>\n",
       "      <td>a</td>\n",
       "      <td>c</td>\n",
       "      <td>9260.0</td>\n",
       "      <td>NaN</td>\n",
       "      <td>NaN</td>\n",
       "      <td>0</td>\n",
       "      <td>NaN</td>\n",
       "      <td>NaN</td>\n",
       "      <td>NaN</td>\n",
       "    </tr>\n",
       "    <tr>\n",
       "      <th>1017207</th>\n",
       "      <td>1114</td>\n",
       "      <td>2</td>\n",
       "      <td>2013-01-01</td>\n",
       "      <td>0</td>\n",
       "      <td>0</td>\n",
       "      <td>0</td>\n",
       "      <td>0</td>\n",
       "      <td>a</td>\n",
       "      <td>1</td>\n",
       "      <td>a</td>\n",
       "      <td>c</td>\n",
       "      <td>870.0</td>\n",
       "      <td>NaN</td>\n",
       "      <td>NaN</td>\n",
       "      <td>0</td>\n",
       "      <td>NaN</td>\n",
       "      <td>NaN</td>\n",
       "      <td>NaN</td>\n",
       "    </tr>\n",
       "    <tr>\n",
       "      <th>1017208</th>\n",
       "      <td>1115</td>\n",
       "      <td>2</td>\n",
       "      <td>2013-01-01</td>\n",
       "      <td>0</td>\n",
       "      <td>0</td>\n",
       "      <td>0</td>\n",
       "      <td>0</td>\n",
       "      <td>a</td>\n",
       "      <td>1</td>\n",
       "      <td>d</td>\n",
       "      <td>c</td>\n",
       "      <td>5350.0</td>\n",
       "      <td>NaN</td>\n",
       "      <td>NaN</td>\n",
       "      <td>1</td>\n",
       "      <td>22.0</td>\n",
       "      <td>2012.0</td>\n",
       "      <td>Mar,Jun,Sept,Dec</td>\n",
       "    </tr>\n",
       "  </tbody>\n",
       "</table>\n",
       "<p>1017209 rows × 18 columns</p>\n",
       "</div>"
      ],
      "text/plain": [
       "         Store  DayOfWeek        Date  Sales  Customers  Open  Promo  \\\n",
       "0            1          5  2015-07-31   5263        555     1      1   \n",
       "1            2          5  2015-07-31   6064        625     1      1   \n",
       "2            3          5  2015-07-31   8314        821     1      1   \n",
       "3            4          5  2015-07-31  13995       1498     1      1   \n",
       "4            5          5  2015-07-31   4822        559     1      1   \n",
       "...        ...        ...         ...    ...        ...   ...    ...   \n",
       "1017204   1111          2  2013-01-01      0          0     0      0   \n",
       "1017205   1112          2  2013-01-01      0          0     0      0   \n",
       "1017206   1113          2  2013-01-01      0          0     0      0   \n",
       "1017207   1114          2  2013-01-01      0          0     0      0   \n",
       "1017208   1115          2  2013-01-01      0          0     0      0   \n",
       "\n",
       "        StateHoliday  SchoolHoliday StoreType Assortment  CompetitionDistance  \\\n",
       "0                  0              1         c          a               1270.0   \n",
       "1                  0              1         a          a                570.0   \n",
       "2                  0              1         a          a              14130.0   \n",
       "3                  0              1         c          c                620.0   \n",
       "4                  0              1         a          a              29910.0   \n",
       "...              ...            ...       ...        ...                  ...   \n",
       "1017204            a              1         a          a               1900.0   \n",
       "1017205            a              1         c          c               1880.0   \n",
       "1017206            a              1         a          c               9260.0   \n",
       "1017207            a              1         a          c                870.0   \n",
       "1017208            a              1         d          c               5350.0   \n",
       "\n",
       "         CompetitionOpenSinceMonth  CompetitionOpenSinceYear  Promo2  \\\n",
       "0                              9.0                    2008.0       0   \n",
       "1                             11.0                    2007.0       1   \n",
       "2                             12.0                    2006.0       1   \n",
       "3                              9.0                    2009.0       0   \n",
       "4                              4.0                    2015.0       0   \n",
       "...                            ...                       ...     ...   \n",
       "1017204                        6.0                    2014.0       1   \n",
       "1017205                        4.0                    2006.0       0   \n",
       "1017206                        NaN                       NaN       0   \n",
       "1017207                        NaN                       NaN       0   \n",
       "1017208                        NaN                       NaN       1   \n",
       "\n",
       "         Promo2SinceWeek  Promo2SinceYear     PromoInterval  \n",
       "0                    NaN              NaN               NaN  \n",
       "1                   13.0           2010.0   Jan,Apr,Jul,Oct  \n",
       "2                   14.0           2011.0   Jan,Apr,Jul,Oct  \n",
       "3                    NaN              NaN               NaN  \n",
       "4                    NaN              NaN               NaN  \n",
       "...                  ...              ...               ...  \n",
       "1017204             31.0           2013.0   Jan,Apr,Jul,Oct  \n",
       "1017205              NaN              NaN               NaN  \n",
       "1017206              NaN              NaN               NaN  \n",
       "1017207              NaN              NaN               NaN  \n",
       "1017208             22.0           2012.0  Mar,Jun,Sept,Dec  \n",
       "\n",
       "[1017209 rows x 18 columns]"
      ]
     },
     "execution_count": 203,
     "metadata": {},
     "output_type": "execute_result"
    }
   ],
   "source": [
    "merged_df"
   ]
  },
  {
   "cell_type": "code",
   "execution_count": 204,
   "id": "56799ff2",
   "metadata": {
    "execution": {
     "iopub.execute_input": "2021-07-28T19:26:07.374192Z",
     "iopub.status.busy": "2021-07-28T19:26:07.368115Z",
     "iopub.status.idle": "2021-07-28T19:26:07.391396Z",
     "shell.execute_reply": "2021-07-28T19:26:07.390654Z"
    },
    "papermill": {
     "duration": 0.133962,
     "end_time": "2021-07-28T19:26:07.391547",
     "exception": false,
     "start_time": "2021-07-28T19:26:07.257585",
     "status": "completed"
    },
    "tags": []
   },
   "outputs": [
    {
     "data": {
      "text/html": [
       "<div>\n",
       "<style scoped>\n",
       "    .dataframe tbody tr th:only-of-type {\n",
       "        vertical-align: middle;\n",
       "    }\n",
       "\n",
       "    .dataframe tbody tr th {\n",
       "        vertical-align: top;\n",
       "    }\n",
       "\n",
       "    .dataframe thead th {\n",
       "        text-align: right;\n",
       "    }\n",
       "</style>\n",
       "<table border=\"1\" class=\"dataframe\">\n",
       "  <thead>\n",
       "    <tr style=\"text-align: right;\">\n",
       "      <th></th>\n",
       "      <th>Id</th>\n",
       "      <th>Store</th>\n",
       "      <th>DayOfWeek</th>\n",
       "      <th>Date</th>\n",
       "      <th>Open</th>\n",
       "      <th>Promo</th>\n",
       "      <th>StateHoliday</th>\n",
       "      <th>SchoolHoliday</th>\n",
       "      <th>StoreType</th>\n",
       "      <th>Assortment</th>\n",
       "      <th>CompetitionDistance</th>\n",
       "      <th>CompetitionOpenSinceMonth</th>\n",
       "      <th>CompetitionOpenSinceYear</th>\n",
       "      <th>Promo2</th>\n",
       "      <th>Promo2SinceWeek</th>\n",
       "      <th>Promo2SinceYear</th>\n",
       "      <th>PromoInterval</th>\n",
       "    </tr>\n",
       "  </thead>\n",
       "  <tbody>\n",
       "    <tr>\n",
       "      <th>0</th>\n",
       "      <td>1</td>\n",
       "      <td>1</td>\n",
       "      <td>4</td>\n",
       "      <td>2015-09-17</td>\n",
       "      <td>1.0</td>\n",
       "      <td>1</td>\n",
       "      <td>0</td>\n",
       "      <td>0</td>\n",
       "      <td>c</td>\n",
       "      <td>a</td>\n",
       "      <td>1270.0</td>\n",
       "      <td>9.0</td>\n",
       "      <td>2008.0</td>\n",
       "      <td>0</td>\n",
       "      <td>NaN</td>\n",
       "      <td>NaN</td>\n",
       "      <td>NaN</td>\n",
       "    </tr>\n",
       "    <tr>\n",
       "      <th>1</th>\n",
       "      <td>2</td>\n",
       "      <td>3</td>\n",
       "      <td>4</td>\n",
       "      <td>2015-09-17</td>\n",
       "      <td>1.0</td>\n",
       "      <td>1</td>\n",
       "      <td>0</td>\n",
       "      <td>0</td>\n",
       "      <td>a</td>\n",
       "      <td>a</td>\n",
       "      <td>14130.0</td>\n",
       "      <td>12.0</td>\n",
       "      <td>2006.0</td>\n",
       "      <td>1</td>\n",
       "      <td>14.0</td>\n",
       "      <td>2011.0</td>\n",
       "      <td>Jan,Apr,Jul,Oct</td>\n",
       "    </tr>\n",
       "    <tr>\n",
       "      <th>2</th>\n",
       "      <td>3</td>\n",
       "      <td>7</td>\n",
       "      <td>4</td>\n",
       "      <td>2015-09-17</td>\n",
       "      <td>1.0</td>\n",
       "      <td>1</td>\n",
       "      <td>0</td>\n",
       "      <td>0</td>\n",
       "      <td>a</td>\n",
       "      <td>c</td>\n",
       "      <td>24000.0</td>\n",
       "      <td>4.0</td>\n",
       "      <td>2013.0</td>\n",
       "      <td>0</td>\n",
       "      <td>NaN</td>\n",
       "      <td>NaN</td>\n",
       "      <td>NaN</td>\n",
       "    </tr>\n",
       "    <tr>\n",
       "      <th>3</th>\n",
       "      <td>4</td>\n",
       "      <td>8</td>\n",
       "      <td>4</td>\n",
       "      <td>2015-09-17</td>\n",
       "      <td>1.0</td>\n",
       "      <td>1</td>\n",
       "      <td>0</td>\n",
       "      <td>0</td>\n",
       "      <td>a</td>\n",
       "      <td>a</td>\n",
       "      <td>7520.0</td>\n",
       "      <td>10.0</td>\n",
       "      <td>2014.0</td>\n",
       "      <td>0</td>\n",
       "      <td>NaN</td>\n",
       "      <td>NaN</td>\n",
       "      <td>NaN</td>\n",
       "    </tr>\n",
       "    <tr>\n",
       "      <th>4</th>\n",
       "      <td>5</td>\n",
       "      <td>9</td>\n",
       "      <td>4</td>\n",
       "      <td>2015-09-17</td>\n",
       "      <td>1.0</td>\n",
       "      <td>1</td>\n",
       "      <td>0</td>\n",
       "      <td>0</td>\n",
       "      <td>a</td>\n",
       "      <td>c</td>\n",
       "      <td>2030.0</td>\n",
       "      <td>8.0</td>\n",
       "      <td>2000.0</td>\n",
       "      <td>0</td>\n",
       "      <td>NaN</td>\n",
       "      <td>NaN</td>\n",
       "      <td>NaN</td>\n",
       "    </tr>\n",
       "    <tr>\n",
       "      <th>...</th>\n",
       "      <td>...</td>\n",
       "      <td>...</td>\n",
       "      <td>...</td>\n",
       "      <td>...</td>\n",
       "      <td>...</td>\n",
       "      <td>...</td>\n",
       "      <td>...</td>\n",
       "      <td>...</td>\n",
       "      <td>...</td>\n",
       "      <td>...</td>\n",
       "      <td>...</td>\n",
       "      <td>...</td>\n",
       "      <td>...</td>\n",
       "      <td>...</td>\n",
       "      <td>...</td>\n",
       "      <td>...</td>\n",
       "      <td>...</td>\n",
       "    </tr>\n",
       "    <tr>\n",
       "      <th>41083</th>\n",
       "      <td>41084</td>\n",
       "      <td>1111</td>\n",
       "      <td>6</td>\n",
       "      <td>2015-08-01</td>\n",
       "      <td>1.0</td>\n",
       "      <td>0</td>\n",
       "      <td>0</td>\n",
       "      <td>0</td>\n",
       "      <td>a</td>\n",
       "      <td>a</td>\n",
       "      <td>1900.0</td>\n",
       "      <td>6.0</td>\n",
       "      <td>2014.0</td>\n",
       "      <td>1</td>\n",
       "      <td>31.0</td>\n",
       "      <td>2013.0</td>\n",
       "      <td>Jan,Apr,Jul,Oct</td>\n",
       "    </tr>\n",
       "    <tr>\n",
       "      <th>41084</th>\n",
       "      <td>41085</td>\n",
       "      <td>1112</td>\n",
       "      <td>6</td>\n",
       "      <td>2015-08-01</td>\n",
       "      <td>1.0</td>\n",
       "      <td>0</td>\n",
       "      <td>0</td>\n",
       "      <td>0</td>\n",
       "      <td>c</td>\n",
       "      <td>c</td>\n",
       "      <td>1880.0</td>\n",
       "      <td>4.0</td>\n",
       "      <td>2006.0</td>\n",
       "      <td>0</td>\n",
       "      <td>NaN</td>\n",
       "      <td>NaN</td>\n",
       "      <td>NaN</td>\n",
       "    </tr>\n",
       "    <tr>\n",
       "      <th>41085</th>\n",
       "      <td>41086</td>\n",
       "      <td>1113</td>\n",
       "      <td>6</td>\n",
       "      <td>2015-08-01</td>\n",
       "      <td>1.0</td>\n",
       "      <td>0</td>\n",
       "      <td>0</td>\n",
       "      <td>0</td>\n",
       "      <td>a</td>\n",
       "      <td>c</td>\n",
       "      <td>9260.0</td>\n",
       "      <td>NaN</td>\n",
       "      <td>NaN</td>\n",
       "      <td>0</td>\n",
       "      <td>NaN</td>\n",
       "      <td>NaN</td>\n",
       "      <td>NaN</td>\n",
       "    </tr>\n",
       "    <tr>\n",
       "      <th>41086</th>\n",
       "      <td>41087</td>\n",
       "      <td>1114</td>\n",
       "      <td>6</td>\n",
       "      <td>2015-08-01</td>\n",
       "      <td>1.0</td>\n",
       "      <td>0</td>\n",
       "      <td>0</td>\n",
       "      <td>0</td>\n",
       "      <td>a</td>\n",
       "      <td>c</td>\n",
       "      <td>870.0</td>\n",
       "      <td>NaN</td>\n",
       "      <td>NaN</td>\n",
       "      <td>0</td>\n",
       "      <td>NaN</td>\n",
       "      <td>NaN</td>\n",
       "      <td>NaN</td>\n",
       "    </tr>\n",
       "    <tr>\n",
       "      <th>41087</th>\n",
       "      <td>41088</td>\n",
       "      <td>1115</td>\n",
       "      <td>6</td>\n",
       "      <td>2015-08-01</td>\n",
       "      <td>1.0</td>\n",
       "      <td>0</td>\n",
       "      <td>0</td>\n",
       "      <td>1</td>\n",
       "      <td>d</td>\n",
       "      <td>c</td>\n",
       "      <td>5350.0</td>\n",
       "      <td>NaN</td>\n",
       "      <td>NaN</td>\n",
       "      <td>1</td>\n",
       "      <td>22.0</td>\n",
       "      <td>2012.0</td>\n",
       "      <td>Mar,Jun,Sept,Dec</td>\n",
       "    </tr>\n",
       "  </tbody>\n",
       "</table>\n",
       "<p>41088 rows × 17 columns</p>\n",
       "</div>"
      ],
      "text/plain": [
       "          Id  Store  DayOfWeek        Date  Open  Promo StateHoliday  \\\n",
       "0          1      1          4  2015-09-17   1.0      1            0   \n",
       "1          2      3          4  2015-09-17   1.0      1            0   \n",
       "2          3      7          4  2015-09-17   1.0      1            0   \n",
       "3          4      8          4  2015-09-17   1.0      1            0   \n",
       "4          5      9          4  2015-09-17   1.0      1            0   \n",
       "...      ...    ...        ...         ...   ...    ...          ...   \n",
       "41083  41084   1111          6  2015-08-01   1.0      0            0   \n",
       "41084  41085   1112          6  2015-08-01   1.0      0            0   \n",
       "41085  41086   1113          6  2015-08-01   1.0      0            0   \n",
       "41086  41087   1114          6  2015-08-01   1.0      0            0   \n",
       "41087  41088   1115          6  2015-08-01   1.0      0            0   \n",
       "\n",
       "       SchoolHoliday StoreType Assortment  CompetitionDistance  \\\n",
       "0                  0         c          a               1270.0   \n",
       "1                  0         a          a              14130.0   \n",
       "2                  0         a          c              24000.0   \n",
       "3                  0         a          a               7520.0   \n",
       "4                  0         a          c               2030.0   \n",
       "...              ...       ...        ...                  ...   \n",
       "41083              0         a          a               1900.0   \n",
       "41084              0         c          c               1880.0   \n",
       "41085              0         a          c               9260.0   \n",
       "41086              0         a          c                870.0   \n",
       "41087              1         d          c               5350.0   \n",
       "\n",
       "       CompetitionOpenSinceMonth  CompetitionOpenSinceYear  Promo2  \\\n",
       "0                            9.0                    2008.0       0   \n",
       "1                           12.0                    2006.0       1   \n",
       "2                            4.0                    2013.0       0   \n",
       "3                           10.0                    2014.0       0   \n",
       "4                            8.0                    2000.0       0   \n",
       "...                          ...                       ...     ...   \n",
       "41083                        6.0                    2014.0       1   \n",
       "41084                        4.0                    2006.0       0   \n",
       "41085                        NaN                       NaN       0   \n",
       "41086                        NaN                       NaN       0   \n",
       "41087                        NaN                       NaN       1   \n",
       "\n",
       "       Promo2SinceWeek  Promo2SinceYear     PromoInterval  \n",
       "0                  NaN              NaN               NaN  \n",
       "1                 14.0           2011.0   Jan,Apr,Jul,Oct  \n",
       "2                  NaN              NaN               NaN  \n",
       "3                  NaN              NaN               NaN  \n",
       "4                  NaN              NaN               NaN  \n",
       "...                ...              ...               ...  \n",
       "41083             31.0           2013.0   Jan,Apr,Jul,Oct  \n",
       "41084              NaN              NaN               NaN  \n",
       "41085              NaN              NaN               NaN  \n",
       "41086              NaN              NaN               NaN  \n",
       "41087             22.0           2012.0  Mar,Jun,Sept,Dec  \n",
       "\n",
       "[41088 rows x 17 columns]"
      ]
     },
     "execution_count": 204,
     "metadata": {},
     "output_type": "execute_result"
    }
   ],
   "source": [
    "merged_test_df"
   ]
  },
  {
   "cell_type": "markdown",
   "id": "852c8062",
   "metadata": {
    "papermill": {
     "duration": 0.069826,
     "end_time": "2021-07-28T19:26:07.532421",
     "exception": false,
     "start_time": "2021-07-28T19:26:07.462595",
     "status": "completed"
    },
    "tags": []
   },
   "source": [
    "# Preprocessing And Feature Engineering"
   ]
  },
  {
   "cell_type": "code",
   "execution_count": 205,
   "id": "86d82c4f",
   "metadata": {
    "execution": {
     "iopub.execute_input": "2021-07-28T19:26:07.782780Z",
     "iopub.status.busy": "2021-07-28T19:26:07.781476Z",
     "iopub.status.idle": "2021-07-28T19:26:08.197376Z",
     "shell.execute_reply": "2021-07-28T19:26:08.196883Z"
    },
    "papermill": {
     "duration": 0.59453,
     "end_time": "2021-07-28T19:26:08.197512",
     "exception": false,
     "start_time": "2021-07-28T19:26:07.602982",
     "status": "completed"
    },
    "tags": []
   },
   "outputs": [
    {
     "name": "stdout",
     "output_type": "stream",
     "text": [
      "<class 'pandas.core.frame.DataFrame'>\n",
      "RangeIndex: 1017209 entries, 0 to 1017208\n",
      "Data columns (total 18 columns):\n",
      " #   Column                     Non-Null Count    Dtype  \n",
      "---  ------                     --------------    -----  \n",
      " 0   Store                      1017209 non-null  int64  \n",
      " 1   DayOfWeek                  1017209 non-null  int64  \n",
      " 2   Date                       1017209 non-null  object \n",
      " 3   Sales                      1017209 non-null  int64  \n",
      " 4   Customers                  1017209 non-null  int64  \n",
      " 5   Open                       1017209 non-null  int64  \n",
      " 6   Promo                      1017209 non-null  int64  \n",
      " 7   StateHoliday               1017209 non-null  object \n",
      " 8   SchoolHoliday              1017209 non-null  int64  \n",
      " 9   StoreType                  1017209 non-null  object \n",
      " 10  Assortment                 1017209 non-null  object \n",
      " 11  CompetitionDistance        1014567 non-null  float64\n",
      " 12  CompetitionOpenSinceMonth  693861 non-null   float64\n",
      " 13  CompetitionOpenSinceYear   693861 non-null   float64\n",
      " 14  Promo2                     1017209 non-null  int64  \n",
      " 15  Promo2SinceWeek            509178 non-null   float64\n",
      " 16  Promo2SinceYear            509178 non-null   float64\n",
      " 17  PromoInterval              509178 non-null   object \n",
      "dtypes: float64(5), int64(8), object(5)\n",
      "memory usage: 139.7+ MB\n"
     ]
    }
   ],
   "source": [
    "merged_df.info()"
   ]
  },
  {
   "cell_type": "code",
   "execution_count": 271,
   "id": "fdf3d133",
   "metadata": {
    "execution": {
     "iopub.execute_input": "2021-07-28T19:26:08.341425Z",
     "iopub.status.busy": "2021-07-28T19:26:08.340752Z",
     "iopub.status.idle": "2021-07-28T19:26:08.343774Z",
     "shell.execute_reply": "2021-07-28T19:26:08.343266Z"
    },
    "papermill": {
     "duration": 0.077061,
     "end_time": "2021-07-28T19:26:08.343914",
     "exception": false,
     "start_time": "2021-07-28T19:26:08.266853",
     "status": "completed"
    },
    "tags": []
   },
   "outputs": [],
   "source": [
    "def extract_date(data):\n",
    "  \n",
    "  # 将Date列转换为pandas的datetime类型\n",
    "  data['Date'] = pd.to_datetime(data['Date'])  \n",
    "  \n",
    "  # 从日期中提取出年份信息,并创建新特征Year\n",
    "  data['Year'] = data.Date.dt.year  \n",
    "\n",
    "  # 从日期中提取出月份信息,并创建新特征Month\n",
    "  data['Month'] = data.Date.dt.month\n",
    "\n",
    "  # 从日期中提取出天信息,并创建新特征Day\n",
    "  data['Day'] = data.Date.dt.day\n",
    "\n",
    "  # 基于日期信息,提取每年的周数,并创建新特征WeekOfYear\n",
    "  data['WeekOfYear'] = data.Date.dt.isocalendar().week\n",
    "\n",
    "  # 注释:可选择删除原始的Date列\n",
    "  #data.drop('Date', axis=1, inplace=True)\n",
    "\n",
    "# 这个extract_date函数主要使用pandas的datetime功能,从日期时间类型的列中提取出年、月、天、周等时间信息,并构造为独立的特征列,便于后续建模分析。\n"
   ]
  },
  {
   "cell_type": "code",
   "execution_count": 207,
   "id": "4c2a4d86",
   "metadata": {
    "execution": {
     "iopub.execute_input": "2021-07-28T19:26:08.489123Z",
     "iopub.status.busy": "2021-07-28T19:26:08.488442Z",
     "iopub.status.idle": "2021-07-28T19:26:09.100786Z",
     "shell.execute_reply": "2021-07-28T19:26:09.101354Z"
    },
    "papermill": {
     "duration": 0.686498,
     "end_time": "2021-07-28T19:26:09.101528",
     "exception": false,
     "start_time": "2021-07-28T19:26:08.415030",
     "status": "completed"
    },
    "tags": []
   },
   "outputs": [],
   "source": [
    "extract_date(merged_df)\n",
    "extract_date(merged_test_df)"
   ]
  },
  {
   "cell_type": "code",
   "execution_count": 208,
   "id": "91b49364",
   "metadata": {
    "execution": {
     "iopub.execute_input": "2021-07-28T19:26:09.248616Z",
     "iopub.status.busy": "2021-07-28T19:26:09.247998Z",
     "iopub.status.idle": "2021-07-28T19:26:09.284273Z",
     "shell.execute_reply": "2021-07-28T19:26:09.284790Z"
    },
    "papermill": {
     "duration": 0.113098,
     "end_time": "2021-07-28T19:26:09.284957",
     "exception": false,
     "start_time": "2021-07-28T19:26:09.171859",
     "status": "completed"
    },
    "tags": []
   },
   "outputs": [
    {
     "data": {
      "text/html": [
       "<div>\n",
       "<style scoped>\n",
       "    .dataframe tbody tr th:only-of-type {\n",
       "        vertical-align: middle;\n",
       "    }\n",
       "\n",
       "    .dataframe tbody tr th {\n",
       "        vertical-align: top;\n",
       "    }\n",
       "\n",
       "    .dataframe thead th {\n",
       "        text-align: right;\n",
       "    }\n",
       "</style>\n",
       "<table border=\"1\" class=\"dataframe\">\n",
       "  <thead>\n",
       "    <tr style=\"text-align: right;\">\n",
       "      <th></th>\n",
       "      <th>Store</th>\n",
       "      <th>DayOfWeek</th>\n",
       "      <th>Date</th>\n",
       "      <th>Sales</th>\n",
       "      <th>Customers</th>\n",
       "      <th>Open</th>\n",
       "      <th>Promo</th>\n",
       "      <th>StateHoliday</th>\n",
       "      <th>SchoolHoliday</th>\n",
       "      <th>StoreType</th>\n",
       "      <th>Assortment</th>\n",
       "      <th>CompetitionDistance</th>\n",
       "      <th>CompetitionOpenSinceMonth</th>\n",
       "      <th>CompetitionOpenSinceYear</th>\n",
       "      <th>Promo2</th>\n",
       "      <th>Promo2SinceWeek</th>\n",
       "      <th>Promo2SinceYear</th>\n",
       "      <th>PromoInterval</th>\n",
       "      <th>Year</th>\n",
       "      <th>Month</th>\n",
       "      <th>Day</th>\n",
       "      <th>WeekOfYear</th>\n",
       "    </tr>\n",
       "  </thead>\n",
       "  <tbody>\n",
       "    <tr>\n",
       "      <th>0</th>\n",
       "      <td>1</td>\n",
       "      <td>5</td>\n",
       "      <td>2015-07-31</td>\n",
       "      <td>5263</td>\n",
       "      <td>555</td>\n",
       "      <td>1</td>\n",
       "      <td>1</td>\n",
       "      <td>0</td>\n",
       "      <td>1</td>\n",
       "      <td>c</td>\n",
       "      <td>a</td>\n",
       "      <td>1270.0</td>\n",
       "      <td>9.0</td>\n",
       "      <td>2008.0</td>\n",
       "      <td>0</td>\n",
       "      <td>NaN</td>\n",
       "      <td>NaN</td>\n",
       "      <td>NaN</td>\n",
       "      <td>2015</td>\n",
       "      <td>7</td>\n",
       "      <td>31</td>\n",
       "      <td>31</td>\n",
       "    </tr>\n",
       "    <tr>\n",
       "      <th>1</th>\n",
       "      <td>2</td>\n",
       "      <td>5</td>\n",
       "      <td>2015-07-31</td>\n",
       "      <td>6064</td>\n",
       "      <td>625</td>\n",
       "      <td>1</td>\n",
       "      <td>1</td>\n",
       "      <td>0</td>\n",
       "      <td>1</td>\n",
       "      <td>a</td>\n",
       "      <td>a</td>\n",
       "      <td>570.0</td>\n",
       "      <td>11.0</td>\n",
       "      <td>2007.0</td>\n",
       "      <td>1</td>\n",
       "      <td>13.0</td>\n",
       "      <td>2010.0</td>\n",
       "      <td>Jan,Apr,Jul,Oct</td>\n",
       "      <td>2015</td>\n",
       "      <td>7</td>\n",
       "      <td>31</td>\n",
       "      <td>31</td>\n",
       "    </tr>\n",
       "    <tr>\n",
       "      <th>2</th>\n",
       "      <td>3</td>\n",
       "      <td>5</td>\n",
       "      <td>2015-07-31</td>\n",
       "      <td>8314</td>\n",
       "      <td>821</td>\n",
       "      <td>1</td>\n",
       "      <td>1</td>\n",
       "      <td>0</td>\n",
       "      <td>1</td>\n",
       "      <td>a</td>\n",
       "      <td>a</td>\n",
       "      <td>14130.0</td>\n",
       "      <td>12.0</td>\n",
       "      <td>2006.0</td>\n",
       "      <td>1</td>\n",
       "      <td>14.0</td>\n",
       "      <td>2011.0</td>\n",
       "      <td>Jan,Apr,Jul,Oct</td>\n",
       "      <td>2015</td>\n",
       "      <td>7</td>\n",
       "      <td>31</td>\n",
       "      <td>31</td>\n",
       "    </tr>\n",
       "    <tr>\n",
       "      <th>3</th>\n",
       "      <td>4</td>\n",
       "      <td>5</td>\n",
       "      <td>2015-07-31</td>\n",
       "      <td>13995</td>\n",
       "      <td>1498</td>\n",
       "      <td>1</td>\n",
       "      <td>1</td>\n",
       "      <td>0</td>\n",
       "      <td>1</td>\n",
       "      <td>c</td>\n",
       "      <td>c</td>\n",
       "      <td>620.0</td>\n",
       "      <td>9.0</td>\n",
       "      <td>2009.0</td>\n",
       "      <td>0</td>\n",
       "      <td>NaN</td>\n",
       "      <td>NaN</td>\n",
       "      <td>NaN</td>\n",
       "      <td>2015</td>\n",
       "      <td>7</td>\n",
       "      <td>31</td>\n",
       "      <td>31</td>\n",
       "    </tr>\n",
       "    <tr>\n",
       "      <th>4</th>\n",
       "      <td>5</td>\n",
       "      <td>5</td>\n",
       "      <td>2015-07-31</td>\n",
       "      <td>4822</td>\n",
       "      <td>559</td>\n",
       "      <td>1</td>\n",
       "      <td>1</td>\n",
       "      <td>0</td>\n",
       "      <td>1</td>\n",
       "      <td>a</td>\n",
       "      <td>a</td>\n",
       "      <td>29910.0</td>\n",
       "      <td>4.0</td>\n",
       "      <td>2015.0</td>\n",
       "      <td>0</td>\n",
       "      <td>NaN</td>\n",
       "      <td>NaN</td>\n",
       "      <td>NaN</td>\n",
       "      <td>2015</td>\n",
       "      <td>7</td>\n",
       "      <td>31</td>\n",
       "      <td>31</td>\n",
       "    </tr>\n",
       "    <tr>\n",
       "      <th>...</th>\n",
       "      <td>...</td>\n",
       "      <td>...</td>\n",
       "      <td>...</td>\n",
       "      <td>...</td>\n",
       "      <td>...</td>\n",
       "      <td>...</td>\n",
       "      <td>...</td>\n",
       "      <td>...</td>\n",
       "      <td>...</td>\n",
       "      <td>...</td>\n",
       "      <td>...</td>\n",
       "      <td>...</td>\n",
       "      <td>...</td>\n",
       "      <td>...</td>\n",
       "      <td>...</td>\n",
       "      <td>...</td>\n",
       "      <td>...</td>\n",
       "      <td>...</td>\n",
       "      <td>...</td>\n",
       "      <td>...</td>\n",
       "      <td>...</td>\n",
       "      <td>...</td>\n",
       "    </tr>\n",
       "    <tr>\n",
       "      <th>1017204</th>\n",
       "      <td>1111</td>\n",
       "      <td>2</td>\n",
       "      <td>2013-01-01</td>\n",
       "      <td>0</td>\n",
       "      <td>0</td>\n",
       "      <td>0</td>\n",
       "      <td>0</td>\n",
       "      <td>a</td>\n",
       "      <td>1</td>\n",
       "      <td>a</td>\n",
       "      <td>a</td>\n",
       "      <td>1900.0</td>\n",
       "      <td>6.0</td>\n",
       "      <td>2014.0</td>\n",
       "      <td>1</td>\n",
       "      <td>31.0</td>\n",
       "      <td>2013.0</td>\n",
       "      <td>Jan,Apr,Jul,Oct</td>\n",
       "      <td>2013</td>\n",
       "      <td>1</td>\n",
       "      <td>1</td>\n",
       "      <td>1</td>\n",
       "    </tr>\n",
       "    <tr>\n",
       "      <th>1017205</th>\n",
       "      <td>1112</td>\n",
       "      <td>2</td>\n",
       "      <td>2013-01-01</td>\n",
       "      <td>0</td>\n",
       "      <td>0</td>\n",
       "      <td>0</td>\n",
       "      <td>0</td>\n",
       "      <td>a</td>\n",
       "      <td>1</td>\n",
       "      <td>c</td>\n",
       "      <td>c</td>\n",
       "      <td>1880.0</td>\n",
       "      <td>4.0</td>\n",
       "      <td>2006.0</td>\n",
       "      <td>0</td>\n",
       "      <td>NaN</td>\n",
       "      <td>NaN</td>\n",
       "      <td>NaN</td>\n",
       "      <td>2013</td>\n",
       "      <td>1</td>\n",
       "      <td>1</td>\n",
       "      <td>1</td>\n",
       "    </tr>\n",
       "    <tr>\n",
       "      <th>1017206</th>\n",
       "      <td>1113</td>\n",
       "      <td>2</td>\n",
       "      <td>2013-01-01</td>\n",
       "      <td>0</td>\n",
       "      <td>0</td>\n",
       "      <td>0</td>\n",
       "      <td>0</td>\n",
       "      <td>a</td>\n",
       "      <td>1</td>\n",
       "      <td>a</td>\n",
       "      <td>c</td>\n",
       "      <td>9260.0</td>\n",
       "      <td>NaN</td>\n",
       "      <td>NaN</td>\n",
       "      <td>0</td>\n",
       "      <td>NaN</td>\n",
       "      <td>NaN</td>\n",
       "      <td>NaN</td>\n",
       "      <td>2013</td>\n",
       "      <td>1</td>\n",
       "      <td>1</td>\n",
       "      <td>1</td>\n",
       "    </tr>\n",
       "    <tr>\n",
       "      <th>1017207</th>\n",
       "      <td>1114</td>\n",
       "      <td>2</td>\n",
       "      <td>2013-01-01</td>\n",
       "      <td>0</td>\n",
       "      <td>0</td>\n",
       "      <td>0</td>\n",
       "      <td>0</td>\n",
       "      <td>a</td>\n",
       "      <td>1</td>\n",
       "      <td>a</td>\n",
       "      <td>c</td>\n",
       "      <td>870.0</td>\n",
       "      <td>NaN</td>\n",
       "      <td>NaN</td>\n",
       "      <td>0</td>\n",
       "      <td>NaN</td>\n",
       "      <td>NaN</td>\n",
       "      <td>NaN</td>\n",
       "      <td>2013</td>\n",
       "      <td>1</td>\n",
       "      <td>1</td>\n",
       "      <td>1</td>\n",
       "    </tr>\n",
       "    <tr>\n",
       "      <th>1017208</th>\n",
       "      <td>1115</td>\n",
       "      <td>2</td>\n",
       "      <td>2013-01-01</td>\n",
       "      <td>0</td>\n",
       "      <td>0</td>\n",
       "      <td>0</td>\n",
       "      <td>0</td>\n",
       "      <td>a</td>\n",
       "      <td>1</td>\n",
       "      <td>d</td>\n",
       "      <td>c</td>\n",
       "      <td>5350.0</td>\n",
       "      <td>NaN</td>\n",
       "      <td>NaN</td>\n",
       "      <td>1</td>\n",
       "      <td>22.0</td>\n",
       "      <td>2012.0</td>\n",
       "      <td>Mar,Jun,Sept,Dec</td>\n",
       "      <td>2013</td>\n",
       "      <td>1</td>\n",
       "      <td>1</td>\n",
       "      <td>1</td>\n",
       "    </tr>\n",
       "  </tbody>\n",
       "</table>\n",
       "<p>1017209 rows × 22 columns</p>\n",
       "</div>"
      ],
      "text/plain": [
       "         Store  DayOfWeek       Date  Sales  Customers  Open  Promo  \\\n",
       "0            1          5 2015-07-31   5263        555     1      1   \n",
       "1            2          5 2015-07-31   6064        625     1      1   \n",
       "2            3          5 2015-07-31   8314        821     1      1   \n",
       "3            4          5 2015-07-31  13995       1498     1      1   \n",
       "4            5          5 2015-07-31   4822        559     1      1   \n",
       "...        ...        ...        ...    ...        ...   ...    ...   \n",
       "1017204   1111          2 2013-01-01      0          0     0      0   \n",
       "1017205   1112          2 2013-01-01      0          0     0      0   \n",
       "1017206   1113          2 2013-01-01      0          0     0      0   \n",
       "1017207   1114          2 2013-01-01      0          0     0      0   \n",
       "1017208   1115          2 2013-01-01      0          0     0      0   \n",
       "\n",
       "        StateHoliday  SchoolHoliday StoreType Assortment  CompetitionDistance  \\\n",
       "0                  0              1         c          a               1270.0   \n",
       "1                  0              1         a          a                570.0   \n",
       "2                  0              1         a          a              14130.0   \n",
       "3                  0              1         c          c                620.0   \n",
       "4                  0              1         a          a              29910.0   \n",
       "...              ...            ...       ...        ...                  ...   \n",
       "1017204            a              1         a          a               1900.0   \n",
       "1017205            a              1         c          c               1880.0   \n",
       "1017206            a              1         a          c               9260.0   \n",
       "1017207            a              1         a          c                870.0   \n",
       "1017208            a              1         d          c               5350.0   \n",
       "\n",
       "         CompetitionOpenSinceMonth  CompetitionOpenSinceYear  Promo2  \\\n",
       "0                              9.0                    2008.0       0   \n",
       "1                             11.0                    2007.0       1   \n",
       "2                             12.0                    2006.0       1   \n",
       "3                              9.0                    2009.0       0   \n",
       "4                              4.0                    2015.0       0   \n",
       "...                            ...                       ...     ...   \n",
       "1017204                        6.0                    2014.0       1   \n",
       "1017205                        4.0                    2006.0       0   \n",
       "1017206                        NaN                       NaN       0   \n",
       "1017207                        NaN                       NaN       0   \n",
       "1017208                        NaN                       NaN       1   \n",
       "\n",
       "         Promo2SinceWeek  Promo2SinceYear     PromoInterval  Year  Month  Day  \\\n",
       "0                    NaN              NaN               NaN  2015      7   31   \n",
       "1                   13.0           2010.0   Jan,Apr,Jul,Oct  2015      7   31   \n",
       "2                   14.0           2011.0   Jan,Apr,Jul,Oct  2015      7   31   \n",
       "3                    NaN              NaN               NaN  2015      7   31   \n",
       "4                    NaN              NaN               NaN  2015      7   31   \n",
       "...                  ...              ...               ...   ...    ...  ...   \n",
       "1017204             31.0           2013.0   Jan,Apr,Jul,Oct  2013      1    1   \n",
       "1017205              NaN              NaN               NaN  2013      1    1   \n",
       "1017206              NaN              NaN               NaN  2013      1    1   \n",
       "1017207              NaN              NaN               NaN  2013      1    1   \n",
       "1017208             22.0           2012.0  Mar,Jun,Sept,Dec  2013      1    1   \n",
       "\n",
       "         WeekOfYear  \n",
       "0                31  \n",
       "1                31  \n",
       "2                31  \n",
       "3                31  \n",
       "4                31  \n",
       "...             ...  \n",
       "1017204           1  \n",
       "1017205           1  \n",
       "1017206           1  \n",
       "1017207           1  \n",
       "1017208           1  \n",
       "\n",
       "[1017209 rows x 22 columns]"
      ]
     },
     "execution_count": 208,
     "metadata": {},
     "output_type": "execute_result"
    }
   ],
   "source": [
    "merged_df"
   ]
  },
  {
   "cell_type": "code",
   "execution_count": 209,
   "id": "b403deb1",
   "metadata": {
    "execution": {
     "iopub.execute_input": "2021-07-28T19:26:09.431141Z",
     "iopub.status.busy": "2021-07-28T19:26:09.430491Z",
     "iopub.status.idle": "2021-07-28T19:26:09.469762Z",
     "shell.execute_reply": "2021-07-28T19:26:09.470317Z"
    },
    "papermill": {
     "duration": 0.114878,
     "end_time": "2021-07-28T19:26:09.470488",
     "exception": false,
     "start_time": "2021-07-28T19:26:09.355610",
     "status": "completed"
    },
    "tags": []
   },
   "outputs": [
    {
     "data": {
      "text/html": [
       "<div>\n",
       "<style scoped>\n",
       "    .dataframe tbody tr th:only-of-type {\n",
       "        vertical-align: middle;\n",
       "    }\n",
       "\n",
       "    .dataframe tbody tr th {\n",
       "        vertical-align: top;\n",
       "    }\n",
       "\n",
       "    .dataframe thead th {\n",
       "        text-align: right;\n",
       "    }\n",
       "</style>\n",
       "<table border=\"1\" class=\"dataframe\">\n",
       "  <thead>\n",
       "    <tr style=\"text-align: right;\">\n",
       "      <th></th>\n",
       "      <th>Id</th>\n",
       "      <th>Store</th>\n",
       "      <th>DayOfWeek</th>\n",
       "      <th>Date</th>\n",
       "      <th>Open</th>\n",
       "      <th>Promo</th>\n",
       "      <th>StateHoliday</th>\n",
       "      <th>SchoolHoliday</th>\n",
       "      <th>StoreType</th>\n",
       "      <th>Assortment</th>\n",
       "      <th>CompetitionDistance</th>\n",
       "      <th>CompetitionOpenSinceMonth</th>\n",
       "      <th>CompetitionOpenSinceYear</th>\n",
       "      <th>Promo2</th>\n",
       "      <th>Promo2SinceWeek</th>\n",
       "      <th>Promo2SinceYear</th>\n",
       "      <th>PromoInterval</th>\n",
       "      <th>Year</th>\n",
       "      <th>Month</th>\n",
       "      <th>Day</th>\n",
       "      <th>WeekOfYear</th>\n",
       "    </tr>\n",
       "  </thead>\n",
       "  <tbody>\n",
       "    <tr>\n",
       "      <th>0</th>\n",
       "      <td>1</td>\n",
       "      <td>1</td>\n",
       "      <td>4</td>\n",
       "      <td>2015-09-17</td>\n",
       "      <td>1.0</td>\n",
       "      <td>1</td>\n",
       "      <td>0</td>\n",
       "      <td>0</td>\n",
       "      <td>c</td>\n",
       "      <td>a</td>\n",
       "      <td>1270.0</td>\n",
       "      <td>9.0</td>\n",
       "      <td>2008.0</td>\n",
       "      <td>0</td>\n",
       "      <td>NaN</td>\n",
       "      <td>NaN</td>\n",
       "      <td>NaN</td>\n",
       "      <td>2015</td>\n",
       "      <td>9</td>\n",
       "      <td>17</td>\n",
       "      <td>38</td>\n",
       "    </tr>\n",
       "    <tr>\n",
       "      <th>1</th>\n",
       "      <td>2</td>\n",
       "      <td>3</td>\n",
       "      <td>4</td>\n",
       "      <td>2015-09-17</td>\n",
       "      <td>1.0</td>\n",
       "      <td>1</td>\n",
       "      <td>0</td>\n",
       "      <td>0</td>\n",
       "      <td>a</td>\n",
       "      <td>a</td>\n",
       "      <td>14130.0</td>\n",
       "      <td>12.0</td>\n",
       "      <td>2006.0</td>\n",
       "      <td>1</td>\n",
       "      <td>14.0</td>\n",
       "      <td>2011.0</td>\n",
       "      <td>Jan,Apr,Jul,Oct</td>\n",
       "      <td>2015</td>\n",
       "      <td>9</td>\n",
       "      <td>17</td>\n",
       "      <td>38</td>\n",
       "    </tr>\n",
       "    <tr>\n",
       "      <th>2</th>\n",
       "      <td>3</td>\n",
       "      <td>7</td>\n",
       "      <td>4</td>\n",
       "      <td>2015-09-17</td>\n",
       "      <td>1.0</td>\n",
       "      <td>1</td>\n",
       "      <td>0</td>\n",
       "      <td>0</td>\n",
       "      <td>a</td>\n",
       "      <td>c</td>\n",
       "      <td>24000.0</td>\n",
       "      <td>4.0</td>\n",
       "      <td>2013.0</td>\n",
       "      <td>0</td>\n",
       "      <td>NaN</td>\n",
       "      <td>NaN</td>\n",
       "      <td>NaN</td>\n",
       "      <td>2015</td>\n",
       "      <td>9</td>\n",
       "      <td>17</td>\n",
       "      <td>38</td>\n",
       "    </tr>\n",
       "    <tr>\n",
       "      <th>3</th>\n",
       "      <td>4</td>\n",
       "      <td>8</td>\n",
       "      <td>4</td>\n",
       "      <td>2015-09-17</td>\n",
       "      <td>1.0</td>\n",
       "      <td>1</td>\n",
       "      <td>0</td>\n",
       "      <td>0</td>\n",
       "      <td>a</td>\n",
       "      <td>a</td>\n",
       "      <td>7520.0</td>\n",
       "      <td>10.0</td>\n",
       "      <td>2014.0</td>\n",
       "      <td>0</td>\n",
       "      <td>NaN</td>\n",
       "      <td>NaN</td>\n",
       "      <td>NaN</td>\n",
       "      <td>2015</td>\n",
       "      <td>9</td>\n",
       "      <td>17</td>\n",
       "      <td>38</td>\n",
       "    </tr>\n",
       "    <tr>\n",
       "      <th>4</th>\n",
       "      <td>5</td>\n",
       "      <td>9</td>\n",
       "      <td>4</td>\n",
       "      <td>2015-09-17</td>\n",
       "      <td>1.0</td>\n",
       "      <td>1</td>\n",
       "      <td>0</td>\n",
       "      <td>0</td>\n",
       "      <td>a</td>\n",
       "      <td>c</td>\n",
       "      <td>2030.0</td>\n",
       "      <td>8.0</td>\n",
       "      <td>2000.0</td>\n",
       "      <td>0</td>\n",
       "      <td>NaN</td>\n",
       "      <td>NaN</td>\n",
       "      <td>NaN</td>\n",
       "      <td>2015</td>\n",
       "      <td>9</td>\n",
       "      <td>17</td>\n",
       "      <td>38</td>\n",
       "    </tr>\n",
       "    <tr>\n",
       "      <th>...</th>\n",
       "      <td>...</td>\n",
       "      <td>...</td>\n",
       "      <td>...</td>\n",
       "      <td>...</td>\n",
       "      <td>...</td>\n",
       "      <td>...</td>\n",
       "      <td>...</td>\n",
       "      <td>...</td>\n",
       "      <td>...</td>\n",
       "      <td>...</td>\n",
       "      <td>...</td>\n",
       "      <td>...</td>\n",
       "      <td>...</td>\n",
       "      <td>...</td>\n",
       "      <td>...</td>\n",
       "      <td>...</td>\n",
       "      <td>...</td>\n",
       "      <td>...</td>\n",
       "      <td>...</td>\n",
       "      <td>...</td>\n",
       "      <td>...</td>\n",
       "    </tr>\n",
       "    <tr>\n",
       "      <th>41083</th>\n",
       "      <td>41084</td>\n",
       "      <td>1111</td>\n",
       "      <td>6</td>\n",
       "      <td>2015-08-01</td>\n",
       "      <td>1.0</td>\n",
       "      <td>0</td>\n",
       "      <td>0</td>\n",
       "      <td>0</td>\n",
       "      <td>a</td>\n",
       "      <td>a</td>\n",
       "      <td>1900.0</td>\n",
       "      <td>6.0</td>\n",
       "      <td>2014.0</td>\n",
       "      <td>1</td>\n",
       "      <td>31.0</td>\n",
       "      <td>2013.0</td>\n",
       "      <td>Jan,Apr,Jul,Oct</td>\n",
       "      <td>2015</td>\n",
       "      <td>8</td>\n",
       "      <td>1</td>\n",
       "      <td>31</td>\n",
       "    </tr>\n",
       "    <tr>\n",
       "      <th>41084</th>\n",
       "      <td>41085</td>\n",
       "      <td>1112</td>\n",
       "      <td>6</td>\n",
       "      <td>2015-08-01</td>\n",
       "      <td>1.0</td>\n",
       "      <td>0</td>\n",
       "      <td>0</td>\n",
       "      <td>0</td>\n",
       "      <td>c</td>\n",
       "      <td>c</td>\n",
       "      <td>1880.0</td>\n",
       "      <td>4.0</td>\n",
       "      <td>2006.0</td>\n",
       "      <td>0</td>\n",
       "      <td>NaN</td>\n",
       "      <td>NaN</td>\n",
       "      <td>NaN</td>\n",
       "      <td>2015</td>\n",
       "      <td>8</td>\n",
       "      <td>1</td>\n",
       "      <td>31</td>\n",
       "    </tr>\n",
       "    <tr>\n",
       "      <th>41085</th>\n",
       "      <td>41086</td>\n",
       "      <td>1113</td>\n",
       "      <td>6</td>\n",
       "      <td>2015-08-01</td>\n",
       "      <td>1.0</td>\n",
       "      <td>0</td>\n",
       "      <td>0</td>\n",
       "      <td>0</td>\n",
       "      <td>a</td>\n",
       "      <td>c</td>\n",
       "      <td>9260.0</td>\n",
       "      <td>NaN</td>\n",
       "      <td>NaN</td>\n",
       "      <td>0</td>\n",
       "      <td>NaN</td>\n",
       "      <td>NaN</td>\n",
       "      <td>NaN</td>\n",
       "      <td>2015</td>\n",
       "      <td>8</td>\n",
       "      <td>1</td>\n",
       "      <td>31</td>\n",
       "    </tr>\n",
       "    <tr>\n",
       "      <th>41086</th>\n",
       "      <td>41087</td>\n",
       "      <td>1114</td>\n",
       "      <td>6</td>\n",
       "      <td>2015-08-01</td>\n",
       "      <td>1.0</td>\n",
       "      <td>0</td>\n",
       "      <td>0</td>\n",
       "      <td>0</td>\n",
       "      <td>a</td>\n",
       "      <td>c</td>\n",
       "      <td>870.0</td>\n",
       "      <td>NaN</td>\n",
       "      <td>NaN</td>\n",
       "      <td>0</td>\n",
       "      <td>NaN</td>\n",
       "      <td>NaN</td>\n",
       "      <td>NaN</td>\n",
       "      <td>2015</td>\n",
       "      <td>8</td>\n",
       "      <td>1</td>\n",
       "      <td>31</td>\n",
       "    </tr>\n",
       "    <tr>\n",
       "      <th>41087</th>\n",
       "      <td>41088</td>\n",
       "      <td>1115</td>\n",
       "      <td>6</td>\n",
       "      <td>2015-08-01</td>\n",
       "      <td>1.0</td>\n",
       "      <td>0</td>\n",
       "      <td>0</td>\n",
       "      <td>1</td>\n",
       "      <td>d</td>\n",
       "      <td>c</td>\n",
       "      <td>5350.0</td>\n",
       "      <td>NaN</td>\n",
       "      <td>NaN</td>\n",
       "      <td>1</td>\n",
       "      <td>22.0</td>\n",
       "      <td>2012.0</td>\n",
       "      <td>Mar,Jun,Sept,Dec</td>\n",
       "      <td>2015</td>\n",
       "      <td>8</td>\n",
       "      <td>1</td>\n",
       "      <td>31</td>\n",
       "    </tr>\n",
       "  </tbody>\n",
       "</table>\n",
       "<p>41088 rows × 21 columns</p>\n",
       "</div>"
      ],
      "text/plain": [
       "          Id  Store  DayOfWeek       Date  Open  Promo StateHoliday  \\\n",
       "0          1      1          4 2015-09-17   1.0      1            0   \n",
       "1          2      3          4 2015-09-17   1.0      1            0   \n",
       "2          3      7          4 2015-09-17   1.0      1            0   \n",
       "3          4      8          4 2015-09-17   1.0      1            0   \n",
       "4          5      9          4 2015-09-17   1.0      1            0   \n",
       "...      ...    ...        ...        ...   ...    ...          ...   \n",
       "41083  41084   1111          6 2015-08-01   1.0      0            0   \n",
       "41084  41085   1112          6 2015-08-01   1.0      0            0   \n",
       "41085  41086   1113          6 2015-08-01   1.0      0            0   \n",
       "41086  41087   1114          6 2015-08-01   1.0      0            0   \n",
       "41087  41088   1115          6 2015-08-01   1.0      0            0   \n",
       "\n",
       "       SchoolHoliday StoreType Assortment  CompetitionDistance  \\\n",
       "0                  0         c          a               1270.0   \n",
       "1                  0         a          a              14130.0   \n",
       "2                  0         a          c              24000.0   \n",
       "3                  0         a          a               7520.0   \n",
       "4                  0         a          c               2030.0   \n",
       "...              ...       ...        ...                  ...   \n",
       "41083              0         a          a               1900.0   \n",
       "41084              0         c          c               1880.0   \n",
       "41085              0         a          c               9260.0   \n",
       "41086              0         a          c                870.0   \n",
       "41087              1         d          c               5350.0   \n",
       "\n",
       "       CompetitionOpenSinceMonth  CompetitionOpenSinceYear  Promo2  \\\n",
       "0                            9.0                    2008.0       0   \n",
       "1                           12.0                    2006.0       1   \n",
       "2                            4.0                    2013.0       0   \n",
       "3                           10.0                    2014.0       0   \n",
       "4                            8.0                    2000.0       0   \n",
       "...                          ...                       ...     ...   \n",
       "41083                        6.0                    2014.0       1   \n",
       "41084                        4.0                    2006.0       0   \n",
       "41085                        NaN                       NaN       0   \n",
       "41086                        NaN                       NaN       0   \n",
       "41087                        NaN                       NaN       1   \n",
       "\n",
       "       Promo2SinceWeek  Promo2SinceYear     PromoInterval  Year  Month  Day  \\\n",
       "0                  NaN              NaN               NaN  2015      9   17   \n",
       "1                 14.0           2011.0   Jan,Apr,Jul,Oct  2015      9   17   \n",
       "2                  NaN              NaN               NaN  2015      9   17   \n",
       "3                  NaN              NaN               NaN  2015      9   17   \n",
       "4                  NaN              NaN               NaN  2015      9   17   \n",
       "...                ...              ...               ...   ...    ...  ...   \n",
       "41083             31.0           2013.0   Jan,Apr,Jul,Oct  2015      8    1   \n",
       "41084              NaN              NaN               NaN  2015      8    1   \n",
       "41085              NaN              NaN               NaN  2015      8    1   \n",
       "41086              NaN              NaN               NaN  2015      8    1   \n",
       "41087             22.0           2012.0  Mar,Jun,Sept,Dec  2015      8    1   \n",
       "\n",
       "       WeekOfYear  \n",
       "0              38  \n",
       "1              38  \n",
       "2              38  \n",
       "3              38  \n",
       "4              38  \n",
       "...           ...  \n",
       "41083          31  \n",
       "41084          31  \n",
       "41085          31  \n",
       "41086          31  \n",
       "41087          31  \n",
       "\n",
       "[41088 rows x 21 columns]"
      ]
     },
     "execution_count": 209,
     "metadata": {},
     "output_type": "execute_result"
    }
   ],
   "source": [
    "merged_test_df"
   ]
  },
  {
   "cell_type": "markdown",
   "id": "fbc10398",
   "metadata": {
    "papermill": {
     "duration": 0.0718,
     "end_time": "2021-07-28T19:26:09.613960",
     "exception": false,
     "start_time": "2021-07-28T19:26:09.542160",
     "status": "completed"
    },
    "tags": []
   },
   "source": [
    "<b>Note</b> : Date column in training set is the past (2013 - 2015) and that in the test set is the future(2015).<br>\n",
    "Let's first extract different parts of the Date."
   ]
  },
  {
   "cell_type": "code",
   "execution_count": 210,
   "id": "2ffbb3b9",
   "metadata": {
    "execution": {
     "iopub.execute_input": "2021-07-28T19:26:09.760809Z",
     "iopub.status.busy": "2021-07-28T19:26:09.760161Z",
     "iopub.status.idle": "2021-07-28T19:26:09.775347Z",
     "shell.execute_reply": "2021-07-28T19:26:09.774693Z"
    },
    "papermill": {
     "duration": 0.089806,
     "end_time": "2021-07-28T19:26:09.775481",
     "exception": false,
     "start_time": "2021-07-28T19:26:09.685675",
     "status": "completed"
    },
    "tags": []
   },
   "outputs": [
    {
     "data": {
      "text/plain": [
       "Year\n",
       "2013    406974\n",
       "2014    373855\n",
       "2015    236380\n",
       "Name: count, dtype: int64"
      ]
     },
     "execution_count": 210,
     "metadata": {},
     "output_type": "execute_result"
    }
   ],
   "source": [
    "merged_df.Year.value_counts()"
   ]
  },
  {
   "cell_type": "code",
   "execution_count": 211,
   "id": "c32b5e88",
   "metadata": {
    "execution": {
     "iopub.execute_input": "2021-07-28T19:26:09.923298Z",
     "iopub.status.busy": "2021-07-28T19:26:09.922656Z",
     "iopub.status.idle": "2021-07-28T19:26:09.929277Z",
     "shell.execute_reply": "2021-07-28T19:26:09.929767Z"
    },
    "papermill": {
     "duration": 0.081751,
     "end_time": "2021-07-28T19:26:09.929929",
     "exception": false,
     "start_time": "2021-07-28T19:26:09.848178",
     "status": "completed"
    },
    "scrolled": true,
    "tags": []
   },
   "outputs": [
    {
     "data": {
      "text/plain": [
       "Year\n",
       "2015    41088\n",
       "Name: count, dtype: int64"
      ]
     },
     "execution_count": 211,
     "metadata": {},
     "output_type": "execute_result"
    }
   ],
   "source": [
    "merged_test_df.Year.value_counts()"
   ]
  },
  {
   "cell_type": "markdown",
   "id": "e7b2f98d",
   "metadata": {
    "papermill": {
     "duration": 0.072271,
     "end_time": "2021-07-28T19:26:10.074854",
     "exception": false,
     "start_time": "2021-07-28T19:26:10.002583",
     "status": "completed"
    },
    "tags": []
   },
   "source": [
    "#### `Open` Column\n",
    "The open column in the dataset describes whether the store is opened or not.<br>\n",
    "And if the store is not opened on a day there will not be any Sales.<br>\n",
    "It can be seen that the stores are closed for 172817 days (rows).<br>"
   ]
  },
  {
   "cell_type": "code",
   "execution_count": 212,
   "id": "a138b6e3",
   "metadata": {
    "execution": {
     "iopub.execute_input": "2021-07-28T19:26:10.223776Z",
     "iopub.status.busy": "2021-07-28T19:26:10.223118Z",
     "iopub.status.idle": "2021-07-28T19:26:10.469257Z",
     "shell.execute_reply": "2021-07-28T19:26:10.468276Z"
    },
    "papermill": {
     "duration": 0.321328,
     "end_time": "2021-07-28T19:26:10.469421",
     "exception": false,
     "start_time": "2021-07-28T19:26:10.148093",
     "status": "completed"
    },
    "tags": []
   },
   "outputs": [
    {
     "data": {
      "text/plain": [
       "291        0\n",
       "875        0\n",
       "1406       0\n",
       "1990       0\n",
       "2521       0\n",
       "          ..\n",
       "1017204    0\n",
       "1017205    0\n",
       "1017206    0\n",
       "1017207    0\n",
       "1017208    0\n",
       "Name: Sales, Length: 172817, dtype: int64"
      ]
     },
     "execution_count": 212,
     "metadata": {},
     "output_type": "execute_result"
    }
   ],
   "source": [
    "#merged_df[merged_df.Open == 0].Sales.value_counts()\n",
    "merged_df[merged_df.Open == 0].Sales"
   ]
  },
  {
   "cell_type": "markdown",
   "id": "5f324c08",
   "metadata": {
    "papermill": {
     "duration": 0.072718,
     "end_time": "2021-07-28T19:26:10.616109",
     "exception": false,
     "start_time": "2021-07-28T19:26:10.543391",
     "status": "completed"
    },
    "tags": []
   },
   "source": [
    "Therefore it is obvious that if a store is closed then the Sales on that day is zero.<br>\n",
    "Therefore, let's drop all columns in the merged_df for which Open=0.<br>\n",
    "And while predicting, Sales of merged_test_df = 0 when Open = 0.<br>"
   ]
  },
  {
   "cell_type": "code",
   "execution_count": 213,
   "id": "692128d0",
   "metadata": {
    "execution": {
     "iopub.execute_input": "2021-07-28T19:26:10.769729Z",
     "iopub.status.busy": "2021-07-28T19:26:10.769058Z",
     "iopub.status.idle": "2021-07-28T19:26:10.924593Z",
     "shell.execute_reply": "2021-07-28T19:26:10.924046Z"
    },
    "papermill": {
     "duration": 0.234253,
     "end_time": "2021-07-28T19:26:10.924755",
     "exception": false,
     "start_time": "2021-07-28T19:26:10.690502",
     "status": "completed"
    },
    "tags": []
   },
   "outputs": [],
   "source": [
    "merged_df = merged_df[merged_df.Open == 1].copy()"
   ]
  },
  {
   "cell_type": "markdown",
   "id": "eedcf506",
   "metadata": {
    "papermill": {
     "duration": 0.072777,
     "end_time": "2021-07-28T19:26:11.071550",
     "exception": false,
     "start_time": "2021-07-28T19:26:10.998773",
     "status": "completed"
    },
    "tags": []
   },
   "source": [
    "### CompetitionOpenSinceMonth & CompetitionOpenSinceYear\n",
    "\n",
    "- CompetitionOpenSinceYear : On which year the competitor store was opened.\n",
    "- CompetitionOpenSinceMonth : On which month the competitor store was opened.\n",
    "\n",
    "It will be helpful for our model if the duration of competition (number of months) is known instead of the exact date in which the competition store has opened.<br>\n",
    "So, we'll use these two rows along with Year, Month columns to derive the duration column and use it to train our model.<br>\n",
    "\n",
    "The longer the compititor store has opened, the more the more impact on the Sales of the store."
   ]
  },
  {
   "cell_type": "markdown",
   "id": "fd56ec7f",
   "metadata": {
    "papermill": {
     "duration": 0.073017,
     "end_time": "2021-07-28T19:26:11.218297",
     "exception": false,
     "start_time": "2021-07-28T19:26:11.145280",
     "status": "completed"
    },
    "tags": []
   },
   "source": [
    "<b>Note : </b><br>\n",
    "There are Nan Values also in `CompetitionOpenSinceYear` & `CompetitionOpenSinceMonth` which means there is no competition store nearby for which the value is to be replaced as zero.<br>\n",
    "\n",
    "Also for a store there might not be competition in a particular date but the competition arises in future and in such cases the difference will be negative value.<br>\n",
    "\n",
    "These are not relevant values since it represent the future in which the competition arises and also no competition.<br>\n",
    "Therefore, negative and NaN values are replaced with zero."
   ]
  },
  {
   "cell_type": "code",
   "execution_count": 214,
   "id": "db70b193",
   "metadata": {
    "execution": {
     "iopub.execute_input": "2021-07-28T19:26:11.377008Z",
     "iopub.status.busy": "2021-07-28T19:26:11.376327Z",
     "iopub.status.idle": "2021-07-28T19:26:11.393873Z",
     "shell.execute_reply": "2021-07-28T19:26:11.393357Z"
    },
    "papermill": {
     "duration": 0.102532,
     "end_time": "2021-07-28T19:26:11.394014",
     "exception": false,
     "start_time": "2021-07-28T19:26:11.291482",
     "status": "completed"
    },
    "tags": []
   },
   "outputs": [
    {
     "name": "stdout",
     "output_type": "stream",
     "text": [
      "<class 'pandas.core.frame.DataFrame'>\n",
      "Index: 844392 entries, 0 to 1017190\n",
      "Data columns (total 4 columns):\n",
      " #   Column                     Non-Null Count   Dtype  \n",
      "---  ------                     --------------   -----  \n",
      " 0   CompetitionOpenSinceMonth  575773 non-null  float64\n",
      " 1   CompetitionOpenSinceYear   575773 non-null  float64\n",
      " 2   Year                       844392 non-null  int32  \n",
      " 3   Month                      844392 non-null  int32  \n",
      "dtypes: float64(2), int32(2)\n",
      "memory usage: 25.8 MB\n"
     ]
    }
   ],
   "source": [
    "merged_df[['CompetitionOpenSinceMonth', 'CompetitionOpenSinceYear', 'Year', 'Month']].info()"
   ]
  },
  {
   "cell_type": "code",
   "execution_count": 215,
   "id": "5657c315",
   "metadata": {
    "execution": {
     "iopub.execute_input": "2021-07-28T19:26:11.549530Z",
     "iopub.status.busy": "2021-07-28T19:26:11.548869Z",
     "iopub.status.idle": "2021-07-28T19:26:11.551828Z",
     "shell.execute_reply": "2021-07-28T19:26:11.551293Z"
    },
    "papermill": {
     "duration": 0.082455,
     "end_time": "2021-07-28T19:26:11.551990",
     "exception": false,
     "start_time": "2021-07-28T19:26:11.469535",
     "status": "completed"
    },
    "tags": []
   },
   "outputs": [],
   "source": [
    "def calc_duration_competition(data):\n",
    "    # 在这里加对数据为空的处理\n",
    "    data.loc[data.CompetitionOpenSinceYear.isnull(), 'CompetitionOpenSinceYear'] =0\n",
    "    data.loc[data.CompetitionOpenSinceMonth.isnull(), 'Month']=0\n",
    "    data.loc[data.CompetitionOpenSinceMonth.isnull(), 'CompetitionOpenSinceMonth']=0\n",
    "    \n",
    "    data['CompetitionOpen'] = 12 * (data.Year - data.CompetitionOpenSinceYear) + (data.Month - data.CompetitionOpenSinceMonth)\n",
    "    data['CompetitionOpen'] = data['CompetitionOpen'].apply(lambda x:0 if x<0 else x).fillna(0)"
   ]
  },
  {
   "cell_type": "code",
   "execution_count": 216,
   "id": "afac9131",
   "metadata": {
    "execution": {
     "iopub.execute_input": "2021-07-28T19:26:11.705846Z",
     "iopub.status.busy": "2021-07-28T19:26:11.705163Z",
     "iopub.status.idle": "2021-07-28T19:26:12.097509Z",
     "shell.execute_reply": "2021-07-28T19:26:12.096827Z"
    },
    "papermill": {
     "duration": 0.471047,
     "end_time": "2021-07-28T19:26:12.097654",
     "exception": false,
     "start_time": "2021-07-28T19:26:11.626607",
     "status": "completed"
    },
    "tags": []
   },
   "outputs": [],
   "source": [
    "calc_duration_competition(merged_df)\n",
    "calc_duration_competition(merged_test_df)"
   ]
  },
  {
   "cell_type": "code",
   "execution_count": 217,
   "id": "9e7758c9",
   "metadata": {
    "execution": {
     "iopub.execute_input": "2021-07-28T19:26:12.253540Z",
     "iopub.status.busy": "2021-07-28T19:26:12.252878Z",
     "iopub.status.idle": "2021-07-28T19:26:12.298873Z",
     "shell.execute_reply": "2021-07-28T19:26:12.299324Z"
    },
    "papermill": {
     "duration": 0.127106,
     "end_time": "2021-07-28T19:26:12.299495",
     "exception": false,
     "start_time": "2021-07-28T19:26:12.172389",
     "status": "completed"
    },
    "tags": []
   },
   "outputs": [
    {
     "name": "stdout",
     "output_type": "stream",
     "text": [
      "<class 'pandas.core.frame.DataFrame'>\n",
      "Index: 844392 entries, 0 to 1017190\n",
      "Data columns (total 4 columns):\n",
      " #   Column                     Non-Null Count   Dtype  \n",
      "---  ------                     --------------   -----  \n",
      " 0   CompetitionOpenSinceMonth  844392 non-null  float64\n",
      " 1   CompetitionOpenSinceYear   844392 non-null  float64\n",
      " 2   Year                       844392 non-null  int32  \n",
      " 3   Month                      844392 non-null  int32  \n",
      "dtypes: float64(2), int32(2)\n",
      "memory usage: 25.8 MB\n"
     ]
    }
   ],
   "source": [
    "merged_df[['CompetitionOpenSinceMonth', 'CompetitionOpenSinceYear', 'Year', 'Month']].info()"
   ]
  },
  {
   "cell_type": "code",
   "execution_count": 218,
   "id": "346fe6f3",
   "metadata": {
    "execution": {
     "iopub.execute_input": "2021-07-28T19:26:12.464227Z",
     "iopub.status.busy": "2021-07-28T19:26:12.463585Z",
     "iopub.status.idle": "2021-07-28T19:26:12.516509Z",
     "shell.execute_reply": "2021-07-28T19:26:12.515946Z"
    },
    "papermill": {
     "duration": 0.142607,
     "end_time": "2021-07-28T19:26:12.516649",
     "exception": false,
     "start_time": "2021-07-28T19:26:12.374042",
     "status": "completed"
    },
    "tags": []
   },
   "outputs": [
    {
     "data": {
      "text/html": [
       "<div>\n",
       "<style scoped>\n",
       "    .dataframe tbody tr th:only-of-type {\n",
       "        vertical-align: middle;\n",
       "    }\n",
       "\n",
       "    .dataframe tbody tr th {\n",
       "        vertical-align: top;\n",
       "    }\n",
       "\n",
       "    .dataframe thead th {\n",
       "        text-align: right;\n",
       "    }\n",
       "</style>\n",
       "<table border=\"1\" class=\"dataframe\">\n",
       "  <thead>\n",
       "    <tr style=\"text-align: right;\">\n",
       "      <th></th>\n",
       "      <th>Date</th>\n",
       "      <th>CompetitionDistance</th>\n",
       "      <th>CompetitionOpenSinceYear</th>\n",
       "      <th>CompetitionOpenSinceMonth</th>\n",
       "      <th>CompetitionOpen</th>\n",
       "    </tr>\n",
       "  </thead>\n",
       "  <tbody>\n",
       "    <tr>\n",
       "      <th>450761</th>\n",
       "      <td>2014-05-24</td>\n",
       "      <td>2210.0</td>\n",
       "      <td>2011.0</td>\n",
       "      <td>11.0</td>\n",
       "      <td>30.0</td>\n",
       "    </tr>\n",
       "    <tr>\n",
       "      <th>702445</th>\n",
       "      <td>2013-10-10</td>\n",
       "      <td>630.0</td>\n",
       "      <td>2007.0</td>\n",
       "      <td>4.0</td>\n",
       "      <td>78.0</td>\n",
       "    </tr>\n",
       "    <tr>\n",
       "      <th>626767</th>\n",
       "      <td>2013-12-17</td>\n",
       "      <td>280.0</td>\n",
       "      <td>2008.0</td>\n",
       "      <td>9.0</td>\n",
       "      <td>63.0</td>\n",
       "    </tr>\n",
       "    <tr>\n",
       "      <th>960423</th>\n",
       "      <td>2013-02-20</td>\n",
       "      <td>3320.0</td>\n",
       "      <td>0.0</td>\n",
       "      <td>0.0</td>\n",
       "      <td>24156.0</td>\n",
       "    </tr>\n",
       "    <tr>\n",
       "      <th>497443</th>\n",
       "      <td>2014-04-12</td>\n",
       "      <td>1340.0</td>\n",
       "      <td>0.0</td>\n",
       "      <td>0.0</td>\n",
       "      <td>24168.0</td>\n",
       "    </tr>\n",
       "    <tr>\n",
       "      <th>471468</th>\n",
       "      <td>2014-05-05</td>\n",
       "      <td>2070.0</td>\n",
       "      <td>2007.0</td>\n",
       "      <td>9.0</td>\n",
       "      <td>80.0</td>\n",
       "    </tr>\n",
       "    <tr>\n",
       "      <th>596592</th>\n",
       "      <td>2014-01-13</td>\n",
       "      <td>14040.0</td>\n",
       "      <td>0.0</td>\n",
       "      <td>0.0</td>\n",
       "      <td>24168.0</td>\n",
       "    </tr>\n",
       "    <tr>\n",
       "      <th>372569</th>\n",
       "      <td>2014-08-08</td>\n",
       "      <td>11900.0</td>\n",
       "      <td>0.0</td>\n",
       "      <td>0.0</td>\n",
       "      <td>24168.0</td>\n",
       "    </tr>\n",
       "    <tr>\n",
       "      <th>355073</th>\n",
       "      <td>2014-08-27</td>\n",
       "      <td>13190.0</td>\n",
       "      <td>0.0</td>\n",
       "      <td>0.0</td>\n",
       "      <td>24168.0</td>\n",
       "    </tr>\n",
       "    <tr>\n",
       "      <th>743009</th>\n",
       "      <td>2013-09-03</td>\n",
       "      <td>330.0</td>\n",
       "      <td>2007.0</td>\n",
       "      <td>11.0</td>\n",
       "      <td>70.0</td>\n",
       "    </tr>\n",
       "    <tr>\n",
       "      <th>523074</th>\n",
       "      <td>2014-03-20</td>\n",
       "      <td>470.0</td>\n",
       "      <td>2007.0</td>\n",
       "      <td>3.0</td>\n",
       "      <td>84.0</td>\n",
       "    </tr>\n",
       "    <tr>\n",
       "      <th>388462</th>\n",
       "      <td>2014-07-22</td>\n",
       "      <td>5980.0</td>\n",
       "      <td>2005.0</td>\n",
       "      <td>10.0</td>\n",
       "      <td>105.0</td>\n",
       "    </tr>\n",
       "    <tr>\n",
       "      <th>198701</th>\n",
       "      <td>2015-02-03</td>\n",
       "      <td>13570.0</td>\n",
       "      <td>2010.0</td>\n",
       "      <td>5.0</td>\n",
       "      <td>57.0</td>\n",
       "    </tr>\n",
       "    <tr>\n",
       "      <th>844726</th>\n",
       "      <td>2013-06-04</td>\n",
       "      <td>15770.0</td>\n",
       "      <td>0.0</td>\n",
       "      <td>0.0</td>\n",
       "      <td>24156.0</td>\n",
       "    </tr>\n",
       "    <tr>\n",
       "      <th>54173</th>\n",
       "      <td>2015-06-13</td>\n",
       "      <td>6930.0</td>\n",
       "      <td>2006.0</td>\n",
       "      <td>9.0</td>\n",
       "      <td>105.0</td>\n",
       "    </tr>\n",
       "    <tr>\n",
       "      <th>716092</th>\n",
       "      <td>2013-09-28</td>\n",
       "      <td>1860.0</td>\n",
       "      <td>2012.0</td>\n",
       "      <td>9.0</td>\n",
       "      <td>12.0</td>\n",
       "    </tr>\n",
       "    <tr>\n",
       "      <th>809176</th>\n",
       "      <td>2013-07-06</td>\n",
       "      <td>5030.0</td>\n",
       "      <td>2011.0</td>\n",
       "      <td>8.0</td>\n",
       "      <td>23.0</td>\n",
       "    </tr>\n",
       "    <tr>\n",
       "      <th>517427</th>\n",
       "      <td>2014-03-25</td>\n",
       "      <td>14040.0</td>\n",
       "      <td>0.0</td>\n",
       "      <td>0.0</td>\n",
       "      <td>24168.0</td>\n",
       "    </tr>\n",
       "    <tr>\n",
       "      <th>217975</th>\n",
       "      <td>2015-01-17</td>\n",
       "      <td>2190.0</td>\n",
       "      <td>2013.0</td>\n",
       "      <td>9.0</td>\n",
       "      <td>16.0</td>\n",
       "    </tr>\n",
       "    <tr>\n",
       "      <th>251991</th>\n",
       "      <td>2014-12-15</td>\n",
       "      <td>560.0</td>\n",
       "      <td>2014.0</td>\n",
       "      <td>10.0</td>\n",
       "      <td>2.0</td>\n",
       "    </tr>\n",
       "  </tbody>\n",
       "</table>\n",
       "</div>"
      ],
      "text/plain": [
       "             Date  CompetitionDistance  CompetitionOpenSinceYear  \\\n",
       "450761 2014-05-24               2210.0                    2011.0   \n",
       "702445 2013-10-10                630.0                    2007.0   \n",
       "626767 2013-12-17                280.0                    2008.0   \n",
       "960423 2013-02-20               3320.0                       0.0   \n",
       "497443 2014-04-12               1340.0                       0.0   \n",
       "471468 2014-05-05               2070.0                    2007.0   \n",
       "596592 2014-01-13              14040.0                       0.0   \n",
       "372569 2014-08-08              11900.0                       0.0   \n",
       "355073 2014-08-27              13190.0                       0.0   \n",
       "743009 2013-09-03                330.0                    2007.0   \n",
       "523074 2014-03-20                470.0                    2007.0   \n",
       "388462 2014-07-22               5980.0                    2005.0   \n",
       "198701 2015-02-03              13570.0                    2010.0   \n",
       "844726 2013-06-04              15770.0                       0.0   \n",
       "54173  2015-06-13               6930.0                    2006.0   \n",
       "716092 2013-09-28               1860.0                    2012.0   \n",
       "809176 2013-07-06               5030.0                    2011.0   \n",
       "517427 2014-03-25              14040.0                       0.0   \n",
       "217975 2015-01-17               2190.0                    2013.0   \n",
       "251991 2014-12-15                560.0                    2014.0   \n",
       "\n",
       "        CompetitionOpenSinceMonth  CompetitionOpen  \n",
       "450761                       11.0             30.0  \n",
       "702445                        4.0             78.0  \n",
       "626767                        9.0             63.0  \n",
       "960423                        0.0          24156.0  \n",
       "497443                        0.0          24168.0  \n",
       "471468                        9.0             80.0  \n",
       "596592                        0.0          24168.0  \n",
       "372569                        0.0          24168.0  \n",
       "355073                        0.0          24168.0  \n",
       "743009                       11.0             70.0  \n",
       "523074                        3.0             84.0  \n",
       "388462                       10.0            105.0  \n",
       "198701                        5.0             57.0  \n",
       "844726                        0.0          24156.0  \n",
       "54173                         9.0            105.0  \n",
       "716092                        9.0             12.0  \n",
       "809176                        8.0             23.0  \n",
       "517427                        0.0          24168.0  \n",
       "217975                        9.0             16.0  \n",
       "251991                       10.0              2.0  "
      ]
     },
     "execution_count": 218,
     "metadata": {},
     "output_type": "execute_result"
    }
   ],
   "source": [
    "merged_df[['Date', 'CompetitionDistance', 'CompetitionOpenSinceYear', 'CompetitionOpenSinceMonth', 'CompetitionOpen']].sample(20)"
   ]
  },
  {
   "cell_type": "markdown",
   "id": "105b662d",
   "metadata": {
    "papermill": {
     "duration": 0.075169,
     "end_time": "2021-07-28T19:26:12.669907",
     "exception": false,
     "start_time": "2021-07-28T19:26:12.594738",
     "status": "completed"
    },
    "tags": []
   },
   "source": [
    "#### Promotion of Store\n",
    "Promotions given by a store increases the sales.<br>\n",
    "\n",
    "Promo - indicates whether a store is running a promo on that day<br>\n",
    "Promo2 - Promo2 is a continuing and consecutive promotion for some stores: 0 = store is not participating, 1 = store is participating<br>\n",
    "Promo2Since[Year/Week] - describes the year and calendar week when the store started participating in Promo2<br>\n",
    "PromoInterval - describes the consecutive intervals Promo2 is started, naming the months the promotion is started anew. E.g. \"Feb,May,Aug,Nov\" means each round starts in February, May, August, November of any given year for that store\n",
    "\n",
    "We can also add some additional columns to indicate how long (Number of months) a store has been running `Promo2` and whether a new round of `Promo2` starts in the current month.<br>\n",
    "\n",
    "<b>Note : </b>Here also negative values and NaN values are replaced as zero."
   ]
  },
  {
   "cell_type": "code",
   "execution_count": 219,
   "id": "dfb525a8",
   "metadata": {
    "execution": {
     "iopub.execute_input": "2021-07-28T19:26:12.835213Z",
     "iopub.status.busy": "2021-07-28T19:26:12.834463Z",
     "iopub.status.idle": "2021-07-28T19:26:12.837177Z",
     "shell.execute_reply": "2021-07-28T19:26:12.836496Z"
    },
    "papermill": {
     "duration": 0.08778,
     "end_time": "2021-07-28T19:26:12.837333",
     "exception": false,
     "start_time": "2021-07-28T19:26:12.749553",
     "status": "completed"
    },
    "tags": []
   },
   "outputs": [],
   "source": [
    "def check_promo_month(row):#check if promo is given in the particular month\n",
    "    month2str = {1:'Jan', 2:'Feb', 3:'Mar', 4:'Apr', 5:'May', 6:'Jun',              \n",
    "                 7:'Jul', 8:'Aug', 9:'Sept', 10:'Oct', 11:'Nov', 12:'Dec'}\n",
    "    try:\n",
    "        months = (row['PromoInterval'] or '').split(',')\n",
    "        if(row['Promo2Open'] and month2str[row['Month']] in months):\n",
    "            return 1\n",
    "        else:\n",
    "            return 0\n",
    "    except:\n",
    "        return 0\n",
    "    \n",
    "def promo_cols(data): #calculate duration of promotion(in months)\n",
    "    data['Promo2Open'] = 12 * (data.Year - data.Promo2SinceYear) + (data.WeekOfYear - data.Promo2SinceWeek)*7/30.5\n",
    "    # 修复类型报错data['Promo2']\n",
    "    data.loc[data.Promo2SinceYear.isnull(), 'Promo2SinceYear'] = 0\n",
    "    data.loc[data.Promo2SinceWeek.isnull(), 'Promo2SinceWeek'] = 0\n",
    "    data.loc[data.Promo2.isnull(), 'Promo2'] = 0    \n",
    "    data.loc[data.Promo2Open.isnull(), 'Promo2Open'] = 0\n",
    "    data['Promo2Open'] = data['Promo2Open'].apply(lambda x: 0 if x < 0 else x).fillna(0)*data['Promo2']#only when there is promo\n",
    "    #whether a new round of promotion started in curent month\n",
    "    data['IsPromo2Month'] = data.apply(check_promo_month, axis=1) * data['Promo2']"
   ]
  },
  {
   "cell_type": "code",
   "execution_count": 220,
   "id": "4c4d8443",
   "metadata": {
    "execution": {
     "iopub.execute_input": "2021-07-28T19:26:12.991192Z",
     "iopub.status.busy": "2021-07-28T19:26:12.990536Z",
     "iopub.status.idle": "2021-07-28T19:26:35.764652Z",
     "shell.execute_reply": "2021-07-28T19:26:35.765160Z"
    },
    "papermill": {
     "duration": 22.852498,
     "end_time": "2021-07-28T19:26:35.765332",
     "exception": false,
     "start_time": "2021-07-28T19:26:12.912834",
     "status": "completed"
    },
    "tags": []
   },
   "outputs": [
    {
     "name": "stdout",
     "output_type": "stream",
     "text": [
      "CPU times: user 3.82 s, sys: 114 ms, total: 3.94 s\n",
      "Wall time: 3.94 s\n"
     ]
    }
   ],
   "source": [
    "%%time\n",
    "# print('Before:', merged_df)\n",
    "promo_cols(merged_df)\n",
    "promo_cols(merged_test_df)"
   ]
  },
  {
   "cell_type": "code",
   "execution_count": 221,
   "id": "66a03dcc",
   "metadata": {
    "execution": {
     "iopub.execute_input": "2021-07-28T19:26:35.923010Z",
     "iopub.status.busy": "2021-07-28T19:26:35.922354Z",
     "iopub.status.idle": "2021-07-28T19:26:36.026288Z",
     "shell.execute_reply": "2021-07-28T19:26:36.025652Z"
    },
    "papermill": {
     "duration": 0.183991,
     "end_time": "2021-07-28T19:26:36.026421",
     "exception": false,
     "start_time": "2021-07-28T19:26:35.842430",
     "status": "completed"
    },
    "tags": []
   },
   "outputs": [
    {
     "data": {
      "text/html": [
       "<div>\n",
       "<style scoped>\n",
       "    .dataframe tbody tr th:only-of-type {\n",
       "        vertical-align: middle;\n",
       "    }\n",
       "\n",
       "    .dataframe tbody tr th {\n",
       "        vertical-align: top;\n",
       "    }\n",
       "\n",
       "    .dataframe thead th {\n",
       "        text-align: right;\n",
       "    }\n",
       "</style>\n",
       "<table border=\"1\" class=\"dataframe\">\n",
       "  <thead>\n",
       "    <tr style=\"text-align: right;\">\n",
       "      <th></th>\n",
       "      <th>Date</th>\n",
       "      <th>Promo2</th>\n",
       "      <th>Promo2SinceYear</th>\n",
       "      <th>Promo2SinceWeek</th>\n",
       "      <th>PromoInterval</th>\n",
       "      <th>Promo2Open</th>\n",
       "      <th>IsPromo2Month</th>\n",
       "    </tr>\n",
       "  </thead>\n",
       "  <tbody>\n",
       "    <tr>\n",
       "      <th>222725</th>\n",
       "      <td>2015-01-13</td>\n",
       "      <td>0</td>\n",
       "      <td>0.0</td>\n",
       "      <td>0.0</td>\n",
       "      <td>NaN</td>\n",
       "      <td>0.000000</td>\n",
       "      <td>0</td>\n",
       "    </tr>\n",
       "    <tr>\n",
       "      <th>172149</th>\n",
       "      <td>2015-02-27</td>\n",
       "      <td>1</td>\n",
       "      <td>2009.0</td>\n",
       "      <td>45.0</td>\n",
       "      <td>Feb,May,Aug,Nov</td>\n",
       "      <td>63.737705</td>\n",
       "      <td>1</td>\n",
       "    </tr>\n",
       "    <tr>\n",
       "      <th>768551</th>\n",
       "      <td>2013-08-12</td>\n",
       "      <td>1</td>\n",
       "      <td>2014.0</td>\n",
       "      <td>40.0</td>\n",
       "      <td>Jan,Apr,Jul,Oct</td>\n",
       "      <td>0.000000</td>\n",
       "      <td>0</td>\n",
       "    </tr>\n",
       "    <tr>\n",
       "      <th>494405</th>\n",
       "      <td>2014-04-14</td>\n",
       "      <td>0</td>\n",
       "      <td>0.0</td>\n",
       "      <td>0.0</td>\n",
       "      <td>NaN</td>\n",
       "      <td>0.000000</td>\n",
       "      <td>0</td>\n",
       "    </tr>\n",
       "    <tr>\n",
       "      <th>393237</th>\n",
       "      <td>2014-07-17</td>\n",
       "      <td>1</td>\n",
       "      <td>2010.0</td>\n",
       "      <td>13.0</td>\n",
       "      <td>Jan,Apr,Jul,Oct</td>\n",
       "      <td>51.672131</td>\n",
       "      <td>0</td>\n",
       "    </tr>\n",
       "    <tr>\n",
       "      <th>1009736</th>\n",
       "      <td>2013-01-07</td>\n",
       "      <td>0</td>\n",
       "      <td>0.0</td>\n",
       "      <td>0.0</td>\n",
       "      <td>NaN</td>\n",
       "      <td>0.000000</td>\n",
       "      <td>0</td>\n",
       "    </tr>\n",
       "    <tr>\n",
       "      <th>878984</th>\n",
       "      <td>2013-05-04</td>\n",
       "      <td>1</td>\n",
       "      <td>2012.0</td>\n",
       "      <td>1.0</td>\n",
       "      <td>Jan,Apr,Jul,Oct</td>\n",
       "      <td>15.901639</td>\n",
       "      <td>0</td>\n",
       "    </tr>\n",
       "    <tr>\n",
       "      <th>969553</th>\n",
       "      <td>2013-02-12</td>\n",
       "      <td>0</td>\n",
       "      <td>0.0</td>\n",
       "      <td>0.0</td>\n",
       "      <td>NaN</td>\n",
       "      <td>0.000000</td>\n",
       "      <td>0</td>\n",
       "    </tr>\n",
       "    <tr>\n",
       "      <th>399853</th>\n",
       "      <td>2014-07-10</td>\n",
       "      <td>0</td>\n",
       "      <td>0.0</td>\n",
       "      <td>0.0</td>\n",
       "      <td>NaN</td>\n",
       "      <td>0.000000</td>\n",
       "      <td>0</td>\n",
       "    </tr>\n",
       "    <tr>\n",
       "      <th>537760</th>\n",
       "      <td>2014-03-06</td>\n",
       "      <td>0</td>\n",
       "      <td>0.0</td>\n",
       "      <td>0.0</td>\n",
       "      <td>NaN</td>\n",
       "      <td>0.000000</td>\n",
       "      <td>0</td>\n",
       "    </tr>\n",
       "    <tr>\n",
       "      <th>327575</th>\n",
       "      <td>2014-09-25</td>\n",
       "      <td>0</td>\n",
       "      <td>0.0</td>\n",
       "      <td>0.0</td>\n",
       "      <td>NaN</td>\n",
       "      <td>0.000000</td>\n",
       "      <td>0</td>\n",
       "    </tr>\n",
       "    <tr>\n",
       "      <th>846235</th>\n",
       "      <td>2013-06-03</td>\n",
       "      <td>1</td>\n",
       "      <td>2011.0</td>\n",
       "      <td>14.0</td>\n",
       "      <td>Jan,Apr,Jul,Oct</td>\n",
       "      <td>26.065574</td>\n",
       "      <td>0</td>\n",
       "    </tr>\n",
       "    <tr>\n",
       "      <th>26565</th>\n",
       "      <td>2015-07-08</td>\n",
       "      <td>0</td>\n",
       "      <td>0.0</td>\n",
       "      <td>0.0</td>\n",
       "      <td>NaN</td>\n",
       "      <td>0.000000</td>\n",
       "      <td>0</td>\n",
       "    </tr>\n",
       "    <tr>\n",
       "      <th>477957</th>\n",
       "      <td>2014-04-29</td>\n",
       "      <td>1</td>\n",
       "      <td>2009.0</td>\n",
       "      <td>45.0</td>\n",
       "      <td>Feb,May,Aug,Nov</td>\n",
       "      <td>53.803279</td>\n",
       "      <td>0</td>\n",
       "    </tr>\n",
       "    <tr>\n",
       "      <th>485572</th>\n",
       "      <td>2014-04-22</td>\n",
       "      <td>1</td>\n",
       "      <td>2011.0</td>\n",
       "      <td>9.0</td>\n",
       "      <td>Mar,Jun,Sept,Dec</td>\n",
       "      <td>37.836066</td>\n",
       "      <td>0</td>\n",
       "    </tr>\n",
       "    <tr>\n",
       "      <th>96204</th>\n",
       "      <td>2015-05-06</td>\n",
       "      <td>0</td>\n",
       "      <td>0.0</td>\n",
       "      <td>0.0</td>\n",
       "      <td>NaN</td>\n",
       "      <td>0.000000</td>\n",
       "      <td>0</td>\n",
       "    </tr>\n",
       "    <tr>\n",
       "      <th>744969</th>\n",
       "      <td>2013-09-02</td>\n",
       "      <td>0</td>\n",
       "      <td>0.0</td>\n",
       "      <td>0.0</td>\n",
       "      <td>NaN</td>\n",
       "      <td>0.000000</td>\n",
       "      <td>0</td>\n",
       "    </tr>\n",
       "    <tr>\n",
       "      <th>81852</th>\n",
       "      <td>2015-05-19</td>\n",
       "      <td>0</td>\n",
       "      <td>0.0</td>\n",
       "      <td>0.0</td>\n",
       "      <td>NaN</td>\n",
       "      <td>0.000000</td>\n",
       "      <td>0</td>\n",
       "    </tr>\n",
       "    <tr>\n",
       "      <th>202577</th>\n",
       "      <td>2015-01-31</td>\n",
       "      <td>0</td>\n",
       "      <td>0.0</td>\n",
       "      <td>0.0</td>\n",
       "      <td>NaN</td>\n",
       "      <td>0.000000</td>\n",
       "      <td>0</td>\n",
       "    </tr>\n",
       "    <tr>\n",
       "      <th>772711</th>\n",
       "      <td>2013-08-08</td>\n",
       "      <td>1</td>\n",
       "      <td>2011.0</td>\n",
       "      <td>22.0</td>\n",
       "      <td>Feb,May,Aug,Nov</td>\n",
       "      <td>26.295082</td>\n",
       "      <td>0</td>\n",
       "    </tr>\n",
       "  </tbody>\n",
       "</table>\n",
       "</div>"
      ],
      "text/plain": [
       "              Date  Promo2  Promo2SinceYear  Promo2SinceWeek  \\\n",
       "222725  2015-01-13       0              0.0              0.0   \n",
       "172149  2015-02-27       1           2009.0             45.0   \n",
       "768551  2013-08-12       1           2014.0             40.0   \n",
       "494405  2014-04-14       0              0.0              0.0   \n",
       "393237  2014-07-17       1           2010.0             13.0   \n",
       "1009736 2013-01-07       0              0.0              0.0   \n",
       "878984  2013-05-04       1           2012.0              1.0   \n",
       "969553  2013-02-12       0              0.0              0.0   \n",
       "399853  2014-07-10       0              0.0              0.0   \n",
       "537760  2014-03-06       0              0.0              0.0   \n",
       "327575  2014-09-25       0              0.0              0.0   \n",
       "846235  2013-06-03       1           2011.0             14.0   \n",
       "26565   2015-07-08       0              0.0              0.0   \n",
       "477957  2014-04-29       1           2009.0             45.0   \n",
       "485572  2014-04-22       1           2011.0              9.0   \n",
       "96204   2015-05-06       0              0.0              0.0   \n",
       "744969  2013-09-02       0              0.0              0.0   \n",
       "81852   2015-05-19       0              0.0              0.0   \n",
       "202577  2015-01-31       0              0.0              0.0   \n",
       "772711  2013-08-08       1           2011.0             22.0   \n",
       "\n",
       "            PromoInterval  Promo2Open  IsPromo2Month  \n",
       "222725                NaN    0.000000              0  \n",
       "172149    Feb,May,Aug,Nov   63.737705              1  \n",
       "768551    Jan,Apr,Jul,Oct    0.000000              0  \n",
       "494405                NaN    0.000000              0  \n",
       "393237    Jan,Apr,Jul,Oct   51.672131              0  \n",
       "1009736               NaN    0.000000              0  \n",
       "878984    Jan,Apr,Jul,Oct   15.901639              0  \n",
       "969553                NaN    0.000000              0  \n",
       "399853                NaN    0.000000              0  \n",
       "537760                NaN    0.000000              0  \n",
       "327575                NaN    0.000000              0  \n",
       "846235    Jan,Apr,Jul,Oct   26.065574              0  \n",
       "26565                 NaN    0.000000              0  \n",
       "477957    Feb,May,Aug,Nov   53.803279              0  \n",
       "485572   Mar,Jun,Sept,Dec   37.836066              0  \n",
       "96204                 NaN    0.000000              0  \n",
       "744969                NaN    0.000000              0  \n",
       "81852                 NaN    0.000000              0  \n",
       "202577                NaN    0.000000              0  \n",
       "772711    Feb,May,Aug,Nov   26.295082              0  "
      ]
     },
     "execution_count": 221,
     "metadata": {},
     "output_type": "execute_result"
    }
   ],
   "source": [
    "merged_df[['Date', 'Promo2', 'Promo2SinceYear', 'Promo2SinceWeek', 'PromoInterval', 'Promo2Open', 'IsPromo2Month']].sample(20)"
   ]
  },
  {
   "cell_type": "markdown",
   "id": "c8d1ae75",
   "metadata": {
    "papermill": {
     "duration": 0.075178,
     "end_time": "2021-07-28T19:26:36.178752",
     "exception": false,
     "start_time": "2021-07-28T19:26:36.103574",
     "status": "completed"
    },
    "tags": []
   },
   "source": [
    "# Input & Target Columns"
   ]
  },
  {
   "cell_type": "code",
   "execution_count": 222,
   "id": "16fe3cb3",
   "metadata": {
    "execution": {
     "iopub.execute_input": "2021-07-28T19:26:36.335925Z",
     "iopub.status.busy": "2021-07-28T19:26:36.335070Z",
     "iopub.status.idle": "2021-07-28T19:26:36.339204Z",
     "shell.execute_reply": "2021-07-28T19:26:36.338681Z"
    },
    "papermill": {
     "duration": 0.084857,
     "end_time": "2021-07-28T19:26:36.339334",
     "exception": false,
     "start_time": "2021-07-28T19:26:36.254477",
     "status": "completed"
    },
    "tags": []
   },
   "outputs": [
    {
     "data": {
      "text/plain": [
       "Index(['Store', 'DayOfWeek', 'Date', 'Sales', 'Customers', 'Open', 'Promo',\n",
       "       'StateHoliday', 'SchoolHoliday', 'StoreType', 'Assortment',\n",
       "       'CompetitionDistance', 'CompetitionOpenSinceMonth',\n",
       "       'CompetitionOpenSinceYear', 'Promo2', 'Promo2SinceWeek',\n",
       "       'Promo2SinceYear', 'PromoInterval', 'Year', 'Month', 'Day',\n",
       "       'WeekOfYear', 'CompetitionOpen', 'Promo2Open', 'IsPromo2Month'],\n",
       "      dtype='object')"
      ]
     },
     "execution_count": 222,
     "metadata": {},
     "output_type": "execute_result"
    }
   ],
   "source": [
    "merged_df.columns"
   ]
  },
  {
   "cell_type": "code",
   "execution_count": 223,
   "id": "3999a7a2",
   "metadata": {
    "execution": {
     "iopub.execute_input": "2021-07-28T19:26:36.498286Z",
     "iopub.status.busy": "2021-07-28T19:26:36.497422Z",
     "iopub.status.idle": "2021-07-28T19:26:36.501013Z",
     "shell.execute_reply": "2021-07-28T19:26:36.500227Z"
    },
    "papermill": {
     "duration": 0.085115,
     "end_time": "2021-07-28T19:26:36.501248",
     "exception": false,
     "start_time": "2021-07-28T19:26:36.416133",
     "status": "completed"
    },
    "tags": []
   },
   "outputs": [],
   "source": [
    "input_cols = ['Store', 'DayOfWeek', 'Promo', 'StateHoliday', 'SchoolHoliday', \n",
    "              'StoreType', 'Assortment', 'CompetitionDistance', 'CompetitionOpen', \n",
    "              'Day', 'Month', 'Year', 'WeekOfYear',  'Promo2', \n",
    "              'Promo2Open', 'IsPromo2Month']\n",
    "target_col = 'Sales'"
   ]
  },
  {
   "cell_type": "markdown",
   "id": "e8a08b72",
   "metadata": {
    "papermill": {
     "duration": 0.075623,
     "end_time": "2021-07-28T19:26:36.654162",
     "exception": false,
     "start_time": "2021-07-28T19:26:36.578539",
     "status": "completed"
    },
    "tags": []
   },
   "source": [
    "- Date is dropped because all relevant information is extracted\n",
    "- Sales is target column\n",
    "- Customers is not present in test data so drop.( or create a model to predict number of customers and use the values in test data). \n",
    "- Open : Sales = 0 when Open =0 (obvious so not needed to feed into our model)\n",
    "- 'CompetitionOpenSinceMonth', 'CompetitionOpenSinceYear' is used to derive 'CompetitionOpen'\n",
    "- 'Promo2SinceYear', 'PromoInterval' is used to derive 'Promo2Open', 'IsPromo2Month'"
   ]
  },
  {
   "cell_type": "code",
   "execution_count": 224,
   "id": "5f550c46",
   "metadata": {
    "execution": {
     "iopub.execute_input": "2021-07-28T19:26:36.809532Z",
     "iopub.status.busy": "2021-07-28T19:26:36.808955Z",
     "iopub.status.idle": "2021-07-28T19:26:36.918528Z",
     "shell.execute_reply": "2021-07-28T19:26:36.919058Z"
    },
    "papermill": {
     "duration": 0.188463,
     "end_time": "2021-07-28T19:26:36.919236",
     "exception": false,
     "start_time": "2021-07-28T19:26:36.730773",
     "status": "completed"
    },
    "tags": []
   },
   "outputs": [],
   "source": [
    "inputs = merged_df[input_cols].copy()\n",
    "targets = merged_df[target_col].copy()\n",
    "test_inputs = merged_test_df[input_cols].copy()"
   ]
  },
  {
   "cell_type": "markdown",
   "id": "566077e9",
   "metadata": {
    "papermill": {
     "duration": 0.07615,
     "end_time": "2021-07-28T19:26:37.071259",
     "exception": false,
     "start_time": "2021-07-28T19:26:36.995109",
     "status": "completed"
    },
    "tags": []
   },
   "source": [
    "#### Numerical & Categorical Columns"
   ]
  },
  {
   "cell_type": "code",
   "execution_count": 225,
   "id": "ad6e057d",
   "metadata": {
    "execution": {
     "iopub.execute_input": "2021-07-28T19:26:37.228578Z",
     "iopub.status.busy": "2021-07-28T19:26:37.227970Z",
     "iopub.status.idle": "2021-07-28T19:26:37.231934Z",
     "shell.execute_reply": "2021-07-28T19:26:37.232447Z"
    },
    "papermill": {
     "duration": 0.084114,
     "end_time": "2021-07-28T19:26:37.232606",
     "exception": false,
     "start_time": "2021-07-28T19:26:37.148492",
     "status": "completed"
    },
    "tags": []
   },
   "outputs": [],
   "source": [
    "numeric_cols = ['Store', 'Promo', 'SchoolHoliday', \n",
    "              'CompetitionDistance', 'CompetitionOpen', 'Promo2', 'Promo2Open', 'IsPromo2Month',\n",
    "              'Day', 'Month', 'Year', 'WeekOfYear',  ]\n",
    "categorical_cols = ['DayOfWeek', 'StateHoliday', 'StoreType', 'Assortment']"
   ]
  },
  {
   "cell_type": "markdown",
   "id": "fc6dc7b7",
   "metadata": {
    "papermill": {
     "duration": 0.07658,
     "end_time": "2021-07-28T19:26:37.385573",
     "exception": false,
     "start_time": "2021-07-28T19:26:37.308993",
     "status": "completed"
    },
    "tags": []
   },
   "source": [
    "# Impute Missing Numerical Data"
   ]
  },
  {
   "cell_type": "code",
   "execution_count": 226,
   "id": "c950d7d7",
   "metadata": {
    "execution": {
     "iopub.execute_input": "2021-07-28T19:26:37.563406Z",
     "iopub.status.busy": "2021-07-28T19:26:37.562194Z",
     "iopub.status.idle": "2021-07-28T19:26:37.606625Z",
     "shell.execute_reply": "2021-07-28T19:26:37.606097Z"
    },
    "papermill": {
     "duration": 0.144343,
     "end_time": "2021-07-28T19:26:37.606811",
     "exception": false,
     "start_time": "2021-07-28T19:26:37.462468",
     "status": "completed"
    },
    "tags": []
   },
   "outputs": [
    {
     "data": {
      "text/plain": [
       "Store                     0\n",
       "Promo                     0\n",
       "SchoolHoliday             0\n",
       "CompetitionDistance    2186\n",
       "CompetitionOpen           0\n",
       "Promo2                    0\n",
       "Promo2Open                0\n",
       "IsPromo2Month             0\n",
       "Day                       0\n",
       "Month                     0\n",
       "Year                      0\n",
       "WeekOfYear                0\n",
       "dtype: int64"
      ]
     },
     "execution_count": 226,
     "metadata": {},
     "output_type": "execute_result"
    }
   ],
   "source": [
    "inputs[numeric_cols].isna().sum()"
   ]
  },
  {
   "cell_type": "code",
   "execution_count": 227,
   "id": "f6d1abee",
   "metadata": {
    "execution": {
     "iopub.execute_input": "2021-07-28T19:26:37.769318Z",
     "iopub.status.busy": "2021-07-28T19:26:37.768650Z",
     "iopub.status.idle": "2021-07-28T19:26:37.776616Z",
     "shell.execute_reply": "2021-07-28T19:26:37.776076Z"
    },
    "papermill": {
     "duration": 0.091572,
     "end_time": "2021-07-28T19:26:37.776776",
     "exception": false,
     "start_time": "2021-07-28T19:26:37.685204",
     "status": "completed"
    },
    "tags": []
   },
   "outputs": [
    {
     "data": {
      "text/plain": [
       "Store                   0\n",
       "Promo                   0\n",
       "SchoolHoliday           0\n",
       "CompetitionDistance    96\n",
       "CompetitionOpen         0\n",
       "Promo2                  0\n",
       "Promo2Open              0\n",
       "IsPromo2Month           0\n",
       "Day                     0\n",
       "Month                   0\n",
       "Year                    0\n",
       "WeekOfYear              0\n",
       "dtype: int64"
      ]
     },
     "execution_count": 227,
     "metadata": {},
     "output_type": "execute_result"
    }
   ],
   "source": [
    "test_inputs[numeric_cols].isna().sum()"
   ]
  },
  {
   "cell_type": "markdown",
   "id": "261e1773",
   "metadata": {
    "papermill": {
     "duration": 0.076963,
     "end_time": "2021-07-28T19:26:37.932141",
     "exception": false,
     "start_time": "2021-07-28T19:26:37.855178",
     "status": "completed"
    },
    "tags": []
   },
   "source": [
    "Only Competition Distance numerical column has null values.<br>\n",
    "Competition Distance having null values means that there is no competitor store near by so these are to be imputed with `larger value constant` not zero (since larger the distance means lesser the competition).<br>\n",
    "\n",
    "We'll impute with the maximum value."
   ]
  },
  {
   "cell_type": "code",
   "execution_count": 228,
   "id": "7633261a",
   "metadata": {
    "execution": {
     "iopub.execute_input": "2021-07-28T19:26:38.093536Z",
     "iopub.status.busy": "2021-07-28T19:26:38.092890Z",
     "iopub.status.idle": "2021-07-28T19:26:38.098873Z",
     "shell.execute_reply": "2021-07-28T19:26:38.099327Z"
    },
    "papermill": {
     "duration": 0.089641,
     "end_time": "2021-07-28T19:26:38.099535",
     "exception": false,
     "start_time": "2021-07-28T19:26:38.009894",
     "status": "completed"
    },
    "tags": []
   },
   "outputs": [],
   "source": [
    "max_distance = inputs.CompetitionDistance.max()\n",
    "inputs['CompetitionDistance'].fillna(max_distance, inplace=True)\n",
    "test_inputs['CompetitionDistance'].fillna(max_distance, inplace=True)"
   ]
  },
  {
   "cell_type": "markdown",
   "id": "6715b24c",
   "metadata": {
    "papermill": {
     "duration": 0.077804,
     "end_time": "2021-07-28T19:26:38.255402",
     "exception": false,
     "start_time": "2021-07-28T19:26:38.177598",
     "status": "completed"
    },
    "tags": []
   },
   "source": [
    "# Scaling Numerical Values"
   ]
  },
  {
   "cell_type": "code",
   "execution_count": 229,
   "id": "bd8b52d5",
   "metadata": {
    "execution": {
     "iopub.execute_input": "2021-07-28T19:26:38.434811Z",
     "iopub.status.busy": "2021-07-28T19:26:38.433379Z",
     "iopub.status.idle": "2021-07-28T19:26:42.128639Z",
     "shell.execute_reply": "2021-07-28T19:26:42.128106Z"
    },
    "papermill": {
     "duration": 3.795908,
     "end_time": "2021-07-28T19:26:42.128817",
     "exception": false,
     "start_time": "2021-07-28T19:26:38.332909",
     "status": "completed"
    },
    "tags": []
   },
   "outputs": [],
   "source": [
    "scaler = MinMaxScaler().fit(inputs[numeric_cols])\n",
    "inputs[numeric_cols] = scaler.transform(inputs[numeric_cols])\n",
    "test_inputs[numeric_cols] = scaler.transform(test_inputs[numeric_cols])"
   ]
  },
  {
   "cell_type": "markdown",
   "id": "a5656ae4",
   "metadata": {
    "papermill": {
     "duration": 0.078055,
     "end_time": "2021-07-28T19:26:42.285189",
     "exception": false,
     "start_time": "2021-07-28T19:26:42.207134",
     "status": "completed"
    },
    "tags": []
   },
   "source": [
    "### Encode Categorical Columns\n",
    "\n",
    "<img src=\"https://i.imgur.com/n8GuiOO.png\" width=\"640\">\n",
    "\n",
    "Let's one-hot encode categorical columns."
   ]
  },
  {
   "cell_type": "code",
   "execution_count": 230,
   "id": "f2ea92a9",
   "metadata": {
    "execution": {
     "iopub.execute_input": "2021-07-28T19:26:42.443979Z",
     "iopub.status.busy": "2021-07-28T19:26:42.443345Z",
     "iopub.status.idle": "2021-07-28T19:26:50.339404Z",
     "shell.execute_reply": "2021-07-28T19:26:50.338778Z"
    },
    "papermill": {
     "duration": 7.976343,
     "end_time": "2021-07-28T19:26:50.339562",
     "exception": false,
     "start_time": "2021-07-28T19:26:42.363219",
     "status": "completed"
    },
    "tags": []
   },
   "outputs": [
    {
     "name": "stderr",
     "output_type": "stream",
     "text": [
      "/Users/callustang/miniconda3/envs/rossmann-sales-xgboost/lib/python3.11/site-packages/sklearn/preprocessing/_encoders.py:972: FutureWarning: `sparse` was renamed to `sparse_output` in version 1.2 and will be removed in 1.4. `sparse_output` is ignored unless you leave `sparse` to its default value.\n",
      "  warnings.warn(\n"
     ]
    }
   ],
   "source": [
    "encoder = OneHotEncoder(sparse=False, handle_unknown='ignore').fit(inputs[categorical_cols])\n",
    "encoded_cols = list(encoder.get_feature_names_out(categorical_cols))\n",
    "inputs[encoded_cols] = encoder.transform(inputs[categorical_cols])\n",
    "test_inputs[encoded_cols] = encoder.transform(test_inputs[categorical_cols])"
   ]
  },
  {
   "cell_type": "code",
   "execution_count": 231,
   "id": "c39a3af3",
   "metadata": {
    "execution": {
     "iopub.execute_input": "2021-07-28T19:26:50.498648Z",
     "iopub.status.busy": "2021-07-28T19:26:50.497996Z",
     "iopub.status.idle": "2021-07-28T19:26:50.743337Z",
     "shell.execute_reply": "2021-07-28T19:26:50.742822Z"
    },
    "papermill": {
     "duration": 0.32624,
     "end_time": "2021-07-28T19:26:50.743479",
     "exception": false,
     "start_time": "2021-07-28T19:26:50.417239",
     "status": "completed"
    },
    "tags": []
   },
   "outputs": [],
   "source": [
    "X = inputs[numeric_cols + encoded_cols]\n",
    "X_test = test_inputs[numeric_cols + encoded_cols]"
   ]
  },
  {
   "cell_type": "markdown",
   "id": "7ec0b7ad",
   "metadata": {
    "papermill": {
     "duration": 0.077712,
     "end_time": "2021-07-28T19:26:50.898350",
     "exception": false,
     "start_time": "2021-07-28T19:26:50.820638",
     "status": "completed"
    },
    "tags": []
   },
   "source": [
    "# Gradient Boosting"
   ]
  },
  {
   "cell_type": "code",
   "execution_count": 232,
   "id": "58f15f58",
   "metadata": {
    "execution": {
     "iopub.execute_input": "2021-07-28T19:26:51.056519Z",
     "iopub.status.busy": "2021-07-28T19:26:51.055850Z",
     "iopub.status.idle": "2021-07-28T19:26:51.060257Z",
     "shell.execute_reply": "2021-07-28T19:26:51.059798Z"
    },
    "papermill": {
     "duration": 0.08523,
     "end_time": "2021-07-28T19:26:51.060400",
     "exception": false,
     "start_time": "2021-07-28T19:26:50.975170",
     "status": "completed"
    },
    "tags": []
   },
   "outputs": [],
   "source": [
    "model = XGBRegressor(random_state=42, n_jobs=-1, n_estimators=20, max_depth=4)"
   ]
  },
  {
   "cell_type": "code",
   "execution_count": 233,
   "id": "9c41486f",
   "metadata": {
    "execution": {
     "iopub.execute_input": "2021-07-28T19:26:51.214789Z",
     "iopub.status.busy": "2021-07-28T19:26:51.214159Z",
     "iopub.status.idle": "2021-07-28T19:26:58.882564Z",
     "shell.execute_reply": "2021-07-28T19:26:58.881964Z"
    },
    "papermill": {
     "duration": 7.747108,
     "end_time": "2021-07-28T19:26:58.882684",
     "exception": false,
     "start_time": "2021-07-28T19:26:51.135576",
     "status": "completed"
    },
    "tags": []
   },
   "outputs": [
    {
     "name": "stdout",
     "output_type": "stream",
     "text": [
      "CPU times: user 14.3 s, sys: 1.68 s, total: 15.9 s\n",
      "Wall time: 2.47 s\n"
     ]
    },
    {
     "data": {
      "text/html": [
       "<style>#sk-container-id-2 {color: black;}#sk-container-id-2 pre{padding: 0;}#sk-container-id-2 div.sk-toggleable {background-color: white;}#sk-container-id-2 label.sk-toggleable__label {cursor: pointer;display: block;width: 100%;margin-bottom: 0;padding: 0.3em;box-sizing: border-box;text-align: center;}#sk-container-id-2 label.sk-toggleable__label-arrow:before {content: \"▸\";float: left;margin-right: 0.25em;color: #696969;}#sk-container-id-2 label.sk-toggleable__label-arrow:hover:before {color: black;}#sk-container-id-2 div.sk-estimator:hover label.sk-toggleable__label-arrow:before {color: black;}#sk-container-id-2 div.sk-toggleable__content {max-height: 0;max-width: 0;overflow: hidden;text-align: left;background-color: #f0f8ff;}#sk-container-id-2 div.sk-toggleable__content pre {margin: 0.2em;color: black;border-radius: 0.25em;background-color: #f0f8ff;}#sk-container-id-2 input.sk-toggleable__control:checked~div.sk-toggleable__content {max-height: 200px;max-width: 100%;overflow: auto;}#sk-container-id-2 input.sk-toggleable__control:checked~label.sk-toggleable__label-arrow:before {content: \"▾\";}#sk-container-id-2 div.sk-estimator input.sk-toggleable__control:checked~label.sk-toggleable__label {background-color: #d4ebff;}#sk-container-id-2 div.sk-label input.sk-toggleable__control:checked~label.sk-toggleable__label {background-color: #d4ebff;}#sk-container-id-2 input.sk-hidden--visually {border: 0;clip: rect(1px 1px 1px 1px);clip: rect(1px, 1px, 1px, 1px);height: 1px;margin: -1px;overflow: hidden;padding: 0;position: absolute;width: 1px;}#sk-container-id-2 div.sk-estimator {font-family: monospace;background-color: #f0f8ff;border: 1px dotted black;border-radius: 0.25em;box-sizing: border-box;margin-bottom: 0.5em;}#sk-container-id-2 div.sk-estimator:hover {background-color: #d4ebff;}#sk-container-id-2 div.sk-parallel-item::after {content: \"\";width: 100%;border-bottom: 1px solid gray;flex-grow: 1;}#sk-container-id-2 div.sk-label:hover label.sk-toggleable__label {background-color: #d4ebff;}#sk-container-id-2 div.sk-serial::before {content: \"\";position: absolute;border-left: 1px solid gray;box-sizing: border-box;top: 0;bottom: 0;left: 50%;z-index: 0;}#sk-container-id-2 div.sk-serial {display: flex;flex-direction: column;align-items: center;background-color: white;padding-right: 0.2em;padding-left: 0.2em;position: relative;}#sk-container-id-2 div.sk-item {position: relative;z-index: 1;}#sk-container-id-2 div.sk-parallel {display: flex;align-items: stretch;justify-content: center;background-color: white;position: relative;}#sk-container-id-2 div.sk-item::before, #sk-container-id-2 div.sk-parallel-item::before {content: \"\";position: absolute;border-left: 1px solid gray;box-sizing: border-box;top: 0;bottom: 0;left: 50%;z-index: -1;}#sk-container-id-2 div.sk-parallel-item {display: flex;flex-direction: column;z-index: 1;position: relative;background-color: white;}#sk-container-id-2 div.sk-parallel-item:first-child::after {align-self: flex-end;width: 50%;}#sk-container-id-2 div.sk-parallel-item:last-child::after {align-self: flex-start;width: 50%;}#sk-container-id-2 div.sk-parallel-item:only-child::after {width: 0;}#sk-container-id-2 div.sk-dashed-wrapped {border: 1px dashed gray;margin: 0 0.4em 0.5em 0.4em;box-sizing: border-box;padding-bottom: 0.4em;background-color: white;}#sk-container-id-2 div.sk-label label {font-family: monospace;font-weight: bold;display: inline-block;line-height: 1.2em;}#sk-container-id-2 div.sk-label-container {text-align: center;}#sk-container-id-2 div.sk-container {/* jupyter's `normalize.less` sets `[hidden] { display: none; }` but bootstrap.min.css set `[hidden] { display: none !important; }` so we also need the `!important` here to be able to override the default hidden behavior on the sphinx rendered scikit-learn.org. See: https://github.com/scikit-learn/scikit-learn/issues/21755 */display: inline-block !important;position: relative;}#sk-container-id-2 div.sk-text-repr-fallback {display: none;}</style><div id=\"sk-container-id-2\" class=\"sk-top-container\"><div class=\"sk-text-repr-fallback\"><pre>XGBRegressor(base_score=None, booster=None, callbacks=None,\n",
       "             colsample_bylevel=None, colsample_bynode=None,\n",
       "             colsample_bytree=None, early_stopping_rounds=None,\n",
       "             enable_categorical=False, eval_metric=None, feature_types=None,\n",
       "             gamma=None, gpu_id=None, grow_policy=None, importance_type=None,\n",
       "             interaction_constraints=None, learning_rate=None, max_bin=None,\n",
       "             max_cat_threshold=None, max_cat_to_onehot=None,\n",
       "             max_delta_step=None, max_depth=4, max_leaves=None,\n",
       "             min_child_weight=None, missing=nan, monotone_constraints=None,\n",
       "             n_estimators=20, n_jobs=-1, num_parallel_tree=None, predictor=None,\n",
       "             random_state=42, ...)</pre><b>In a Jupyter environment, please rerun this cell to show the HTML representation or trust the notebook. <br />On GitHub, the HTML representation is unable to render, please try loading this page with nbviewer.org.</b></div><div class=\"sk-container\" hidden><div class=\"sk-item\"><div class=\"sk-estimator sk-toggleable\"><input class=\"sk-toggleable__control sk-hidden--visually\" id=\"sk-estimator-id-2\" type=\"checkbox\" checked><label for=\"sk-estimator-id-2\" class=\"sk-toggleable__label sk-toggleable__label-arrow\">XGBRegressor</label><div class=\"sk-toggleable__content\"><pre>XGBRegressor(base_score=None, booster=None, callbacks=None,\n",
       "             colsample_bylevel=None, colsample_bynode=None,\n",
       "             colsample_bytree=None, early_stopping_rounds=None,\n",
       "             enable_categorical=False, eval_metric=None, feature_types=None,\n",
       "             gamma=None, gpu_id=None, grow_policy=None, importance_type=None,\n",
       "             interaction_constraints=None, learning_rate=None, max_bin=None,\n",
       "             max_cat_threshold=None, max_cat_to_onehot=None,\n",
       "             max_delta_step=None, max_depth=4, max_leaves=None,\n",
       "             min_child_weight=None, missing=nan, monotone_constraints=None,\n",
       "             n_estimators=20, n_jobs=-1, num_parallel_tree=None, predictor=None,\n",
       "             random_state=42, ...)</pre></div></div></div></div></div>"
      ],
      "text/plain": [
       "XGBRegressor(base_score=None, booster=None, callbacks=None,\n",
       "             colsample_bylevel=None, colsample_bynode=None,\n",
       "             colsample_bytree=None, early_stopping_rounds=None,\n",
       "             enable_categorical=False, eval_metric=None, feature_types=None,\n",
       "             gamma=None, gpu_id=None, grow_policy=None, importance_type=None,\n",
       "             interaction_constraints=None, learning_rate=None, max_bin=None,\n",
       "             max_cat_threshold=None, max_cat_to_onehot=None,\n",
       "             max_delta_step=None, max_depth=4, max_leaves=None,\n",
       "             min_child_weight=None, missing=nan, monotone_constraints=None,\n",
       "             n_estimators=20, n_jobs=-1, num_parallel_tree=None, predictor=None,\n",
       "             random_state=42, ...)"
      ]
     },
     "execution_count": 233,
     "metadata": {},
     "output_type": "execute_result"
    }
   ],
   "source": [
    "%%time\n",
    "model.fit(X, targets)"
   ]
  },
  {
   "cell_type": "code",
   "execution_count": 234,
   "id": "8139f327",
   "metadata": {
    "execution": {
     "iopub.execute_input": "2021-07-28T19:26:59.047790Z",
     "iopub.status.busy": "2021-07-28T19:26:59.037858Z",
     "iopub.status.idle": "2021-07-28T19:26:59.262466Z",
     "shell.execute_reply": "2021-07-28T19:26:59.263027Z"
    },
    "papermill": {
     "duration": 0.304761,
     "end_time": "2021-07-28T19:26:59.263215",
     "exception": false,
     "start_time": "2021-07-28T19:26:58.958454",
     "status": "completed"
    },
    "tags": []
   },
   "outputs": [],
   "source": [
    "preds = model.predict(X)"
   ]
  },
  {
   "cell_type": "code",
   "execution_count": 235,
   "id": "80310e62",
   "metadata": {
    "execution": {
     "iopub.execute_input": "2021-07-28T19:26:59.420621Z",
     "iopub.status.busy": "2021-07-28T19:26:59.420013Z",
     "iopub.status.idle": "2021-07-28T19:26:59.421882Z",
     "shell.execute_reply": "2021-07-28T19:26:59.422375Z"
    },
    "papermill": {
     "duration": 0.083175,
     "end_time": "2021-07-28T19:26:59.422540",
     "exception": false,
     "start_time": "2021-07-28T19:26:59.339365",
     "status": "completed"
    },
    "tags": []
   },
   "outputs": [],
   "source": [
    "def rmse(a, b):\n",
    "    return mean_squared_error(a, b, squared=False)"
   ]
  },
  {
   "cell_type": "code",
   "execution_count": 236,
   "id": "d20a2423",
   "metadata": {
    "execution": {
     "iopub.execute_input": "2021-07-28T19:26:59.612609Z",
     "iopub.status.busy": "2021-07-28T19:26:59.611685Z",
     "iopub.status.idle": "2021-07-28T19:26:59.622863Z",
     "shell.execute_reply": "2021-07-28T19:26:59.623374Z"
    },
    "papermill": {
     "duration": 0.121563,
     "end_time": "2021-07-28T19:26:59.623586",
     "exception": false,
     "start_time": "2021-07-28T19:26:59.502023",
     "status": "completed"
    },
    "tags": []
   },
   "outputs": [
    {
     "data": {
      "text/plain": [
       "2381.83340717387"
      ]
     },
     "execution_count": 236,
     "metadata": {},
     "output_type": "execute_result"
    }
   ],
   "source": [
    "rmse(preds, targets)"
   ]
  },
  {
   "cell_type": "markdown",
   "id": "e2ad1c09",
   "metadata": {
    "papermill": {
     "duration": 0.079355,
     "end_time": "2021-07-28T19:26:59.782937",
     "exception": false,
     "start_time": "2021-07-28T19:26:59.703582",
     "status": "completed"
    },
    "tags": []
   },
   "source": [
    "# Visualization"
   ]
  },
  {
   "cell_type": "code",
   "execution_count": 237,
   "id": "b06b8974",
   "metadata": {
    "execution": {
     "iopub.execute_input": "2021-07-28T19:26:59.946542Z",
     "iopub.status.busy": "2021-07-28T19:26:59.945479Z",
     "iopub.status.idle": "2021-07-28T19:26:59.954855Z",
     "shell.execute_reply": "2021-07-28T19:26:59.955339Z"
    },
    "papermill": {
     "duration": 0.09228,
     "end_time": "2021-07-28T19:26:59.955532",
     "exception": false,
     "start_time": "2021-07-28T19:26:59.863252",
     "status": "completed"
    },
    "tags": []
   },
   "outputs": [
    {
     "data": {
      "text/plain": [
       "20"
      ]
     },
     "execution_count": 237,
     "metadata": {},
     "output_type": "execute_result"
    }
   ],
   "source": [
    "trees = model.get_booster().get_dump()\n",
    "len(trees)"
   ]
  },
  {
   "cell_type": "code",
   "execution_count": 238,
   "id": "1664e003",
   "metadata": {
    "execution": {
     "iopub.execute_input": "2021-07-28T19:27:00.173223Z",
     "iopub.status.busy": "2021-07-28T19:27:00.172202Z",
     "iopub.status.idle": "2021-07-28T19:27:00.178162Z",
     "shell.execute_reply": "2021-07-28T19:27:00.177532Z"
    },
    "papermill": {
     "duration": 0.090896,
     "end_time": "2021-07-28T19:27:00.178301",
     "exception": false,
     "start_time": "2021-07-28T19:27:00.087405",
     "status": "completed"
    },
    "tags": []
   },
   "outputs": [
    {
     "name": "stdout",
     "output_type": "stream",
     "text": [
      "0:[Promo<0.5] yes=1,no=2,missing=1\n",
      "\t1:[StoreType_b<0.5] yes=3,no=4,missing=3\n",
      "\t\t3:[Assortment_a<0.5] yes=7,no=8,missing=7\n",
      "\t\t\t7:[CompetitionDistance<0.00441719405] yes=15,no=16,missing=15\n",
      "\t\t\t\t15:leaf=2309.51147\n",
      "\t\t\t\t16:leaf=1823.30444\n",
      "\t\t\t8:[WeekOfYear<0.911764741] yes=17,no=18,missing=17\n",
      "\t\t\t\t17:leaf=1619.43994\n",
      "\t\t\t\t18:leaf=2002.44897\n",
      "\t\t4:[CompetitionDistance<0.01602057] yes=9,no=10,missing=9\n",
      "\t\t\t9:[CompetitionDistance<0.0134493671] yes=19,no=20,missing=19\n",
      "\t\t\t\t19:leaf=2740.44067\n",
      "\t\t\t\t20:leaf=5576.85889\n",
      "\t\t\t10:[DayOfWeek_7<0.5] yes=21,no=22,missing=21\n",
      "\t\t\t\t21:leaf=1898.36487\n",
      "\t\t\t\t22:leaf=2961.08765\n",
      "\t2:[DayOfWeek_1<0.5] yes=5,no=6,missing=5\n",
      "\t\t5:[WeekOfYear<0.931372523] yes=11,no=12,missing=11\n",
      "\t\t\t11:[StoreType_b<0.5] yes=23,no=24,missing=23\n",
      "\t\t\t\t23:leaf=2295.30566\n",
      "\t\t\t\t24:leaf=3294.27759\n",
      "\t\t\t12:[Day<0.333333343] yes=25,no=26,missing=25\n",
      "\t\t\t\t25:leaf=2754.58521\n",
      "\t\t\t\t26:leaf=3246.39014\n",
      "\t\t6:[WeekOfYear<0.931372523] yes=13,no=14,missing=13\n",
      "\t\t\t13:[CompetitionDistance<0.002703059] yes=27,no=28,missing=27\n",
      "\t\t\t\t27:leaf=3347.80688\n",
      "\t\t\t\t28:leaf=2839.39551\n",
      "\t\t\t14:[Day<0.25] yes=29,no=30,missing=29\n",
      "\t\t\t\t29:leaf=3400.54419\n",
      "\t\t\t\t30:leaf=4059.85938\n",
      "\n"
     ]
    }
   ],
   "source": [
    "print(trees[0])"
   ]
  },
  {
   "cell_type": "markdown",
   "id": "b2e13345",
   "metadata": {
    "papermill": {
     "duration": 0.080944,
     "end_time": "2021-07-28T19:27:00.340547",
     "exception": false,
     "start_time": "2021-07-28T19:27:00.259603",
     "status": "completed"
    },
    "tags": []
   },
   "source": [
    "# Feature importance\n",
    "\n",
    "Just like decision trees and random forests, XGBoost also provides a feature importance score for each column in the input."
   ]
  },
  {
   "cell_type": "code",
   "execution_count": 239,
   "id": "89b0940c",
   "metadata": {
    "execution": {
     "iopub.execute_input": "2021-07-28T19:27:00.506359Z",
     "iopub.status.busy": "2021-07-28T19:27:00.505687Z",
     "iopub.status.idle": "2021-07-28T19:27:00.527040Z",
     "shell.execute_reply": "2021-07-28T19:27:00.526515Z"
    },
    "papermill": {
     "duration": 0.1055,
     "end_time": "2021-07-28T19:27:00.527202",
     "exception": false,
     "start_time": "2021-07-28T19:27:00.421702",
     "status": "completed"
    },
    "tags": []
   },
   "outputs": [
    {
     "data": {
      "text/html": [
       "<div>\n",
       "<style scoped>\n",
       "    .dataframe tbody tr th:only-of-type {\n",
       "        vertical-align: middle;\n",
       "    }\n",
       "\n",
       "    .dataframe tbody tr th {\n",
       "        vertical-align: top;\n",
       "    }\n",
       "\n",
       "    .dataframe thead th {\n",
       "        text-align: right;\n",
       "    }\n",
       "</style>\n",
       "<table border=\"1\" class=\"dataframe\">\n",
       "  <thead>\n",
       "    <tr style=\"text-align: right;\">\n",
       "      <th></th>\n",
       "      <th>feature</th>\n",
       "      <th>importance</th>\n",
       "    </tr>\n",
       "  </thead>\n",
       "  <tbody>\n",
       "    <tr>\n",
       "      <th>1</th>\n",
       "      <td>Promo</td>\n",
       "      <td>0.315126</td>\n",
       "    </tr>\n",
       "    <tr>\n",
       "      <th>12</th>\n",
       "      <td>DayOfWeek_1</td>\n",
       "      <td>0.102333</td>\n",
       "    </tr>\n",
       "    <tr>\n",
       "      <th>24</th>\n",
       "      <td>StoreType_b</td>\n",
       "      <td>0.083057</td>\n",
       "    </tr>\n",
       "    <tr>\n",
       "      <th>5</th>\n",
       "      <td>Promo2</td>\n",
       "      <td>0.072147</td>\n",
       "    </tr>\n",
       "    <tr>\n",
       "      <th>2</th>\n",
       "      <td>SchoolHoliday</td>\n",
       "      <td>0.049360</td>\n",
       "    </tr>\n",
       "    <tr>\n",
       "      <th>29</th>\n",
       "      <td>Assortment_c</td>\n",
       "      <td>0.045408</td>\n",
       "    </tr>\n",
       "    <tr>\n",
       "      <th>3</th>\n",
       "      <td>CompetitionDistance</td>\n",
       "      <td>0.043257</td>\n",
       "    </tr>\n",
       "    <tr>\n",
       "      <th>0</th>\n",
       "      <td>Store</td>\n",
       "      <td>0.034689</td>\n",
       "    </tr>\n",
       "    <tr>\n",
       "      <th>11</th>\n",
       "      <td>WeekOfYear</td>\n",
       "      <td>0.030598</td>\n",
       "    </tr>\n",
       "    <tr>\n",
       "      <th>27</th>\n",
       "      <td>Assortment_a</td>\n",
       "      <td>0.030356</td>\n",
       "    </tr>\n",
       "  </tbody>\n",
       "</table>\n",
       "</div>"
      ],
      "text/plain": [
       "                feature  importance\n",
       "1                 Promo    0.315126\n",
       "12          DayOfWeek_1    0.102333\n",
       "24          StoreType_b    0.083057\n",
       "5                Promo2    0.072147\n",
       "2         SchoolHoliday    0.049360\n",
       "29         Assortment_c    0.045408\n",
       "3   CompetitionDistance    0.043257\n",
       "0                 Store    0.034689\n",
       "11           WeekOfYear    0.030598\n",
       "27         Assortment_a    0.030356"
      ]
     },
     "execution_count": 239,
     "metadata": {},
     "output_type": "execute_result"
    }
   ],
   "source": [
    "importance_df = pd.DataFrame({\n",
    "    'feature': X.columns,\n",
    "    'importance': model.feature_importances_\n",
    "}).sort_values('importance', ascending=False)\n",
    "importance_df.head(10)"
   ]
  },
  {
   "cell_type": "code",
   "execution_count": 240,
   "id": "8e760efb",
   "metadata": {
    "execution": {
     "iopub.execute_input": "2021-07-28T19:27:00.712943Z",
     "iopub.status.busy": "2021-07-28T19:27:00.703438Z",
     "iopub.status.idle": "2021-07-28T19:27:00.960075Z",
     "shell.execute_reply": "2021-07-28T19:27:00.959500Z"
    },
    "papermill": {
     "duration": 0.351005,
     "end_time": "2021-07-28T19:27:00.960237",
     "exception": false,
     "start_time": "2021-07-28T19:27:00.609232",
     "status": "completed"
    },
    "tags": []
   },
   "outputs": [
    {
     "data": {
      "image/png": "[encoded data removed]",
      "text/plain": [
       "<Figure size 1000x600 with 1 Axes>"
      ]
     },
     "metadata": {},
     "output_type": "display_data"
    }
   ],
   "source": [
    "import seaborn as sns\n",
    "plt.figure(figsize=(10,6))\n",
    "plt.title('Feature Importance')\n",
    "sns.barplot(data=importance_df.head(10), x='importance', y='feature');"
   ]
  },
  {
   "cell_type": "markdown",
   "id": "cee49850",
   "metadata": {
    "papermill": {
     "duration": 0.082593,
     "end_time": "2021-07-28T19:27:01.126122",
     "exception": false,
     "start_time": "2021-07-28T19:27:01.043529",
     "status": "completed"
    },
    "tags": []
   },
   "source": [
    "# K Fold Cross Validation\n",
    "\n",
    "Notice that we didn't create a validation set before training our XGBoost model. We'll use a different validation strategy this time, called K-fold cross validation ([source](https://vitalflux.com/k-fold-cross-validation-python-example/)):\n",
    "\n",
    "![](https://vitalflux.com/wp-content/uploads/2020/08/Screenshot-2020-08-15-at-11.13.53-AM.png)"
   ]
  },
  {
   "cell_type": "code",
   "execution_count": 241,
   "id": "fa26d8db",
   "metadata": {
    "execution": {
     "iopub.execute_input": "2021-07-28T19:27:01.298405Z",
     "iopub.status.busy": "2021-07-28T19:27:01.297447Z",
     "iopub.status.idle": "2021-07-28T19:27:01.300789Z",
     "shell.execute_reply": "2021-07-28T19:27:01.300220Z"
    },
    "papermill": {
     "duration": 0.092168,
     "end_time": "2021-07-28T19:27:01.300929",
     "exception": false,
     "start_time": "2021-07-28T19:27:01.208761",
     "status": "completed"
    },
    "tags": []
   },
   "outputs": [],
   "source": [
    "def train_and_evaluate(X_train, train_targets, X_val, val_targets, **params):\n",
    "    model = XGBRegressor(random_state=42, n_jobs=-1, **params)\n",
    "    model.fit(X_train, train_targets)\n",
    "    train_rmse = rmse(model.predict(X_train), train_targets)\n",
    "    val_rmse = rmse(model.predict(X_val), val_targets)\n",
    "    return model, train_rmse, val_rmse"
   ]
  },
  {
   "cell_type": "code",
   "execution_count": 242,
   "id": "993fee3a",
   "metadata": {
    "execution": {
     "iopub.execute_input": "2021-07-28T19:27:01.469933Z",
     "iopub.status.busy": "2021-07-28T19:27:01.469313Z",
     "iopub.status.idle": "2021-07-28T19:27:01.472900Z",
     "shell.execute_reply": "2021-07-28T19:27:01.473430Z"
    },
    "papermill": {
     "duration": 0.089763,
     "end_time": "2021-07-28T19:27:01.473599",
     "exception": false,
     "start_time": "2021-07-28T19:27:01.383836",
     "status": "completed"
    },
    "tags": []
   },
   "outputs": [],
   "source": [
    "kfold = KFold(n_splits=5)"
   ]
  },
  {
   "cell_type": "code",
   "execution_count": 243,
   "id": "7a4238e6",
   "metadata": {
    "execution": {
     "iopub.execute_input": "2021-07-28T19:27:01.645330Z",
     "iopub.status.busy": "2021-07-28T19:27:01.644700Z",
     "iopub.status.idle": "2021-07-28T19:27:35.590959Z",
     "shell.execute_reply": "2021-07-28T19:27:35.591420Z"
    },
    "papermill": {
     "duration": 34.033513,
     "end_time": "2021-07-28T19:27:35.591567",
     "exception": false,
     "start_time": "2021-07-28T19:27:01.558054",
     "status": "completed"
    },
    "tags": []
   },
   "outputs": [
    {
     "name": "stdout",
     "output_type": "stream",
     "text": [
      "Train RMSE: 2376.414495078917, Validation RMSE: 2464.6214926137764\n",
      "Train RMSE: 2356.739613039104, Validation RMSE: 2436.5702061733136\n",
      "Train RMSE: 2383.8221417813047, Validation RMSE: 2368.570601133414\n",
      "Train RMSE: 2357.5284922500787, Validation RMSE: 2450.0940686983568\n",
      "Train RMSE: 2378.4075461206567, Validation RMSE: 2431.423568606467\n"
     ]
    }
   ],
   "source": [
    "models = []\n",
    "\n",
    "for train_idxs, val_idxs in kfold.split(X):\n",
    "    X_train, train_targets = X.iloc[train_idxs], targets.iloc[train_idxs]\n",
    "    X_val, val_targets = X.iloc[val_idxs], targets.iloc[val_idxs]\n",
    "    model, train_rmse, val_rmse = train_and_evaluate(X_train, \n",
    "                                                     train_targets, \n",
    "                                                     X_val, \n",
    "                                                     val_targets, \n",
    "                                                     max_depth=4, \n",
    "                                                     n_estimators=20)\n",
    "    models.append(model)\n",
    "    print('Train RMSE: {}, Validation RMSE: {}'.format(train_rmse, val_rmse))"
   ]
  },
  {
   "cell_type": "code",
   "execution_count": 244,
   "id": "ded017ac",
   "metadata": {
    "execution": {
     "iopub.execute_input": "2021-07-28T19:27:35.759289Z",
     "iopub.status.busy": "2021-07-28T19:27:35.758619Z",
     "iopub.status.idle": "2021-07-28T19:27:35.760810Z",
     "shell.execute_reply": "2021-07-28T19:27:35.760349Z"
    },
    "papermill": {
     "duration": 0.087356,
     "end_time": "2021-07-28T19:27:35.760922",
     "exception": false,
     "start_time": "2021-07-28T19:27:35.673566",
     "status": "completed"
    },
    "tags": []
   },
   "outputs": [],
   "source": [
    "def predict_avg(models, inputs):\n",
    "    return np.mean([model.predict(inputs) for model in models], axis=0)"
   ]
  },
  {
   "cell_type": "code",
   "execution_count": 245,
   "id": "b797855c",
   "metadata": {
    "execution": {
     "iopub.execute_input": "2021-07-28T19:27:35.927705Z",
     "iopub.status.busy": "2021-07-28T19:27:35.927047Z",
     "iopub.status.idle": "2021-07-28T19:27:36.913789Z",
     "shell.execute_reply": "2021-07-28T19:27:36.914639Z"
    },
    "papermill": {
     "duration": 1.073539,
     "end_time": "2021-07-28T19:27:36.914851",
     "exception": false,
     "start_time": "2021-07-28T19:27:35.841312",
     "status": "completed"
    },
    "tags": []
   },
   "outputs": [
    {
     "data": {
      "text/plain": [
       "array([8241.964 , 7715.7373, 8551.618 , ..., 7322.1865, 8623.646 ,\n",
       "       7599.177 ], dtype=float32)"
      ]
     },
     "execution_count": 245,
     "metadata": {},
     "output_type": "execute_result"
    }
   ],
   "source": [
    "preds = predict_avg(models, X_train)\n",
    "preds"
   ]
  },
  {
   "cell_type": "markdown",
   "id": "85279d57",
   "metadata": {
    "papermill": {
     "duration": 0.082941,
     "end_time": "2021-07-28T19:27:37.081978",
     "exception": false,
     "start_time": "2021-07-28T19:27:36.999037",
     "status": "completed"
    },
    "tags": []
   },
   "source": [
    "# Hyperparameter Tuning and Regularization\n",
    "\n",
    "Just like other machine learning models, there are several hyperparameters we can to adjust the capacity of model and reduce overfitting.\n",
    "\n",
    "<img src=\"https://i.imgur.com/EJCrSZw.png\" width=\"480\">\n",
    "\n",
    "Check out the following resources to learn more about hyperparameter supported by XGBoost:\n",
    "\n",
    "- https://xgboost.readthedocs.io/en/latest/python/python_api.html#xgboost.XGBRegressor\n",
    "- https://xgboost.readthedocs.io/en/latest/parameter.html"
   ]
  },
  {
   "cell_type": "code",
   "execution_count": 246,
   "id": "d7414582",
   "metadata": {
    "execution": {
     "iopub.execute_input": "2021-07-28T19:27:37.259021Z",
     "iopub.status.busy": "2021-07-28T19:27:37.258331Z",
     "iopub.status.idle": "2021-07-28T19:27:37.261162Z",
     "shell.execute_reply": "2021-07-28T19:27:37.260602Z"
    },
    "papermill": {
     "duration": 0.095095,
     "end_time": "2021-07-28T19:27:37.261302",
     "exception": false,
     "start_time": "2021-07-28T19:27:37.166207",
     "status": "completed"
    },
    "tags": []
   },
   "outputs": [],
   "source": [
    "def test_params_kfold(n_splits, **params):\n",
    "    train_rmses, val_rmses, models = [], [], []\n",
    "    kfold = KFold(n_splits)\n",
    "    for train_idxs, val_idxs in kfold.split(X):\n",
    "        X_train, train_targets = X.iloc[train_idxs], targets.iloc[train_idxs]\n",
    "        X_val, val_targets = X.iloc[val_idxs], targets.iloc[val_idxs]\n",
    "        model, train_rmse, val_rmse = train_and_evaluate(X_train, train_targets, X_val, val_targets, **params)\n",
    "        models.append(model)\n",
    "        train_rmses.append(train_rmse)\n",
    "        val_rmses.append(val_rmse)\n",
    "    print('Train RMSE: {}, Validation RMSE: {}'.format(np.mean(train_rmses), np.mean(val_rmses)))\n",
    "    return models"
   ]
  },
  {
   "cell_type": "code",
   "execution_count": 247,
   "id": "78188b91",
   "metadata": {
    "execution": {
     "iopub.execute_input": "2021-07-28T19:27:37.433898Z",
     "iopub.status.busy": "2021-07-28T19:27:37.433259Z",
     "iopub.status.idle": "2021-07-28T19:27:37.718134Z",
     "shell.execute_reply": "2021-07-28T19:27:37.717552Z"
    },
    "papermill": {
     "duration": 0.373053,
     "end_time": "2021-07-28T19:27:37.718275",
     "exception": false,
     "start_time": "2021-07-28T19:27:37.345222",
     "status": "completed"
    },
    "tags": []
   },
   "outputs": [],
   "source": [
    "X_train, X_val, train_targets, val_targets = train_test_split(X, targets, test_size=0.1)"
   ]
  },
  {
   "cell_type": "code",
   "execution_count": 248,
   "id": "82b5dafa",
   "metadata": {
    "execution": {
     "iopub.execute_input": "2021-07-28T19:27:37.890371Z",
     "iopub.status.busy": "2021-07-28T19:27:37.889831Z",
     "iopub.status.idle": "2021-07-28T19:27:37.892295Z",
     "shell.execute_reply": "2021-07-28T19:27:37.892744Z"
    },
    "papermill": {
     "duration": 0.091806,
     "end_time": "2021-07-28T19:27:37.892903",
     "exception": false,
     "start_time": "2021-07-28T19:27:37.801097",
     "status": "completed"
    },
    "tags": []
   },
   "outputs": [],
   "source": [
    "def test_params(**params):\n",
    "    model = XGBRegressor(n_jobs=-1, random_state=42, **params)\n",
    "    model.fit(X_train, train_targets)\n",
    "    train_rmse = rmse(model.predict(X_train), train_targets)\n",
    "    val_rmse = rmse(model.predict(X_val), val_targets)\n",
    "    print('Train RMSE: {}, Validation RMSE: {}'.format(train_rmse, val_rmse))"
   ]
  },
  {
   "cell_type": "code",
   "execution_count": 249,
   "id": "0cf6eff3",
   "metadata": {
    "execution": {
     "iopub.execute_input": "2021-07-28T19:27:38.062874Z",
     "iopub.status.busy": "2021-07-28T19:27:38.062263Z",
     "iopub.status.idle": "2021-07-28T19:27:45.080307Z",
     "shell.execute_reply": "2021-07-28T19:27:45.079610Z"
    },
    "papermill": {
     "duration": 7.104829,
     "end_time": "2021-07-28T19:27:45.080461",
     "exception": false,
     "start_time": "2021-07-28T19:27:37.975632",
     "status": "completed"
    },
    "tags": []
   },
   "outputs": [
    {
     "name": "stdout",
     "output_type": "stream",
     "text": [
      "Train RMSE: 2281.717555484889, Validation RMSE: 2290.177614490177\n"
     ]
    }
   ],
   "source": [
    "test_params(n_estimators=10)"
   ]
  },
  {
   "cell_type": "markdown",
   "id": "0e27b46d",
   "metadata": {
    "papermill": {
     "duration": 0.083438,
     "end_time": "2021-07-28T19:27:45.250886",
     "exception": false,
     "start_time": "2021-07-28T19:27:45.167448",
     "status": "completed"
    },
    "tags": []
   },
   "source": [
    "### max_depth"
   ]
  },
  {
   "cell_type": "code",
   "execution_count": 250,
   "id": "eddd480c",
   "metadata": {
    "execution": {
     "iopub.execute_input": "2021-07-28T19:27:45.428183Z",
     "iopub.status.busy": "2021-07-28T19:27:45.427560Z",
     "iopub.status.idle": "2021-07-28T19:28:04.907350Z",
     "shell.execute_reply": "2021-07-28T19:28:04.907966Z"
    },
    "papermill": {
     "duration": 19.571511,
     "end_time": "2021-07-28T19:28:04.908156",
     "exception": false,
     "start_time": "2021-07-28T19:27:45.336645",
     "status": "completed"
    },
    "tags": []
   },
   "outputs": [
    {
     "name": "stdout",
     "output_type": "stream",
     "text": [
      "Train RMSE: 2345.15694619172, Validation RMSE: 2346.9842606643874\n"
     ]
    }
   ],
   "source": [
    "test_params(max_depth=2)"
   ]
  },
  {
   "cell_type": "code",
   "execution_count": 251,
   "id": "cf42c2be",
   "metadata": {
    "execution": {
     "iopub.execute_input": "2021-07-28T19:28:05.081664Z",
     "iopub.status.busy": "2021-07-28T19:28:05.080673Z",
     "iopub.status.idle": "2021-07-28T19:28:50.505216Z",
     "shell.execute_reply": "2021-07-28T19:28:50.505744Z"
    },
    "papermill": {
     "duration": 45.512738,
     "end_time": "2021-07-28T19:28:50.505924",
     "exception": false,
     "start_time": "2021-07-28T19:28:04.993186",
     "status": "completed"
    },
    "tags": []
   },
   "outputs": [
    {
     "name": "stdout",
     "output_type": "stream",
     "text": [
      "Train RMSE: 1371.2406038668817, Validation RMSE: 1379.0932281377402\n"
     ]
    }
   ],
   "source": [
    "test_params(max_depth=5)"
   ]
  },
  {
   "cell_type": "markdown",
   "id": "7fee9590",
   "metadata": {
    "papermill": {
     "duration": 0.087091,
     "end_time": "2021-07-28T19:28:50.681068",
     "exception": false,
     "start_time": "2021-07-28T19:28:50.593977",
     "status": "completed"
    },
    "tags": []
   },
   "source": [
    "#### learning_rate\n",
    "\n",
    "The scaling factor to be applied to the prediction of each tree. A very high learning rate (close to 1) will lead to overfitting, and a low learning rate (close to 0) will lead to underfitting."
   ]
  },
  {
   "cell_type": "code",
   "execution_count": 252,
   "id": "76780bd1",
   "metadata": {
    "execution": {
     "iopub.execute_input": "2021-07-28T19:28:50.864481Z",
     "iopub.status.busy": "2021-07-28T19:28:50.863760Z",
     "iopub.status.idle": "2021-07-28T19:29:18.089969Z",
     "shell.execute_reply": "2021-07-28T19:29:18.091043Z"
    },
    "papermill": {
     "duration": 27.322017,
     "end_time": "2021-07-28T19:29:18.091248",
     "exception": false,
     "start_time": "2021-07-28T19:28:50.769231",
     "status": "completed"
    },
    "tags": []
   },
   "outputs": [
    {
     "name": "stdout",
     "output_type": "stream",
     "text": [
      "Train RMSE: 5043.622422053728, Validation RMSE: 5054.960856381087\n"
     ]
    }
   ],
   "source": [
    "test_params(n_estimators=50, learning_rate=0.01)"
   ]
  },
  {
   "cell_type": "code",
   "execution_count": 253,
   "id": "e3d6519d",
   "metadata": {
    "execution": {
     "iopub.execute_input": "2021-07-28T19:29:18.275431Z",
     "iopub.status.busy": "2021-07-28T19:29:18.274706Z",
     "iopub.status.idle": "2021-07-28T19:29:45.469923Z",
     "shell.execute_reply": "2021-07-28T19:29:45.470854Z"
    },
    "papermill": {
     "duration": 27.289699,
     "end_time": "2021-07-28T19:29:45.471057",
     "exception": false,
     "start_time": "2021-07-28T19:29:18.181358",
     "status": "completed"
    },
    "tags": []
   },
   "outputs": [
    {
     "name": "stdout",
     "output_type": "stream",
     "text": [
      "Train RMSE: 2131.4299543794846, Validation RMSE: 2140.1082205418293\n"
     ]
    }
   ],
   "source": [
    "test_params(n_estimators=50, learning_rate=0.1)"
   ]
  },
  {
   "cell_type": "markdown",
   "id": "4155f6a2",
   "metadata": {
    "papermill": {
     "duration": 0.089373,
     "end_time": "2021-07-28T19:29:45.650961",
     "exception": false,
     "start_time": "2021-07-28T19:29:45.561588",
     "status": "completed"
    },
    "tags": []
   },
   "source": [
    "#### booster\n",
    "\n",
    "Instead of using Decision Trees, XGBoost can also train a linear model for each iteration. This can be configured using `booster`."
   ]
  },
  {
   "cell_type": "code",
   "execution_count": 254,
   "id": "cae27bcd",
   "metadata": {
    "execution": {
     "iopub.execute_input": "2021-07-28T19:29:45.829377Z",
     "iopub.status.busy": "2021-07-28T19:29:45.828832Z",
     "iopub.status.idle": "2021-07-28T19:29:54.828486Z",
     "shell.execute_reply": "2021-07-28T19:29:54.829342Z"
    },
    "papermill": {
     "duration": 9.091056,
     "end_time": "2021-07-28T19:29:54.829527",
     "exception": false,
     "start_time": "2021-07-28T19:29:45.738471",
     "status": "completed"
    },
    "tags": []
   },
   "outputs": [
    {
     "name": "stdout",
     "output_type": "stream",
     "text": [
      "Train RMSE: 2727.036785800368, Validation RMSE: 2727.3082099559983\n"
     ]
    }
   ],
   "source": [
    "test_params(booster='gblinear')"
   ]
  },
  {
   "cell_type": "markdown",
   "id": "48792363",
   "metadata": {
    "papermill": {
     "duration": 0.086339,
     "end_time": "2021-07-28T19:29:55.004352",
     "exception": false,
     "start_time": "2021-07-28T19:29:54.918013",
     "status": "completed"
    },
    "tags": []
   },
   "source": [
    "# Train with best parameters"
   ]
  },
  {
   "cell_type": "code",
   "execution_count": 255,
   "id": "f60fc29b",
   "metadata": {
    "execution": {
     "iopub.execute_input": "2021-07-28T19:29:55.182606Z",
     "iopub.status.busy": "2021-07-28T19:29:55.181554Z",
     "iopub.status.idle": "2021-07-28T19:29:55.183764Z",
     "shell.execute_reply": "2021-07-28T19:29:55.184301Z"
    },
    "papermill": {
     "duration": 0.093451,
     "end_time": "2021-07-28T19:29:55.184459",
     "exception": false,
     "start_time": "2021-07-28T19:29:55.091008",
     "status": "completed"
    },
    "tags": []
   },
   "outputs": [],
   "source": [
    "model = XGBRegressor(n_jobs=-1, random_state=42, n_estimators=1000, \n",
    "                     learning_rate=0.2, max_depth=10, subsample=0.9, \n",
    "                     colsample_bytree=0.7)"
   ]
  },
  {
   "cell_type": "code",
   "execution_count": 256,
   "id": "67901633",
   "metadata": {
    "execution": {
     "iopub.execute_input": "2021-07-28T19:29:55.362291Z",
     "iopub.status.busy": "2021-07-28T19:29:55.361387Z",
     "iopub.status.idle": "2021-07-28T19:43:09.459696Z",
     "shell.execute_reply": "2021-07-28T19:43:09.459187Z"
    },
    "papermill": {
     "duration": 794.188665,
     "end_time": "2021-07-28T19:43:09.459885",
     "exception": false,
     "start_time": "2021-07-28T19:29:55.271220",
     "status": "completed"
    },
    "tags": []
   },
   "outputs": [
    {
     "name": "stdout",
     "output_type": "stream",
     "text": [
      "CPU times: user 29min 21s, sys: 5min 55s, total: 35min 17s\n",
      "Wall time: 5min 43s\n"
     ]
    },
    {
     "data": {
      "text/html": [
       "<style>#sk-container-id-3 {color: black;}#sk-container-id-3 pre{padding: 0;}#sk-container-id-3 div.sk-toggleable {background-color: white;}#sk-container-id-3 label.sk-toggleable__label {cursor: pointer;display: block;width: 100%;margin-bottom: 0;padding: 0.3em;box-sizing: border-box;text-align: center;}#sk-container-id-3 label.sk-toggleable__label-arrow:before {content: \"▸\";float: left;margin-right: 0.25em;color: #696969;}#sk-container-id-3 label.sk-toggleable__label-arrow:hover:before {color: black;}#sk-container-id-3 div.sk-estimator:hover label.sk-toggleable__label-arrow:before {color: black;}#sk-container-id-3 div.sk-toggleable__content {max-height: 0;max-width: 0;overflow: hidden;text-align: left;background-color: #f0f8ff;}#sk-container-id-3 div.sk-toggleable__content pre {margin: 0.2em;color: black;border-radius: 0.25em;background-color: #f0f8ff;}#sk-container-id-3 input.sk-toggleable__control:checked~div.sk-toggleable__content {max-height: 200px;max-width: 100%;overflow: auto;}#sk-container-id-3 input.sk-toggleable__control:checked~label.sk-toggleable__label-arrow:before {content: \"▾\";}#sk-container-id-3 div.sk-estimator input.sk-toggleable__control:checked~label.sk-toggleable__label {background-color: #d4ebff;}#sk-container-id-3 div.sk-label input.sk-toggleable__control:checked~label.sk-toggleable__label {background-color: #d4ebff;}#sk-container-id-3 input.sk-hidden--visually {border: 0;clip: rect(1px 1px 1px 1px);clip: rect(1px, 1px, 1px, 1px);height: 1px;margin: -1px;overflow: hidden;padding: 0;position: absolute;width: 1px;}#sk-container-id-3 div.sk-estimator {font-family: monospace;background-color: #f0f8ff;border: 1px dotted black;border-radius: 0.25em;box-sizing: border-box;margin-bottom: 0.5em;}#sk-container-id-3 div.sk-estimator:hover {background-color: #d4ebff;}#sk-container-id-3 div.sk-parallel-item::after {content: \"\";width: 100%;border-bottom: 1px solid gray;flex-grow: 1;}#sk-container-id-3 div.sk-label:hover label.sk-toggleable__label {background-color: #d4ebff;}#sk-container-id-3 div.sk-serial::before {content: \"\";position: absolute;border-left: 1px solid gray;box-sizing: border-box;top: 0;bottom: 0;left: 50%;z-index: 0;}#sk-container-id-3 div.sk-serial {display: flex;flex-direction: column;align-items: center;background-color: white;padding-right: 0.2em;padding-left: 0.2em;position: relative;}#sk-container-id-3 div.sk-item {position: relative;z-index: 1;}#sk-container-id-3 div.sk-parallel {display: flex;align-items: stretch;justify-content: center;background-color: white;position: relative;}#sk-container-id-3 div.sk-item::before, #sk-container-id-3 div.sk-parallel-item::before {content: \"\";position: absolute;border-left: 1px solid gray;box-sizing: border-box;top: 0;bottom: 0;left: 50%;z-index: -1;}#sk-container-id-3 div.sk-parallel-item {display: flex;flex-direction: column;z-index: 1;position: relative;background-color: white;}#sk-container-id-3 div.sk-parallel-item:first-child::after {align-self: flex-end;width: 50%;}#sk-container-id-3 div.sk-parallel-item:last-child::after {align-self: flex-start;width: 50%;}#sk-container-id-3 div.sk-parallel-item:only-child::after {width: 0;}#sk-container-id-3 div.sk-dashed-wrapped {border: 1px dashed gray;margin: 0 0.4em 0.5em 0.4em;box-sizing: border-box;padding-bottom: 0.4em;background-color: white;}#sk-container-id-3 div.sk-label label {font-family: monospace;font-weight: bold;display: inline-block;line-height: 1.2em;}#sk-container-id-3 div.sk-label-container {text-align: center;}#sk-container-id-3 div.sk-container {/* jupyter's `normalize.less` sets `[hidden] { display: none; }` but bootstrap.min.css set `[hidden] { display: none !important; }` so we also need the `!important` here to be able to override the default hidden behavior on the sphinx rendered scikit-learn.org. See: https://github.com/scikit-learn/scikit-learn/issues/21755 */display: inline-block !important;position: relative;}#sk-container-id-3 div.sk-text-repr-fallback {display: none;}</style><div id=\"sk-container-id-3\" class=\"sk-top-container\"><div class=\"sk-text-repr-fallback\"><pre>XGBRegressor(base_score=None, booster=None, callbacks=None,\n",
       "             colsample_bylevel=None, colsample_bynode=None,\n",
       "             colsample_bytree=0.7, early_stopping_rounds=None,\n",
       "             enable_categorical=False, eval_metric=None, feature_types=None,\n",
       "             gamma=None, gpu_id=None, grow_policy=None, importance_type=None,\n",
       "             interaction_constraints=None, learning_rate=0.2, max_bin=None,\n",
       "             max_cat_threshold=None, max_cat_to_onehot=None,\n",
       "             max_delta_step=None, max_depth=10, max_leaves=None,\n",
       "             min_child_weight=None, missing=nan, monotone_constraints=None,\n",
       "             n_estimators=1000, n_jobs=-1, num_parallel_tree=None,\n",
       "             predictor=None, random_state=42, ...)</pre><b>In a Jupyter environment, please rerun this cell to show the HTML representation or trust the notebook. <br />On GitHub, the HTML representation is unable to render, please try loading this page with nbviewer.org.</b></div><div class=\"sk-container\" hidden><div class=\"sk-item\"><div class=\"sk-estimator sk-toggleable\"><input class=\"sk-toggleable__control sk-hidden--visually\" id=\"sk-estimator-id-3\" type=\"checkbox\" checked><label for=\"sk-estimator-id-3\" class=\"sk-toggleable__label sk-toggleable__label-arrow\">XGBRegressor</label><div class=\"sk-toggleable__content\"><pre>XGBRegressor(base_score=None, booster=None, callbacks=None,\n",
       "             colsample_bylevel=None, colsample_bynode=None,\n",
       "             colsample_bytree=0.7, early_stopping_rounds=None,\n",
       "             enable_categorical=False, eval_metric=None, feature_types=None,\n",
       "             gamma=None, gpu_id=None, grow_policy=None, importance_type=None,\n",
       "             interaction_constraints=None, learning_rate=0.2, max_bin=None,\n",
       "             max_cat_threshold=None, max_cat_to_onehot=None,\n",
       "             max_delta_step=None, max_depth=10, max_leaves=None,\n",
       "             min_child_weight=None, missing=nan, monotone_constraints=None,\n",
       "             n_estimators=1000, n_jobs=-1, num_parallel_tree=None,\n",
       "             predictor=None, random_state=42, ...)</pre></div></div></div></div></div>"
      ],
      "text/plain": [
       "XGBRegressor(base_score=None, booster=None, callbacks=None,\n",
       "             colsample_bylevel=None, colsample_bynode=None,\n",
       "             colsample_bytree=0.7, early_stopping_rounds=None,\n",
       "             enable_categorical=False, eval_metric=None, feature_types=None,\n",
       "             gamma=None, gpu_id=None, grow_policy=None, importance_type=None,\n",
       "             interaction_constraints=None, learning_rate=0.2, max_bin=None,\n",
       "             max_cat_threshold=None, max_cat_to_onehot=None,\n",
       "             max_delta_step=None, max_depth=10, max_leaves=None,\n",
       "             min_child_weight=None, missing=nan, monotone_constraints=None,\n",
       "             n_estimators=1000, n_jobs=-1, num_parallel_tree=None,\n",
       "             predictor=None, random_state=42, ...)"
      ]
     },
     "execution_count": 256,
     "metadata": {},
     "output_type": "execute_result"
    }
   ],
   "source": [
    "%%time\n",
    "model.fit(X, targets)"
   ]
  },
  {
   "cell_type": "markdown",
   "id": "4d6b4bcd",
   "metadata": {
    "papermill": {
     "duration": 0.084678,
     "end_time": "2021-07-28T19:43:09.630763",
     "exception": false,
     "start_time": "2021-07-28T19:43:09.546085",
     "status": "completed"
    },
    "tags": []
   },
   "source": [
    "# Predict"
   ]
  },
  {
   "cell_type": "code",
   "execution_count": 257,
   "id": "db9f75cc",
   "metadata": {
    "execution": {
     "iopub.execute_input": "2021-07-28T19:43:09.812732Z",
     "iopub.status.busy": "2021-07-28T19:43:09.811828Z",
     "iopub.status.idle": "2021-07-28T19:43:10.603422Z",
     "shell.execute_reply": "2021-07-28T19:43:10.604033Z"
    },
    "papermill": {
     "duration": 0.887851,
     "end_time": "2021-07-28T19:43:10.604243",
     "exception": false,
     "start_time": "2021-07-28T19:43:09.716392",
     "status": "completed"
    },
    "tags": []
   },
   "outputs": [],
   "source": [
    "test_preds = model.predict(X_test)"
   ]
  },
  {
   "cell_type": "code",
   "execution_count": 258,
   "id": "943967a7",
   "metadata": {
    "execution": {
     "iopub.execute_input": "2021-07-28T19:43:10.778064Z",
     "iopub.status.busy": "2021-07-28T19:43:10.777472Z",
     "iopub.status.idle": "2021-07-28T19:43:10.782324Z",
     "shell.execute_reply": "2021-07-28T19:43:10.782872Z"
    },
    "papermill": {
     "duration": 0.092784,
     "end_time": "2021-07-28T19:43:10.783031",
     "exception": false,
     "start_time": "2021-07-28T19:43:10.690247",
     "status": "completed"
    },
    "tags": []
   },
   "outputs": [],
   "source": [
    "submission_df['Sales']  = test_preds"
   ]
  },
  {
   "cell_type": "markdown",
   "id": "ab2817da",
   "metadata": {
    "papermill": {
     "duration": 0.086839,
     "end_time": "2021-07-28T19:43:10.956016",
     "exception": false,
     "start_time": "2021-07-28T19:43:10.869177",
     "status": "completed"
    },
    "tags": []
   },
   "source": [
    "Recall, however, if if the store is not open, then the sales must be 0. Thus, wherever the value of `Open` in the test set is 0, we can set the sales to 0. Also, there some missing values for `Open` in the test set. We'll replace them with 1 (open)."
   ]
  },
  {
   "cell_type": "code",
   "execution_count": 259,
   "id": "a4c8eb6b",
   "metadata": {
    "execution": {
     "iopub.execute_input": "2021-07-28T19:43:11.131516Z",
     "iopub.status.busy": "2021-07-28T19:43:11.130892Z",
     "iopub.status.idle": "2021-07-28T19:43:11.137212Z",
     "shell.execute_reply": "2021-07-28T19:43:11.137754Z"
    },
    "papermill": {
     "duration": 0.094968,
     "end_time": "2021-07-28T19:43:11.137901",
     "exception": false,
     "start_time": "2021-07-28T19:43:11.042933",
     "status": "completed"
    },
    "tags": []
   },
   "outputs": [
    {
     "data": {
      "text/plain": [
       "11"
      ]
     },
     "execution_count": 259,
     "metadata": {},
     "output_type": "execute_result"
    }
   ],
   "source": [
    "test_df.Open.isna().sum()"
   ]
  },
  {
   "cell_type": "markdown",
   "id": "95834000",
   "metadata": {
    "papermill": {
     "duration": 0.085127,
     "end_time": "2021-07-28T19:43:11.308512",
     "exception": false,
     "start_time": "2021-07-28T19:43:11.223385",
     "status": "completed"
    },
    "tags": []
   },
   "source": [
    "#### Preparing submission.csv"
   ]
  },
  {
   "cell_type": "code",
   "execution_count": 260,
   "id": "ff27a3df",
   "metadata": {
    "execution": {
     "iopub.execute_input": "2021-07-28T19:43:11.483442Z",
     "iopub.status.busy": "2021-07-28T19:43:11.482883Z",
     "iopub.status.idle": "2021-07-28T19:43:11.489183Z",
     "shell.execute_reply": "2021-07-28T19:43:11.489877Z"
    },
    "papermill": {
     "duration": 0.095231,
     "end_time": "2021-07-28T19:43:11.490041",
     "exception": false,
     "start_time": "2021-07-28T19:43:11.394810",
     "status": "completed"
    },
    "tags": []
   },
   "outputs": [],
   "source": [
    "submission_df['Sales'] = submission_df['Sales'] * test_df.Open.fillna(1.)"
   ]
  },
  {
   "cell_type": "code",
   "execution_count": 261,
   "id": "c9dadd44",
   "metadata": {
    "execution": {
     "iopub.execute_input": "2021-07-28T19:43:11.665912Z",
     "iopub.status.busy": "2021-07-28T19:43:11.665334Z",
     "iopub.status.idle": "2021-07-28T19:43:11.677943Z",
     "shell.execute_reply": "2021-07-28T19:43:11.678485Z"
    },
    "papermill": {
     "duration": 0.101315,
     "end_time": "2021-07-28T19:43:11.678634",
     "exception": false,
     "start_time": "2021-07-28T19:43:11.577319",
     "status": "completed"
    },
    "tags": []
   },
   "outputs": [
    {
     "data": {
      "text/html": [
       "<div>\n",
       "<style scoped>\n",
       "    .dataframe tbody tr th:only-of-type {\n",
       "        vertical-align: middle;\n",
       "    }\n",
       "\n",
       "    .dataframe tbody tr th {\n",
       "        vertical-align: top;\n",
       "    }\n",
       "\n",
       "    .dataframe thead th {\n",
       "        text-align: right;\n",
       "    }\n",
       "</style>\n",
       "<table border=\"1\" class=\"dataframe\">\n",
       "  <thead>\n",
       "    <tr style=\"text-align: right;\">\n",
       "      <th></th>\n",
       "      <th>Id</th>\n",
       "      <th>Sales</th>\n",
       "    </tr>\n",
       "  </thead>\n",
       "  <tbody>\n",
       "    <tr>\n",
       "      <th>0</th>\n",
       "      <td>1</td>\n",
       "      <td>3886.328125</td>\n",
       "    </tr>\n",
       "    <tr>\n",
       "      <th>1</th>\n",
       "      <td>2</td>\n",
       "      <td>7721.505859</td>\n",
       "    </tr>\n",
       "    <tr>\n",
       "      <th>2</th>\n",
       "      <td>3</td>\n",
       "      <td>9260.431641</td>\n",
       "    </tr>\n",
       "    <tr>\n",
       "      <th>3</th>\n",
       "      <td>4</td>\n",
       "      <td>7092.877441</td>\n",
       "    </tr>\n",
       "    <tr>\n",
       "      <th>4</th>\n",
       "      <td>5</td>\n",
       "      <td>7200.538086</td>\n",
       "    </tr>\n",
       "    <tr>\n",
       "      <th>...</th>\n",
       "      <td>...</td>\n",
       "      <td>...</td>\n",
       "    </tr>\n",
       "    <tr>\n",
       "      <th>41083</th>\n",
       "      <td>41084</td>\n",
       "      <td>2364.081055</td>\n",
       "    </tr>\n",
       "    <tr>\n",
       "      <th>41084</th>\n",
       "      <td>41085</td>\n",
       "      <td>6444.291504</td>\n",
       "    </tr>\n",
       "    <tr>\n",
       "      <th>41085</th>\n",
       "      <td>41086</td>\n",
       "      <td>6014.906250</td>\n",
       "    </tr>\n",
       "    <tr>\n",
       "      <th>41086</th>\n",
       "      <td>41087</td>\n",
       "      <td>23130.537109</td>\n",
       "    </tr>\n",
       "    <tr>\n",
       "      <th>41087</th>\n",
       "      <td>41088</td>\n",
       "      <td>7411.898438</td>\n",
       "    </tr>\n",
       "  </tbody>\n",
       "</table>\n",
       "<p>41088 rows × 2 columns</p>\n",
       "</div>"
      ],
      "text/plain": [
       "          Id         Sales\n",
       "0          1   3886.328125\n",
       "1          2   7721.505859\n",
       "2          3   9260.431641\n",
       "3          4   7092.877441\n",
       "4          5   7200.538086\n",
       "...      ...           ...\n",
       "41083  41084   2364.081055\n",
       "41084  41085   6444.291504\n",
       "41085  41086   6014.906250\n",
       "41086  41087  23130.537109\n",
       "41087  41088   7411.898438\n",
       "\n",
       "[41088 rows x 2 columns]"
      ]
     },
     "execution_count": 261,
     "metadata": {},
     "output_type": "execute_result"
    }
   ],
   "source": [
    "submission_df"
   ]
  },
  {
   "cell_type": "code",
   "execution_count": 262,
   "id": "d3033808",
   "metadata": {
    "execution": {
     "iopub.execute_input": "2021-07-28T19:43:11.856563Z",
     "iopub.status.busy": "2021-07-28T19:43:11.856001Z",
     "iopub.status.idle": "2021-07-28T19:43:11.995827Z",
     "shell.execute_reply": "2021-07-28T19:43:11.995268Z"
    },
    "papermill": {
     "duration": 0.230484,
     "end_time": "2021-07-28T19:43:11.995959",
     "exception": false,
     "start_time": "2021-07-28T19:43:11.765475",
     "status": "completed"
    },
    "tags": []
   },
   "outputs": [],
   "source": [
    "submission_df.to_csv('submission.csv', index=None)"
   ]
  },
  {
   "cell_type": "markdown",
   "id": "c89f48f5",
   "metadata": {
    "papermill": {
     "duration": 0.086955,
     "end_time": "2021-07-28T19:43:12.170109",
     "exception": false,
     "start_time": "2021-07-28T19:43:12.083154",
     "status": "completed"
    },
    "tags": []
   },
   "source": [
    "# Single Input Prediction"
   ]
  },
  {
   "cell_type": "code",
   "execution_count": 263,
   "id": "05fc013b",
   "metadata": {
    "execution": {
     "iopub.execute_input": "2021-07-28T19:43:12.355799Z",
     "iopub.status.busy": "2021-07-28T19:43:12.354888Z",
     "iopub.status.idle": "2021-07-28T19:43:12.358272Z",
     "shell.execute_reply": "2021-07-28T19:43:12.358776Z"
    },
    "papermill": {
     "duration": 0.101368,
     "end_time": "2021-07-28T19:43:12.358930",
     "exception": false,
     "start_time": "2021-07-28T19:43:12.257562",
     "status": "completed"
    },
    "tags": []
   },
   "outputs": [
    {
     "data": {
      "text/html": [
       "<div>\n",
       "<style scoped>\n",
       "    .dataframe tbody tr th:only-of-type {\n",
       "        vertical-align: middle;\n",
       "    }\n",
       "\n",
       "    .dataframe tbody tr th {\n",
       "        vertical-align: top;\n",
       "    }\n",
       "\n",
       "    .dataframe thead th {\n",
       "        text-align: right;\n",
       "    }\n",
       "</style>\n",
       "<table border=\"1\" class=\"dataframe\">\n",
       "  <thead>\n",
       "    <tr style=\"text-align: right;\">\n",
       "      <th></th>\n",
       "      <th>Store</th>\n",
       "      <th>DayOfWeek</th>\n",
       "      <th>Promo</th>\n",
       "      <th>Date</th>\n",
       "      <th>Open</th>\n",
       "      <th>StateHoliday</th>\n",
       "      <th>SchoolHoliday</th>\n",
       "    </tr>\n",
       "  </thead>\n",
       "  <tbody>\n",
       "    <tr>\n",
       "      <th>0</th>\n",
       "      <td>2</td>\n",
       "      <td>4</td>\n",
       "      <td>1</td>\n",
       "      <td>2015-09-30</td>\n",
       "      <td>1</td>\n",
       "      <td>a</td>\n",
       "      <td>0</td>\n",
       "    </tr>\n",
       "  </tbody>\n",
       "</table>\n",
       "</div>"
      ],
      "text/plain": [
       "   Store  DayOfWeek  Promo        Date  Open StateHoliday  SchoolHoliday\n",
       "0      2          4      1  2015-09-30     1            a              0"
      ]
     },
     "execution_count": 263,
     "metadata": {},
     "output_type": "execute_result"
    }
   ],
   "source": [
    "sample_input={\n",
    "    'Store':2,\n",
    "    'DayOfWeek':4,\n",
    "    'Promo' :1,\n",
    "    'Date':'2015-09-30',\n",
    "    'Open':1,\n",
    "    'StateHoliday':'a',\n",
    "    'SchoolHoliday':0\n",
    "}\n",
    "input_df = pd.DataFrame([sample_input])\n",
    "input_df"
   ]
  },
  {
   "cell_type": "code",
   "execution_count": 264,
   "id": "b7642255",
   "metadata": {
    "execution": {
     "iopub.execute_input": "2021-07-28T19:43:12.541571Z",
     "iopub.status.busy": "2021-07-28T19:43:12.540607Z",
     "iopub.status.idle": "2021-07-28T19:43:12.562126Z",
     "shell.execute_reply": "2021-07-28T19:43:12.562555Z"
    },
    "papermill": {
     "duration": 0.115536,
     "end_time": "2021-07-28T19:43:12.562723",
     "exception": false,
     "start_time": "2021-07-28T19:43:12.447187",
     "status": "completed"
    },
    "tags": []
   },
   "outputs": [
    {
     "data": {
      "text/html": [
       "<div>\n",
       "<style scoped>\n",
       "    .dataframe tbody tr th:only-of-type {\n",
       "        vertical-align: middle;\n",
       "    }\n",
       "\n",
       "    .dataframe tbody tr th {\n",
       "        vertical-align: top;\n",
       "    }\n",
       "\n",
       "    .dataframe thead th {\n",
       "        text-align: right;\n",
       "    }\n",
       "</style>\n",
       "<table border=\"1\" class=\"dataframe\">\n",
       "  <thead>\n",
       "    <tr style=\"text-align: right;\">\n",
       "      <th></th>\n",
       "      <th>Store</th>\n",
       "      <th>DayOfWeek</th>\n",
       "      <th>Promo</th>\n",
       "      <th>Date</th>\n",
       "      <th>Open</th>\n",
       "      <th>StateHoliday</th>\n",
       "      <th>SchoolHoliday</th>\n",
       "      <th>StoreType</th>\n",
       "      <th>Assortment</th>\n",
       "      <th>CompetitionDistance</th>\n",
       "      <th>CompetitionOpenSinceMonth</th>\n",
       "      <th>CompetitionOpenSinceYear</th>\n",
       "      <th>Promo2</th>\n",
       "      <th>Promo2SinceWeek</th>\n",
       "      <th>Promo2SinceYear</th>\n",
       "      <th>PromoInterval</th>\n",
       "    </tr>\n",
       "  </thead>\n",
       "  <tbody>\n",
       "    <tr>\n",
       "      <th>0</th>\n",
       "      <td>2</td>\n",
       "      <td>4</td>\n",
       "      <td>1</td>\n",
       "      <td>2015-09-30</td>\n",
       "      <td>1</td>\n",
       "      <td>a</td>\n",
       "      <td>0</td>\n",
       "      <td>a</td>\n",
       "      <td>a</td>\n",
       "      <td>570.0</td>\n",
       "      <td>11.0</td>\n",
       "      <td>2007.0</td>\n",
       "      <td>1</td>\n",
       "      <td>13.0</td>\n",
       "      <td>2010.0</td>\n",
       "      <td>Jan,Apr,Jul,Oct</td>\n",
       "    </tr>\n",
       "  </tbody>\n",
       "</table>\n",
       "</div>"
      ],
      "text/plain": [
       "   Store  DayOfWeek  Promo        Date  Open StateHoliday  SchoolHoliday  \\\n",
       "0      2          4      1  2015-09-30     1            a              0   \n",
       "\n",
       "  StoreType Assortment  CompetitionDistance  CompetitionOpenSinceMonth  \\\n",
       "0         a          a                570.0                       11.0   \n",
       "\n",
       "   CompetitionOpenSinceYear  Promo2  Promo2SinceWeek  Promo2SinceYear  \\\n",
       "0                    2007.0       1             13.0           2010.0   \n",
       "\n",
       "     PromoInterval  \n",
       "0  Jan,Apr,Jul,Oct  "
      ]
     },
     "execution_count": 264,
     "metadata": {},
     "output_type": "execute_result"
    }
   ],
   "source": [
    "input_merged_df = input_df.merge(store_df, on='Store')\n",
    "input_merged_df"
   ]
  },
  {
   "cell_type": "markdown",
   "id": "770f81a7",
   "metadata": {
    "papermill": {
     "duration": 0.091896,
     "end_time": "2021-07-28T19:43:12.742847",
     "exception": false,
     "start_time": "2021-07-28T19:43:12.650951",
     "status": "completed"
    },
    "tags": []
   },
   "source": [
    "# Saving & Loading Models"
   ]
  },
  {
   "cell_type": "code",
   "execution_count": 265,
   "id": "e1cfbb3e",
   "metadata": {
    "execution": {
     "iopub.execute_input": "2021-07-28T19:43:12.923012Z",
     "iopub.status.busy": "2021-07-28T19:43:12.922397Z",
     "iopub.status.idle": "2021-07-28T19:43:12.924205Z",
     "shell.execute_reply": "2021-07-28T19:43:12.924618Z"
    },
    "papermill": {
     "duration": 0.095329,
     "end_time": "2021-07-28T19:43:12.924780",
     "exception": false,
     "start_time": "2021-07-28T19:43:12.829451",
     "status": "completed"
    },
    "tags": []
   },
   "outputs": [],
   "source": [
    "drug_store = {\n",
    "    'model': model,\n",
    "    'scaler': scaler,\n",
    "    'encoder': encoder,\n",
    "    'input_cols': input_cols,\n",
    "    'target_col': target_col,\n",
    "    'numeric_cols': numeric_cols,\n",
    "    'categorical_cols': categorical_cols,\n",
    "    'encoded_cols': encoded_cols\n",
    "}"
   ]
  },
  {
   "cell_type": "code",
   "execution_count": 266,
   "id": "0937e9b0",
   "metadata": {
    "execution": {
     "iopub.execute_input": "2021-07-28T19:43:13.103489Z",
     "iopub.status.busy": "2021-07-28T19:43:13.102899Z",
     "iopub.status.idle": "2021-07-28T19:43:15.780666Z",
     "shell.execute_reply": "2021-07-28T19:43:15.780098Z"
    },
    "papermill": {
     "duration": 2.767326,
     "end_time": "2021-07-28T19:43:15.780814",
     "exception": false,
     "start_time": "2021-07-28T19:43:13.013488",
     "status": "completed"
    },
    "tags": []
   },
   "outputs": [
    {
     "data": {
      "text/plain": [
       "['drug_store.joblib']"
      ]
     },
     "execution_count": 266,
     "metadata": {},
     "output_type": "execute_result"
    }
   ],
   "source": [
    "joblib.dump(drug_store, 'drug_store.joblib')"
   ]
  },
  {
   "cell_type": "code",
   "execution_count": 267,
   "id": "8356e758",
   "metadata": {
    "execution": {
     "iopub.execute_input": "2021-07-28T19:43:15.959749Z",
     "iopub.status.busy": "2021-07-28T19:43:15.959121Z",
     "iopub.status.idle": "2021-07-28T19:43:19.208476Z",
     "shell.execute_reply": "2021-07-28T19:43:19.207989Z"
    },
    "papermill": {
     "duration": 3.340521,
     "end_time": "2021-07-28T19:43:19.208632",
     "exception": false,
     "start_time": "2021-07-28T19:43:15.868111",
     "status": "completed"
    },
    "tags": []
   },
   "outputs": [],
   "source": [
    "drug_store = joblib.load('drug_store.joblib')"
   ]
  },
  {
   "cell_type": "markdown",
   "id": "48e32596",
   "metadata": {
    "papermill": {
     "duration": 0.087747,
     "end_time": "2021-07-28T19:43:19.383970",
     "exception": false,
     "start_time": "2021-07-28T19:43:19.296223",
     "status": "completed"
    },
    "tags": []
   },
   "source": [
    "#### Feature Engineering"
   ]
  },
  {
   "cell_type": "code",
   "execution_count": 272,
   "id": "de21a6c7",
   "metadata": {
    "execution": {
     "iopub.execute_input": "2021-07-28T19:43:19.596438Z",
     "iopub.status.busy": "2021-07-28T19:43:19.595540Z",
     "iopub.status.idle": "2021-07-28T19:43:19.599199Z",
     "shell.execute_reply": "2021-07-28T19:43:19.599659Z"
    },
    "papermill": {
     "duration": 0.12746,
     "end_time": "2021-07-28T19:43:19.599839",
     "exception": false,
     "start_time": "2021-07-28T19:43:19.472379",
     "status": "completed"
    },
    "scrolled": true,
    "tags": []
   },
   "outputs": [
    {
     "data": {
      "text/html": [
       "<div>\n",
       "<style scoped>\n",
       "    .dataframe tbody tr th:only-of-type {\n",
       "        vertical-align: middle;\n",
       "    }\n",
       "\n",
       "    .dataframe tbody tr th {\n",
       "        vertical-align: top;\n",
       "    }\n",
       "\n",
       "    .dataframe thead th {\n",
       "        text-align: right;\n",
       "    }\n",
       "</style>\n",
       "<table border=\"1\" class=\"dataframe\">\n",
       "  <thead>\n",
       "    <tr style=\"text-align: right;\">\n",
       "      <th></th>\n",
       "      <th>Store</th>\n",
       "      <th>DayOfWeek</th>\n",
       "      <th>Promo</th>\n",
       "      <th>Date</th>\n",
       "      <th>Open</th>\n",
       "      <th>StateHoliday</th>\n",
       "      <th>SchoolHoliday</th>\n",
       "      <th>StoreType</th>\n",
       "      <th>Assortment</th>\n",
       "      <th>CompetitionDistance</th>\n",
       "      <th>CompetitionOpenSinceMonth</th>\n",
       "      <th>CompetitionOpenSinceYear</th>\n",
       "      <th>Promo2</th>\n",
       "      <th>Promo2SinceWeek</th>\n",
       "      <th>Promo2SinceYear</th>\n",
       "      <th>PromoInterval</th>\n",
       "      <th>Year</th>\n",
       "      <th>Month</th>\n",
       "      <th>Day</th>\n",
       "      <th>WeekOfYear</th>\n",
       "      <th>CompetitionOpen</th>\n",
       "      <th>Promo2Open</th>\n",
       "      <th>IsPromo2Month</th>\n",
       "      <th>DayOfWeek_1</th>\n",
       "      <th>DayOfWeek_2</th>\n",
       "      <th>DayOfWeek_3</th>\n",
       "      <th>DayOfWeek_4</th>\n",
       "      <th>DayOfWeek_5</th>\n",
       "      <th>DayOfWeek_6</th>\n",
       "      <th>DayOfWeek_7</th>\n",
       "      <th>StateHoliday_0</th>\n",
       "      <th>StateHoliday_a</th>\n",
       "      <th>StateHoliday_b</th>\n",
       "      <th>StateHoliday_c</th>\n",
       "      <th>StoreType_a</th>\n",
       "      <th>StoreType_b</th>\n",
       "      <th>StoreType_c</th>\n",
       "      <th>StoreType_d</th>\n",
       "      <th>Assortment_a</th>\n",
       "      <th>Assortment_b</th>\n",
       "      <th>Assortment_c</th>\n",
       "    </tr>\n",
       "  </thead>\n",
       "  <tbody>\n",
       "    <tr>\n",
       "      <th>0</th>\n",
       "      <td>0.000898</td>\n",
       "      <td>4</td>\n",
       "      <td>1.0</td>\n",
       "      <td>2015-09-30</td>\n",
       "      <td>1</td>\n",
       "      <td>a</td>\n",
       "      <td>0.0</td>\n",
       "      <td>a</td>\n",
       "      <td>a</td>\n",
       "      <td>0.007252</td>\n",
       "      <td>11.0</td>\n",
       "      <td>2007.0</td>\n",
       "      <td>1.0</td>\n",
       "      <td>13.0</td>\n",
       "      <td>2010.0</td>\n",
       "      <td>Jan,Apr,Jul,Oct</td>\n",
       "      <td>2015</td>\n",
       "      <td>9</td>\n",
       "      <td>30</td>\n",
       "      <td>40</td>\n",
       "      <td>94.0</td>\n",
       "      <td>66.196721</td>\n",
       "      <td>0.0</td>\n",
       "      <td>0.0</td>\n",
       "      <td>0.0</td>\n",
       "      <td>0.0</td>\n",
       "      <td>1.0</td>\n",
       "      <td>0.0</td>\n",
       "      <td>0.0</td>\n",
       "      <td>0.0</td>\n",
       "      <td>0.0</td>\n",
       "      <td>1.0</td>\n",
       "      <td>0.0</td>\n",
       "      <td>0.0</td>\n",
       "      <td>1.0</td>\n",
       "      <td>0.0</td>\n",
       "      <td>0.0</td>\n",
       "      <td>0.0</td>\n",
       "      <td>1.0</td>\n",
       "      <td>0.0</td>\n",
       "      <td>0.0</td>\n",
       "    </tr>\n",
       "  </tbody>\n",
       "</table>\n",
       "</div>"
      ],
      "text/plain": [
       "      Store  DayOfWeek  Promo       Date  Open StateHoliday  SchoolHoliday  \\\n",
       "0  0.000898          4    1.0 2015-09-30     1            a            0.0   \n",
       "\n",
       "  StoreType Assortment  CompetitionDistance  CompetitionOpenSinceMonth  \\\n",
       "0         a          a             0.007252                       11.0   \n",
       "\n",
       "   CompetitionOpenSinceYear  Promo2  Promo2SinceWeek  Promo2SinceYear  \\\n",
       "0                    2007.0     1.0             13.0           2010.0   \n",
       "\n",
       "     PromoInterval  Year  Month  Day  WeekOfYear  CompetitionOpen  Promo2Open  \\\n",
       "0  Jan,Apr,Jul,Oct  2015      9   30          40             94.0   66.196721   \n",
       "\n",
       "   IsPromo2Month  DayOfWeek_1  DayOfWeek_2  DayOfWeek_3  DayOfWeek_4  \\\n",
       "0            0.0          0.0          0.0          0.0          1.0   \n",
       "\n",
       "   DayOfWeek_5  DayOfWeek_6  DayOfWeek_7  StateHoliday_0  StateHoliday_a  \\\n",
       "0          0.0          0.0          0.0             0.0             1.0   \n",
       "\n",
       "   StateHoliday_b  StateHoliday_c  StoreType_a  StoreType_b  StoreType_c  \\\n",
       "0             0.0             0.0          1.0          0.0          0.0   \n",
       "\n",
       "   StoreType_d  Assortment_a  Assortment_b  Assortment_c  \n",
       "0          0.0           1.0           0.0           0.0  "
      ]
     },
     "execution_count": 272,
     "metadata": {},
     "output_type": "execute_result"
    }
   ],
   "source": [
    "# 提取日期信息作为特征\n",
    "extract_date(input_merged_df)  \n",
    "\n",
    "# 计算竞争持续时间作为特征\n",
    "calc_duration_competition(input_merged_df)\n",
    "\n",
    "# 增加促销相关特征\n",
    "promo_cols(input_merged_df)\n",
    "\n",
    "# 特征工程完成后的dataframe\n",
    "input_merged_df"
   ]
  },
  {
   "cell_type": "markdown",
   "id": "74e43a30",
   "metadata": {
    "papermill": {
     "duration": 0.087296,
     "end_time": "2021-07-28T19:43:19.773514",
     "exception": false,
     "start_time": "2021-07-28T19:43:19.686218",
     "status": "completed"
    },
    "tags": []
   },
   "source": [
    "#### Preprocessing"
   ]
  },
  {
   "cell_type": "code",
   "execution_count": 269,
   "id": "239bb45e",
   "metadata": {
    "execution": {
     "iopub.execute_input": "2021-07-28T19:43:19.968274Z",
     "iopub.status.busy": "2021-07-28T19:43:19.966385Z",
     "iopub.status.idle": "2021-07-28T19:43:19.973929Z",
     "shell.execute_reply": "2021-07-28T19:43:19.973324Z"
    },
    "papermill": {
     "duration": 0.113696,
     "end_time": "2021-07-28T19:43:19.974062",
     "exception": false,
     "start_time": "2021-07-28T19:43:19.860366",
     "status": "completed"
    },
    "tags": []
   },
   "outputs": [],
   "source": [
    "input_merged_df[numeric_cols] = scaler.transform(input_merged_df[numeric_cols])\n",
    "input_merged_df[encoded_cols] = encoder.transform(input_merged_df[categorical_cols])"
   ]
  },
  {
   "cell_type": "code",
   "execution_count": 270,
   "id": "21ead582",
   "metadata": {
    "execution": {
     "iopub.execute_input": "2021-07-28T19:43:20.161808Z",
     "iopub.status.busy": "2021-07-28T19:43:20.158251Z",
     "iopub.status.idle": "2021-07-28T19:43:20.167625Z",
     "shell.execute_reply": "2021-07-28T19:43:20.167088Z"
    },
    "papermill": {
     "duration": 0.103206,
     "end_time": "2021-07-28T19:43:20.167796",
     "exception": false,
     "start_time": "2021-07-28T19:43:20.064590",
     "status": "completed"
    },
    "tags": []
   },
   "outputs": [
    {
     "data": {
      "text/plain": [
       "5915.1567"
      ]
     },
     "execution_count": 270,
     "metadata": {},
     "output_type": "execute_result"
    }
   ],
   "source": [
    "X_input = input_merged_df[numeric_cols+encoded_cols]\n",
    "model.predict(X_input)[0]"
   ]
  }
 ],
 "metadata": {
  "kernelspec": {
   "display_name": "Python 3",
   "language": "python",
   "name": "python3"
  },
  "language_info": {
   "codemirror_mode": {
    "name": "ipython",
    "version": 3
   },
   "file_extension": ".py",
   "mimetype": "text/x-python",
   "name": "python",
   "nbconvert_exporter": "python",
   "pygments_lexer": "ipython3",
   "version": "3.11.4"
  },
  "papermill": {
   "default_parameters": {},
   "duration": 1047.207704,
   "end_time": "2021-07-28T19:43:21.856565",
   "environment_variables": {},
   "exception": null,
   "input_path": "__notebook__.ipynb",
   "output_path": "__notebook__.ipynb",
   "parameters": {},
   "start_time": "2021-07-28T19:25:54.648861",
   "version": "2.3.3"
  }
 },
 "nbformat": 4,
 "nbformat_minor": 5
}
